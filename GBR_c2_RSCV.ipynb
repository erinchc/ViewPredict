{
 "cells": [
  {
   "cell_type": "code",
   "execution_count": 1,
   "metadata": {},
   "outputs": [
    {
     "data": {
      "text/html": [
       "<div>\n",
       "<style scoped>\n",
       "    .dataframe tbody tr th:only-of-type {\n",
       "        vertical-align: middle;\n",
       "    }\n",
       "\n",
       "    .dataframe tbody tr th {\n",
       "        vertical-align: top;\n",
       "    }\n",
       "\n",
       "    .dataframe thead th {\n",
       "        text-align: right;\n",
       "    }\n",
       "</style>\n",
       "<table border=\"1\" class=\"dataframe\">\n",
       "  <thead>\n",
       "    <tr style=\"text-align: right;\">\n",
       "      <th></th>\n",
       "      <th>channel_name</th>\n",
       "      <th>video_title</th>\n",
       "      <th>views</th>\n",
       "      <th>comments</th>\n",
       "      <th>duration</th>\n",
       "      <th>likes</th>\n",
       "      <th>publish_date</th>\n",
       "      <th>category</th>\n",
       "      <th>channel_startdate</th>\n",
       "      <th>subscribers</th>\n",
       "      <th>channel_totalviews(10K)</th>\n",
       "      <th>Sensationalism_Score</th>\n",
       "      <th>cluster</th>\n",
       "    </tr>\n",
       "  </thead>\n",
       "  <tbody>\n",
       "    <tr>\n",
       "      <th>208</th>\n",
       "      <td>Joeman</td>\n",
       "      <td>高性價比的i9電競筆電！HP OMEN 16 intel i9-13900hx + RTX4...</td>\n",
       "      <td>185000</td>\n",
       "      <td>122</td>\n",
       "      <td>654</td>\n",
       "      <td>935</td>\n",
       "      <td>2023-11-01</td>\n",
       "      <td>People &amp; Blogs</td>\n",
       "      <td>2010-10-11</td>\n",
       "      <td>2590000</td>\n",
       "      <td>101544.6547</td>\n",
       "      <td>40</td>\n",
       "      <td>2</td>\n",
       "    </tr>\n",
       "    <tr>\n",
       "      <th>209</th>\n",
       "      <td>Joeman</td>\n",
       "      <td>52500元的奢華棒球場對決200元的平價棒球場！《Joe是要對決S2》Ep184 ft.琳...</td>\n",
       "      <td>526000</td>\n",
       "      <td>1330</td>\n",
       "      <td>1832</td>\n",
       "      <td>8000</td>\n",
       "      <td>2023-10-30</td>\n",
       "      <td>People &amp; Blogs</td>\n",
       "      <td>2010-10-11</td>\n",
       "      <td>2590000</td>\n",
       "      <td>101544.6547</td>\n",
       "      <td>22</td>\n",
       "      <td>2</td>\n",
       "    </tr>\n",
       "    <tr>\n",
       "      <th>210</th>\n",
       "      <td>Joeman</td>\n",
       "      <td>台灣無訊號的地方華為手機竟然還能打？Mate 60 Pro衛星通訊實測【Joeman】</td>\n",
       "      <td>409000</td>\n",
       "      <td>3046</td>\n",
       "      <td>737</td>\n",
       "      <td>7700</td>\n",
       "      <td>2023-10-28</td>\n",
       "      <td>People &amp; Blogs</td>\n",
       "      <td>2010-10-11</td>\n",
       "      <td>2590000</td>\n",
       "      <td>101544.6547</td>\n",
       "      <td>19</td>\n",
       "      <td>2</td>\n",
       "    </tr>\n",
       "    <tr>\n",
       "      <th>211</th>\n",
       "      <td>Joeman</td>\n",
       "      <td>跟兒子溫馨出遊！帶新豐街底迪出去玩一天！【Joeman】</td>\n",
       "      <td>270000</td>\n",
       "      <td>352</td>\n",
       "      <td>788</td>\n",
       "      <td>5000</td>\n",
       "      <td>2023-10-25</td>\n",
       "      <td>People &amp; Blogs</td>\n",
       "      <td>2010-10-11</td>\n",
       "      <td>2590000</td>\n",
       "      <td>101544.6547</td>\n",
       "      <td>13</td>\n",
       "      <td>2</td>\n",
       "    </tr>\n",
       "    <tr>\n",
       "      <th>212</th>\n",
       "      <td>Joeman</td>\n",
       "      <td>可以AI換臉的魔術手機 Pixel 8 Pro開箱【Joeman】</td>\n",
       "      <td>106000</td>\n",
       "      <td>243</td>\n",
       "      <td>912</td>\n",
       "      <td>2100</td>\n",
       "      <td>2023-10-24</td>\n",
       "      <td>People &amp; Blogs</td>\n",
       "      <td>2010-10-11</td>\n",
       "      <td>2590000</td>\n",
       "      <td>101544.6547</td>\n",
       "      <td>25</td>\n",
       "      <td>2</td>\n",
       "    </tr>\n",
       "  </tbody>\n",
       "</table>\n",
       "</div>"
      ],
      "text/plain": [
       "    channel_name                                        video_title   views  \\\n",
       "208       Joeman  高性價比的i9電競筆電！HP OMEN 16 intel i9-13900hx + RTX4...  185000   \n",
       "209       Joeman  52500元的奢華棒球場對決200元的平價棒球場！《Joe是要對決S2》Ep184 ft.琳...  526000   \n",
       "210       Joeman        台灣無訊號的地方華為手機竟然還能打？Mate 60 Pro衛星通訊實測【Joeman】  409000   \n",
       "211       Joeman                       跟兒子溫馨出遊！帶新豐街底迪出去玩一天！【Joeman】  270000   \n",
       "212       Joeman                  可以AI換臉的魔術手機 Pixel 8 Pro開箱【Joeman】  106000   \n",
       "\n",
       "     comments  duration  likes publish_date        category channel_startdate  \\\n",
       "208       122       654    935   2023-11-01  People & Blogs        2010-10-11   \n",
       "209      1330      1832   8000   2023-10-30  People & Blogs        2010-10-11   \n",
       "210      3046       737   7700   2023-10-28  People & Blogs        2010-10-11   \n",
       "211       352       788   5000   2023-10-25  People & Blogs        2010-10-11   \n",
       "212       243       912   2100   2023-10-24  People & Blogs        2010-10-11   \n",
       "\n",
       "     subscribers  channel_totalviews(10K)  Sensationalism_Score  cluster  \n",
       "208      2590000              101544.6547                    40        2  \n",
       "209      2590000              101544.6547                    22        2  \n",
       "210      2590000              101544.6547                    19        2  \n",
       "211      2590000              101544.6547                    13        2  \n",
       "212      2590000              101544.6547                    25        2  "
      ]
     },
     "execution_count": 1,
     "metadata": {},
     "output_type": "execute_result"
    }
   ],
   "source": [
    "import pandas as pd\n",
    "import datetime as dt\n",
    "data = pd.read_csv(\"yt_final.csv\", encoding = 'utf8')\n",
    "data = data[data['cluster'] == 2]\n",
    "data.head()"
   ]
  },
  {
   "cell_type": "code",
   "execution_count": 2,
   "metadata": {},
   "outputs": [],
   "source": [
    "data['publish_date'] = pd.to_datetime(data['publish_date'])\n",
    "data['channel_startdate'] = pd.to_datetime(data['channel_startdate'])\n",
    "current_date = pd.Timestamp('now')\n",
    "data['days_since_publish'] = (current_date - data['publish_date']).dt.days\n",
    "data['channel_age_days'] = (current_date - data['channel_startdate']).dt.days"
   ]
  },
  {
   "cell_type": "code",
   "execution_count": 3,
   "metadata": {},
   "outputs": [],
   "source": [
    "from sklearn.model_selection import train_test_split\n",
    "from sklearn.ensemble import GradientBoostingRegressor\n",
    "from sklearn.preprocessing import OneHotEncoder\n",
    "from sklearn.model_selection import RandomizedSearchCV\n",
    "from scipy.stats import uniform, randint"
   ]
  },
  {
   "cell_type": "code",
   "execution_count": 4,
   "metadata": {},
   "outputs": [],
   "source": [
    "# 設定特徵及目標變量\n",
    "features = data.drop(['views','channel_name', 'video_title', 'channel_startdate','cluster','likes', 'comments','publish_date','channel_totalviews(10K)'], axis = 1)\n",
    "target = data['views']\n"
   ]
  },
  {
   "cell_type": "code",
   "execution_count": 5,
   "metadata": {},
   "outputs": [
    {
     "name": "stderr",
     "output_type": "stream",
     "text": [
      "/Users/chenxingchun/opt/anaconda3/lib/python3.9/site-packages/sklearn/utils/deprecation.py:87: FutureWarning: Function get_feature_names is deprecated; get_feature_names is deprecated in 1.0 and will be removed in 1.2. Please use get_feature_names_out instead.\n",
      "  warnings.warn(msg, category=FutureWarning)\n"
     ]
    },
    {
     "data": {
      "text/html": [
       "<div>\n",
       "<style scoped>\n",
       "    .dataframe tbody tr th:only-of-type {\n",
       "        vertical-align: middle;\n",
       "    }\n",
       "\n",
       "    .dataframe tbody tr th {\n",
       "        vertical-align: top;\n",
       "    }\n",
       "\n",
       "    .dataframe thead th {\n",
       "        text-align: right;\n",
       "    }\n",
       "</style>\n",
       "<table border=\"1\" class=\"dataframe\">\n",
       "  <thead>\n",
       "    <tr style=\"text-align: right;\">\n",
       "      <th></th>\n",
       "      <th>duration</th>\n",
       "      <th>subscribers</th>\n",
       "      <th>Sensationalism_Score</th>\n",
       "      <th>days_since_publish</th>\n",
       "      <th>channel_age_days</th>\n",
       "      <th>category_Comedy</th>\n",
       "      <th>category_Education</th>\n",
       "      <th>category_Entertainment</th>\n",
       "      <th>category_Music</th>\n",
       "      <th>category_People &amp; Blogs</th>\n",
       "      <th>category_Sports</th>\n",
       "    </tr>\n",
       "  </thead>\n",
       "  <tbody>\n",
       "    <tr>\n",
       "      <th>0</th>\n",
       "      <td>654</td>\n",
       "      <td>2590000</td>\n",
       "      <td>40</td>\n",
       "      <td>20</td>\n",
       "      <td>4789</td>\n",
       "      <td>0.0</td>\n",
       "      <td>0.0</td>\n",
       "      <td>0.0</td>\n",
       "      <td>0.0</td>\n",
       "      <td>1.0</td>\n",
       "      <td>0.0</td>\n",
       "    </tr>\n",
       "    <tr>\n",
       "      <th>1</th>\n",
       "      <td>1832</td>\n",
       "      <td>2590000</td>\n",
       "      <td>22</td>\n",
       "      <td>22</td>\n",
       "      <td>4789</td>\n",
       "      <td>0.0</td>\n",
       "      <td>0.0</td>\n",
       "      <td>0.0</td>\n",
       "      <td>0.0</td>\n",
       "      <td>1.0</td>\n",
       "      <td>0.0</td>\n",
       "    </tr>\n",
       "    <tr>\n",
       "      <th>2</th>\n",
       "      <td>737</td>\n",
       "      <td>2590000</td>\n",
       "      <td>19</td>\n",
       "      <td>24</td>\n",
       "      <td>4789</td>\n",
       "      <td>0.0</td>\n",
       "      <td>0.0</td>\n",
       "      <td>0.0</td>\n",
       "      <td>0.0</td>\n",
       "      <td>1.0</td>\n",
       "      <td>0.0</td>\n",
       "    </tr>\n",
       "    <tr>\n",
       "      <th>3</th>\n",
       "      <td>788</td>\n",
       "      <td>2590000</td>\n",
       "      <td>13</td>\n",
       "      <td>27</td>\n",
       "      <td>4789</td>\n",
       "      <td>0.0</td>\n",
       "      <td>0.0</td>\n",
       "      <td>0.0</td>\n",
       "      <td>0.0</td>\n",
       "      <td>1.0</td>\n",
       "      <td>0.0</td>\n",
       "    </tr>\n",
       "    <tr>\n",
       "      <th>4</th>\n",
       "      <td>912</td>\n",
       "      <td>2590000</td>\n",
       "      <td>25</td>\n",
       "      <td>28</td>\n",
       "      <td>4789</td>\n",
       "      <td>0.0</td>\n",
       "      <td>0.0</td>\n",
       "      <td>0.0</td>\n",
       "      <td>0.0</td>\n",
       "      <td>1.0</td>\n",
       "      <td>0.0</td>\n",
       "    </tr>\n",
       "  </tbody>\n",
       "</table>\n",
       "</div>"
      ],
      "text/plain": [
       "   duration  subscribers  Sensationalism_Score  days_since_publish  \\\n",
       "0       654      2590000                    40                  20   \n",
       "1      1832      2590000                    22                  22   \n",
       "2       737      2590000                    19                  24   \n",
       "3       788      2590000                    13                  27   \n",
       "4       912      2590000                    25                  28   \n",
       "\n",
       "   channel_age_days  category_Comedy  category_Education  \\\n",
       "0              4789              0.0                 0.0   \n",
       "1              4789              0.0                 0.0   \n",
       "2              4789              0.0                 0.0   \n",
       "3              4789              0.0                 0.0   \n",
       "4              4789              0.0                 0.0   \n",
       "\n",
       "   category_Entertainment  category_Music  category_People & Blogs  \\\n",
       "0                     0.0             0.0                      1.0   \n",
       "1                     0.0             0.0                      1.0   \n",
       "2                     0.0             0.0                      1.0   \n",
       "3                     0.0             0.0                      1.0   \n",
       "4                     0.0             0.0                      1.0   \n",
       "\n",
       "   category_Sports  \n",
       "0              0.0  \n",
       "1              0.0  \n",
       "2              0.0  \n",
       "3              0.0  \n",
       "4              0.0  "
      ]
     },
     "execution_count": 5,
     "metadata": {},
     "output_type": "execute_result"
    }
   ],
   "source": [
    "# Apply One-Hot Encoding to 'category'\n",
    "one_hot_encoder = OneHotEncoder(sparse=False)\n",
    "category_encoded = one_hot_encoder.fit_transform(features[['category']])\n",
    "category_encoded_df = pd.DataFrame(category_encoded, columns=one_hot_encoder.get_feature_names(['category']))\n",
    "\n",
    "# Drop the original 'category' column and concatenate the one-hot encoded dataframe\n",
    "features = features.drop('category', axis=1)\n",
    "features_encoded = pd.concat([features.reset_index(drop=True), category_encoded_df], axis=1)\n",
    "\n",
    "features_encoded.head()  # Display the first few rows of the processed features"
   ]
  },
  {
   "cell_type": "code",
   "execution_count": 6,
   "metadata": {},
   "outputs": [
    {
     "name": "stdout",
     "output_type": "stream",
     "text": [
      "Best Parameters: {'learning_rate': 0.07161215837047784, 'max_depth': 6, 'min_samples_split': 4, 'n_estimators': 71, 'subsample': 0.7731968930137251}\n",
      "Best Score (r2): 0.856975388233159\n"
     ]
    }
   ],
   "source": [
    "X_train, X_test, y_train, y_test = train_test_split(features_encoded, target, test_size=0.2)\n",
    "# 建立RandomForestRegressor模型\n",
    "model = GradientBoostingRegressor(random_state=42)\n",
    "# 定義要搜索的参数分布\n",
    "param_distributions = {\n",
    "    'n_estimators': randint(50, 400), \n",
    "    'learning_rate': uniform(0.01, 0.2),\n",
    "    'max_depth': randint(3, 10), \n",
    "    'subsample': uniform(0.7, 0.3), \n",
    "    'min_samples_split': randint(2, 10) \n",
    "} \n",
    "# 建立RandomizedSearchCV\n",
    "random_search = RandomizedSearchCV(estimator=model, param_distributions=param_distributions, n_iter=100, cv=5, scoring='r2', n_jobs=-1, random_state=42)\n",
    "# 執行隨機搜索\n",
    "random_search.fit(X_train, y_train)\n",
    "\n",
    "# 最佳參數組合與評分\n",
    "best_parameters = random_search.best_params_\n",
    "best_score = random_search.best_score_\n",
    "\n",
    "print(f\"Best Parameters: {best_parameters}\")\n",
    "print(f\"Best Score (r2): {best_score}\")"
   ]
  },
  {
   "cell_type": "code",
   "execution_count": 7,
   "metadata": {},
   "outputs": [
    {
     "name": "stdout",
     "output_type": "stream",
     "text": [
      "Optimized Model Score (r2) on Test Data: 0.8815744815069452\n"
     ]
    }
   ],
   "source": [
    "# 使用這些參數初始化一個新的 GradientBoostingRegressor\n",
    "optimized_model = GradientBoostingRegressor(\n",
    "    n_estimators=best_parameters['n_estimators'],\n",
    "    learning_rate=best_parameters['learning_rate'],\n",
    "    max_depth=best_parameters['max_depth'],\n",
    "    subsample=best_parameters['subsample'],\n",
    "    min_samples_split=best_parameters['min_samples_split'],\n",
    "    random_state=42\n",
    ")\n",
    "# 訓練模型\n",
    "optimized_model.fit(X_train, y_train)\n",
    "#進行預測\n",
    "predicted = optimized_model.predict(X_test)\n",
    "# 評估模型性能\n",
    "optimized_score = optimized_model.score(X_test, y_test)\n",
    "print(f\"Optimized Model Score (r2) on Test Data: {optimized_score}\")"
   ]
  },
  {
   "cell_type": "markdown",
   "metadata": {},
   "source": [
    "### 特徵重要性"
   ]
  },
  {
   "cell_type": "code",
   "execution_count": 8,
   "metadata": {},
   "outputs": [
    {
     "data": {
      "application/vnd.plotly.v1+json": {
       "config": {
        "plotlyServerURL": "https://plot.ly"
       },
       "data": [
        {
         "marker": {
          "color": "#ffa500"
         },
         "text": [
          "0.61",
          "0.21",
          "0.09",
          "0.06",
          "0.03",
          "0.00",
          "0.00",
          "0.00",
          "0.00",
          "0.00"
         ],
         "textposition": "outside",
         "type": "bar",
         "width": 0.6,
         "x": [
          "subscribers",
          "days_since_publish",
          "duration",
          "Sensationalism_Score",
          "channel_age_days",
          "category_Music",
          "category_Entertainment",
          "category_Comedy",
          "category_People & Blogs",
          "category_Education"
         ],
         "y": [
          0.6107104611722031,
          0.21004142172560733,
          0.08755547930696693,
          0.06062179665744844,
          0.027757287629736678,
          0.0015024591977318472,
          0.0011846044145583416,
          0.0003409973460416777,
          0.00014971442378989858,
          0.00008422584930243933
         ]
        }
       ],
       "layout": {
        "bargap": 0.05,
        "margin": {
         "t": 50
        },
        "showlegend": false,
        "template": {
         "data": {
          "bar": [
           {
            "error_x": {
             "color": "#2a3f5f"
            },
            "error_y": {
             "color": "#2a3f5f"
            },
            "marker": {
             "line": {
              "color": "#E5ECF6",
              "width": 0.5
             },
             "pattern": {
              "fillmode": "overlay",
              "size": 10,
              "solidity": 0.2
             }
            },
            "type": "bar"
           }
          ],
          "barpolar": [
           {
            "marker": {
             "line": {
              "color": "#E5ECF6",
              "width": 0.5
             },
             "pattern": {
              "fillmode": "overlay",
              "size": 10,
              "solidity": 0.2
             }
            },
            "type": "barpolar"
           }
          ],
          "carpet": [
           {
            "aaxis": {
             "endlinecolor": "#2a3f5f",
             "gridcolor": "white",
             "linecolor": "white",
             "minorgridcolor": "white",
             "startlinecolor": "#2a3f5f"
            },
            "baxis": {
             "endlinecolor": "#2a3f5f",
             "gridcolor": "white",
             "linecolor": "white",
             "minorgridcolor": "white",
             "startlinecolor": "#2a3f5f"
            },
            "type": "carpet"
           }
          ],
          "choropleth": [
           {
            "colorbar": {
             "outlinewidth": 0,
             "ticks": ""
            },
            "type": "choropleth"
           }
          ],
          "contour": [
           {
            "colorbar": {
             "outlinewidth": 0,
             "ticks": ""
            },
            "colorscale": [
             [
              0,
              "#0d0887"
             ],
             [
              0.1111111111111111,
              "#46039f"
             ],
             [
              0.2222222222222222,
              "#7201a8"
             ],
             [
              0.3333333333333333,
              "#9c179e"
             ],
             [
              0.4444444444444444,
              "#bd3786"
             ],
             [
              0.5555555555555556,
              "#d8576b"
             ],
             [
              0.6666666666666666,
              "#ed7953"
             ],
             [
              0.7777777777777778,
              "#fb9f3a"
             ],
             [
              0.8888888888888888,
              "#fdca26"
             ],
             [
              1,
              "#f0f921"
             ]
            ],
            "type": "contour"
           }
          ],
          "contourcarpet": [
           {
            "colorbar": {
             "outlinewidth": 0,
             "ticks": ""
            },
            "type": "contourcarpet"
           }
          ],
          "heatmap": [
           {
            "colorbar": {
             "outlinewidth": 0,
             "ticks": ""
            },
            "colorscale": [
             [
              0,
              "#0d0887"
             ],
             [
              0.1111111111111111,
              "#46039f"
             ],
             [
              0.2222222222222222,
              "#7201a8"
             ],
             [
              0.3333333333333333,
              "#9c179e"
             ],
             [
              0.4444444444444444,
              "#bd3786"
             ],
             [
              0.5555555555555556,
              "#d8576b"
             ],
             [
              0.6666666666666666,
              "#ed7953"
             ],
             [
              0.7777777777777778,
              "#fb9f3a"
             ],
             [
              0.8888888888888888,
              "#fdca26"
             ],
             [
              1,
              "#f0f921"
             ]
            ],
            "type": "heatmap"
           }
          ],
          "heatmapgl": [
           {
            "colorbar": {
             "outlinewidth": 0,
             "ticks": ""
            },
            "colorscale": [
             [
              0,
              "#0d0887"
             ],
             [
              0.1111111111111111,
              "#46039f"
             ],
             [
              0.2222222222222222,
              "#7201a8"
             ],
             [
              0.3333333333333333,
              "#9c179e"
             ],
             [
              0.4444444444444444,
              "#bd3786"
             ],
             [
              0.5555555555555556,
              "#d8576b"
             ],
             [
              0.6666666666666666,
              "#ed7953"
             ],
             [
              0.7777777777777778,
              "#fb9f3a"
             ],
             [
              0.8888888888888888,
              "#fdca26"
             ],
             [
              1,
              "#f0f921"
             ]
            ],
            "type": "heatmapgl"
           }
          ],
          "histogram": [
           {
            "marker": {
             "pattern": {
              "fillmode": "overlay",
              "size": 10,
              "solidity": 0.2
             }
            },
            "type": "histogram"
           }
          ],
          "histogram2d": [
           {
            "colorbar": {
             "outlinewidth": 0,
             "ticks": ""
            },
            "colorscale": [
             [
              0,
              "#0d0887"
             ],
             [
              0.1111111111111111,
              "#46039f"
             ],
             [
              0.2222222222222222,
              "#7201a8"
             ],
             [
              0.3333333333333333,
              "#9c179e"
             ],
             [
              0.4444444444444444,
              "#bd3786"
             ],
             [
              0.5555555555555556,
              "#d8576b"
             ],
             [
              0.6666666666666666,
              "#ed7953"
             ],
             [
              0.7777777777777778,
              "#fb9f3a"
             ],
             [
              0.8888888888888888,
              "#fdca26"
             ],
             [
              1,
              "#f0f921"
             ]
            ],
            "type": "histogram2d"
           }
          ],
          "histogram2dcontour": [
           {
            "colorbar": {
             "outlinewidth": 0,
             "ticks": ""
            },
            "colorscale": [
             [
              0,
              "#0d0887"
             ],
             [
              0.1111111111111111,
              "#46039f"
             ],
             [
              0.2222222222222222,
              "#7201a8"
             ],
             [
              0.3333333333333333,
              "#9c179e"
             ],
             [
              0.4444444444444444,
              "#bd3786"
             ],
             [
              0.5555555555555556,
              "#d8576b"
             ],
             [
              0.6666666666666666,
              "#ed7953"
             ],
             [
              0.7777777777777778,
              "#fb9f3a"
             ],
             [
              0.8888888888888888,
              "#fdca26"
             ],
             [
              1,
              "#f0f921"
             ]
            ],
            "type": "histogram2dcontour"
           }
          ],
          "mesh3d": [
           {
            "colorbar": {
             "outlinewidth": 0,
             "ticks": ""
            },
            "type": "mesh3d"
           }
          ],
          "parcoords": [
           {
            "line": {
             "colorbar": {
              "outlinewidth": 0,
              "ticks": ""
             }
            },
            "type": "parcoords"
           }
          ],
          "pie": [
           {
            "automargin": true,
            "type": "pie"
           }
          ],
          "scatter": [
           {
            "fillpattern": {
             "fillmode": "overlay",
             "size": 10,
             "solidity": 0.2
            },
            "type": "scatter"
           }
          ],
          "scatter3d": [
           {
            "line": {
             "colorbar": {
              "outlinewidth": 0,
              "ticks": ""
             }
            },
            "marker": {
             "colorbar": {
              "outlinewidth": 0,
              "ticks": ""
             }
            },
            "type": "scatter3d"
           }
          ],
          "scattercarpet": [
           {
            "marker": {
             "colorbar": {
              "outlinewidth": 0,
              "ticks": ""
             }
            },
            "type": "scattercarpet"
           }
          ],
          "scattergeo": [
           {
            "marker": {
             "colorbar": {
              "outlinewidth": 0,
              "ticks": ""
             }
            },
            "type": "scattergeo"
           }
          ],
          "scattergl": [
           {
            "marker": {
             "colorbar": {
              "outlinewidth": 0,
              "ticks": ""
             }
            },
            "type": "scattergl"
           }
          ],
          "scattermapbox": [
           {
            "marker": {
             "colorbar": {
              "outlinewidth": 0,
              "ticks": ""
             }
            },
            "type": "scattermapbox"
           }
          ],
          "scatterpolar": [
           {
            "marker": {
             "colorbar": {
              "outlinewidth": 0,
              "ticks": ""
             }
            },
            "type": "scatterpolar"
           }
          ],
          "scatterpolargl": [
           {
            "marker": {
             "colorbar": {
              "outlinewidth": 0,
              "ticks": ""
             }
            },
            "type": "scatterpolargl"
           }
          ],
          "scatterternary": [
           {
            "marker": {
             "colorbar": {
              "outlinewidth": 0,
              "ticks": ""
             }
            },
            "type": "scatterternary"
           }
          ],
          "surface": [
           {
            "colorbar": {
             "outlinewidth": 0,
             "ticks": ""
            },
            "colorscale": [
             [
              0,
              "#0d0887"
             ],
             [
              0.1111111111111111,
              "#46039f"
             ],
             [
              0.2222222222222222,
              "#7201a8"
             ],
             [
              0.3333333333333333,
              "#9c179e"
             ],
             [
              0.4444444444444444,
              "#bd3786"
             ],
             [
              0.5555555555555556,
              "#d8576b"
             ],
             [
              0.6666666666666666,
              "#ed7953"
             ],
             [
              0.7777777777777778,
              "#fb9f3a"
             ],
             [
              0.8888888888888888,
              "#fdca26"
             ],
             [
              1,
              "#f0f921"
             ]
            ],
            "type": "surface"
           }
          ],
          "table": [
           {
            "cells": {
             "fill": {
              "color": "#EBF0F8"
             },
             "line": {
              "color": "white"
             }
            },
            "header": {
             "fill": {
              "color": "#C8D4E3"
             },
             "line": {
              "color": "white"
             }
            },
            "type": "table"
           }
          ]
         },
         "layout": {
          "annotationdefaults": {
           "arrowcolor": "#2a3f5f",
           "arrowhead": 0,
           "arrowwidth": 1
          },
          "autotypenumbers": "strict",
          "coloraxis": {
           "colorbar": {
            "outlinewidth": 0,
            "ticks": ""
           }
          },
          "colorscale": {
           "diverging": [
            [
             0,
             "#8e0152"
            ],
            [
             0.1,
             "#c51b7d"
            ],
            [
             0.2,
             "#de77ae"
            ],
            [
             0.3,
             "#f1b6da"
            ],
            [
             0.4,
             "#fde0ef"
            ],
            [
             0.5,
             "#f7f7f7"
            ],
            [
             0.6,
             "#e6f5d0"
            ],
            [
             0.7,
             "#b8e186"
            ],
            [
             0.8,
             "#7fbc41"
            ],
            [
             0.9,
             "#4d9221"
            ],
            [
             1,
             "#276419"
            ]
           ],
           "sequential": [
            [
             0,
             "#0d0887"
            ],
            [
             0.1111111111111111,
             "#46039f"
            ],
            [
             0.2222222222222222,
             "#7201a8"
            ],
            [
             0.3333333333333333,
             "#9c179e"
            ],
            [
             0.4444444444444444,
             "#bd3786"
            ],
            [
             0.5555555555555556,
             "#d8576b"
            ],
            [
             0.6666666666666666,
             "#ed7953"
            ],
            [
             0.7777777777777778,
             "#fb9f3a"
            ],
            [
             0.8888888888888888,
             "#fdca26"
            ],
            [
             1,
             "#f0f921"
            ]
           ],
           "sequentialminus": [
            [
             0,
             "#0d0887"
            ],
            [
             0.1111111111111111,
             "#46039f"
            ],
            [
             0.2222222222222222,
             "#7201a8"
            ],
            [
             0.3333333333333333,
             "#9c179e"
            ],
            [
             0.4444444444444444,
             "#bd3786"
            ],
            [
             0.5555555555555556,
             "#d8576b"
            ],
            [
             0.6666666666666666,
             "#ed7953"
            ],
            [
             0.7777777777777778,
             "#fb9f3a"
            ],
            [
             0.8888888888888888,
             "#fdca26"
            ],
            [
             1,
             "#f0f921"
            ]
           ]
          },
          "colorway": [
           "#636efa",
           "#EF553B",
           "#00cc96",
           "#ab63fa",
           "#FFA15A",
           "#19d3f3",
           "#FF6692",
           "#B6E880",
           "#FF97FF",
           "#FECB52"
          ],
          "font": {
           "color": "#2a3f5f"
          },
          "geo": {
           "bgcolor": "white",
           "lakecolor": "white",
           "landcolor": "#E5ECF6",
           "showlakes": true,
           "showland": true,
           "subunitcolor": "white"
          },
          "hoverlabel": {
           "align": "left"
          },
          "hovermode": "closest",
          "mapbox": {
           "style": "light"
          },
          "paper_bgcolor": "white",
          "plot_bgcolor": "#E5ECF6",
          "polar": {
           "angularaxis": {
            "gridcolor": "white",
            "linecolor": "white",
            "ticks": ""
           },
           "bgcolor": "#E5ECF6",
           "radialaxis": {
            "gridcolor": "white",
            "linecolor": "white",
            "ticks": ""
           }
          },
          "scene": {
           "xaxis": {
            "backgroundcolor": "#E5ECF6",
            "gridcolor": "white",
            "gridwidth": 2,
            "linecolor": "white",
            "showbackground": true,
            "ticks": "",
            "zerolinecolor": "white"
           },
           "yaxis": {
            "backgroundcolor": "#E5ECF6",
            "gridcolor": "white",
            "gridwidth": 2,
            "linecolor": "white",
            "showbackground": true,
            "ticks": "",
            "zerolinecolor": "white"
           },
           "zaxis": {
            "backgroundcolor": "#E5ECF6",
            "gridcolor": "white",
            "gridwidth": 2,
            "linecolor": "white",
            "showbackground": true,
            "ticks": "",
            "zerolinecolor": "white"
           }
          },
          "shapedefaults": {
           "line": {
            "color": "#2a3f5f"
           }
          },
          "ternary": {
           "aaxis": {
            "gridcolor": "white",
            "linecolor": "white",
            "ticks": ""
           },
           "baxis": {
            "gridcolor": "white",
            "linecolor": "white",
            "ticks": ""
           },
           "bgcolor": "#E5ECF6",
           "caxis": {
            "gridcolor": "white",
            "linecolor": "white",
            "ticks": ""
           }
          },
          "title": {
           "x": 0.05
          },
          "xaxis": {
           "automargin": true,
           "gridcolor": "white",
           "linecolor": "white",
           "ticks": "",
           "title": {
            "standoff": 15
           },
           "zerolinecolor": "white",
           "zerolinewidth": 2
          },
          "yaxis": {
           "automargin": true,
           "gridcolor": "white",
           "linecolor": "white",
           "ticks": "",
           "title": {
            "standoff": 15
           },
           "zerolinecolor": "white",
           "zerolinewidth": 2
          }
         }
        },
        "title": {
         "text": "Top 10 Feature Importances in Gradient Boosting Regressor Model",
         "x": 0.5,
         "xanchor": "center",
         "y": 0.98,
         "yanchor": "top"
        },
        "width": 600,
        "xaxis": {
         "tickangle": -45,
         "tickfont": {
          "size": 14
         },
         "title": {
          "text": "Feature"
         }
        },
        "yaxis": {
         "range": [
          0,
          0.6717815072894234
         ],
         "title": {
          "text": "Importance"
         }
        }
       }
      }
     },
     "metadata": {},
     "output_type": "display_data"
    }
   ],
   "source": [
    "import plotly.graph_objects as go\n",
    "feature_importances = optimized_model.feature_importances_\n",
    "feature_names = X_train.columns\n",
    "\n",
    "# 創建特徵重要性的DataFrame\n",
    "importances_df = pd.DataFrame({'feature': feature_names, 'importance': feature_importances})\n",
    "importances_df = importances_df.sort_values(by='importance', ascending=False)\n",
    "\n",
    "# 創建圖表\n",
    "fig = go.Figure(go.Bar(\n",
    "    x=importances_df['feature'][:10],\n",
    "    y=importances_df['importance'][:10],\n",
    "    text=importances_df['importance'][:10].apply(lambda x: f'{x:.2f}'),\n",
    "    textposition='outside',\n",
    "    marker_color='#ffa500',\n",
    "    width=0.6\n",
    "))\n",
    "\n",
    "# 調整布局\n",
    "fig.update_layout(\n",
    "    title={\n",
    "        'text': 'Top 10 Feature Importances in Gradient Boosting Regressor Model',\n",
    "        'y':0.98,  # 標題在垂直方向的位置\n",
    "        'x':0.5,  # 標題在水平方向的位置\n",
    "        'xanchor': 'center',  # 確保標題的中心在 x 的位置\n",
    "        'yanchor': 'top'      # 確保標題的底部在 y 的位置\n",
    "    },\n",
    "    xaxis=dict(\n",
    "        title='Feature',\n",
    "        tickangle=-45,\n",
    "        tickfont=dict(size=14)\n",
    "    ),\n",
    "    yaxis=dict(\n",
    "        title='Importance',\n",
    "        range=[0, 1.1 * max(importances_df['importance'][:10])]\n",
    "    ),\n",
    "    margin=dict(t=50),  # 可能需要根據標題的大小調整邊距\n",
    "    showlegend=False,\n",
    "    bargap=0.05,\n",
    "    width=600, # 調整圖表的寬度\n",
    ")\n",
    "\n",
    "# 顯示圖表\n",
    "fig.show()"
   ]
  },
  {
   "cell_type": "markdown",
   "metadata": {},
   "source": [
    "### 實際值vs預測值"
   ]
  },
  {
   "cell_type": "code",
   "execution_count": 9,
   "metadata": {},
   "outputs": [
    {
     "data": {
      "application/vnd.plotly.v1+json": {
       "config": {
        "plotlyServerURL": "https://plot.ly"
       },
       "data": [
        {
         "hovertemplate": "Actual Views=%{x}<br>Predicted Views=%{y}<extra></extra>",
         "legendgroup": "",
         "marker": {
          "color": "#ffa500",
          "opacity": 0.7,
          "symbol": "circle"
         },
         "mode": "markers",
         "name": "",
         "orientation": "v",
         "showlegend": false,
         "type": "scatter",
         "x": [
          1540000,
          1000000,
          360000,
          758000,
          730000,
          260000,
          4450000,
          1100000,
          2930000,
          870000,
          3810000,
          1030000,
          400000,
          3600000,
          770000,
          480000,
          695000,
          261000,
          143000,
          420000,
          8510000,
          2490000,
          350000,
          3860000,
          5230000,
          500000,
          120000,
          1250000,
          770000,
          114000,
          4660000,
          520000,
          1300000,
          194000,
          250000,
          550000,
          6380000,
          5320000,
          6230000,
          560000,
          277000,
          970000,
          659000,
          140000,
          8260000,
          209000,
          3700000,
          110000,
          345000,
          4800000,
          2440000,
          530000,
          424000,
          8370000,
          4420000,
          601000,
          327000,
          206000,
          550000,
          993000,
          6870000,
          100000,
          550000,
          5130000,
          5470000,
          110000,
          53000,
          300000,
          380000,
          4660000,
          1320000,
          5710000,
          7520000,
          5180000,
          751000,
          1540000,
          4140000,
          350000,
          5100000,
          3780000,
          3450000,
          4710000,
          551000,
          169000,
          1200000,
          4080000,
          153000,
          212000,
          7240000,
          1630000,
          1570000,
          5740000,
          797000,
          89000,
          4540000,
          2400000,
          445000,
          3820000,
          93000,
          1000000,
          380000,
          216000,
          480000,
          170000,
          280000,
          4110000,
          1100000,
          390000,
          185000,
          4420000,
          870000,
          8510000,
          4710000,
          5430000,
          94000,
          290000,
          782000,
          6030000,
          885000,
          224000,
          843000,
          3270000,
          320000,
          340000,
          2740000,
          5850000,
          763000,
          4520000,
          120000,
          1030000,
          192000,
          877000,
          2180000,
          330000,
          1000000,
          508000,
          4160000,
          332000,
          4600000,
          3160000,
          527000,
          160000,
          134000,
          10510000,
          3620000,
          277000,
          1900000,
          3360000,
          94000,
          1640000,
          370000,
          662000,
          770000,
          160000,
          6320000,
          1100000,
          157000,
          608000,
          4220000,
          131000,
          380000,
          176000,
          225000,
          3710000,
          5320000,
          5260000,
          3340000,
          689000,
          190000,
          556000,
          9000000,
          5400000,
          6060000,
          251000,
          666000,
          230000,
          380000,
          87000,
          1590000,
          3180000,
          3980000
         ],
         "xaxis": "x",
         "y": [
          2325210.278431371,
          715360.2298587068,
          448347.18951924314,
          368552.61445854563,
          663235.7574714157,
          295273.72006611945,
          4230723.442731831,
          316235.6655091059,
          2638678.6836250005,
          1441717.261388358,
          2513824.4005145202,
          824906.1838600443,
          344486.48791412235,
          4007594.953690387,
          342733.09860584635,
          237632.90747922784,
          530513.9654775287,
          506102.3717491273,
          531935.5119063661,
          191924.2655429595,
          8958960.771121662,
          2308688.5798990657,
          226939.3108930001,
          5662384.447610042,
          6779322.960928352,
          555365.3666715724,
          322635.58792395785,
          2283661.412076783,
          523016.4401261758,
          328821.58572418796,
          5315848.935161725,
          429692.7123391433,
          618498.5792850278,
          445068.61841038615,
          453816.87617410475,
          482380.44625620014,
          5696650.763372943,
          3803763.856140507,
          6126443.368966817,
          679802.5609690645,
          450517.86621419067,
          293103.3635125241,
          976407.4003404354,
          323794.65006240923,
          5815370.757527117,
          640800.4222237171,
          4428041.20486169,
          419989.0447822508,
          596652.753817502,
          4418089.316629768,
          3047195.5861124326,
          847537.8746524464,
          602035.1396095798,
          5302691.8385441275,
          5018985.182440833,
          693636.541248677,
          718431.8459171273,
          360290.4186318162,
          464188.32002582814,
          560703.3537690765,
          7027475.928550855,
          348523.4002299082,
          380736.77223750326,
          5465715.657618602,
          5421836.100636552,
          317461.50346346496,
          284544.97712716507,
          311659.3568819174,
          341025.2731322703,
          5778733.287938106,
          2231968.5935433987,
          6416837.508244408,
          8891822.479978265,
          5921164.7654258115,
          504766.714299223,
          1549283.6688004571,
          5177212.621506682,
          497785.607097999,
          5604168.92343112,
          5908049.4023823375,
          3855593.884767581,
          5151785.994906189,
          520283.079925179,
          415942.21284536214,
          287805.04200083186,
          4619127.171994409,
          178730.28633784482,
          212136.20065528818,
          4868810.97306101,
          2311739.8839676757,
          2527910.9633845952,
          3793397.3142579426,
          743257.5282849357,
          323904.3867153506,
          4612133.014381056,
          1312320.9243869667,
          820051.7002150922,
          4784945.917533445,
          135910.16309498827,
          928626.7702322215,
          339120.95517158875,
          259732.14030092786,
          392394.53314033634,
          682539.1683843015,
          573478.6713160402,
          4986849.928497208,
          557733.4460636355,
          247175.865904095,
          316001.4901526547,
          5500141.485028845,
          343347.16803096683,
          5523273.793367156,
          4927306.002873828,
          4578614.095656675,
          124977.89969159971,
          384886.6911497199,
          871245.4287824258,
          5048634.537629615,
          794599.4567565728,
          605480.099191697,
          665566.2510200146,
          3602397.5764075457,
          323904.3867153506,
          428062.9683489072,
          2198582.372462111,
          6416837.508244408,
          600160.5107334595,
          5567849.04900501,
          387546.1799406018,
          597283.9615957006,
          366403.78317714017,
          1214099.3687295192,
          1335014.2621264316,
          471537.97234457126,
          746639.6959827978,
          901520.7100966141,
          4819952.367109143,
          283448.75715166464,
          5401565.556444934,
          3438923.007566374,
          798484.3532221966,
          465501.56253550114,
          205531.72602517402,
          5583018.047112702,
          4427869.268248599,
          493050.3266972628,
          523068.66157696757,
          2964510.1943350206,
          204549.97170040576,
          572745.7562789378,
          303185.6558997768,
          502178.7397852642,
          511449.11463059735,
          1232574.4812759766,
          6438598.008658917,
          565646.7438020085,
          378627.5910628632,
          841457.8198799534,
          4384058.2242776705,
          410937.2884235167,
          311330.24993528536,
          447642.6962705166,
          173294.38451724482,
          1738675.9201227457,
          5415758.84818776,
          6099634.583598725,
          5625001.572378842,
          303829.1795705199,
          381060.2325859586,
          260358.8867087127,
          8107423.385054014,
          5831590.551736809,
          5849061.447128946,
          295746.99398681347,
          730657.3870860701,
          352582.2191874912,
          291034.85014129675,
          183936.392395228,
          1352347.7312688471,
          3108618.0507985186,
          4667972.122432586
         ],
         "yaxis": "y"
        }
       ],
       "layout": {
        "legend": {
         "tracegroupgap": 0
        },
        "shapes": [
         {
          "line": {
           "color": "gray",
           "dash": "dash"
          },
          "type": "line",
          "x0": 53000,
          "x1": 10510000,
          "y0": 53000,
          "y1": 10510000
         }
        ],
        "template": {
         "data": {
          "bar": [
           {
            "error_x": {
             "color": "#2a3f5f"
            },
            "error_y": {
             "color": "#2a3f5f"
            },
            "marker": {
             "line": {
              "color": "#E5ECF6",
              "width": 0.5
             },
             "pattern": {
              "fillmode": "overlay",
              "size": 10,
              "solidity": 0.2
             }
            },
            "type": "bar"
           }
          ],
          "barpolar": [
           {
            "marker": {
             "line": {
              "color": "#E5ECF6",
              "width": 0.5
             },
             "pattern": {
              "fillmode": "overlay",
              "size": 10,
              "solidity": 0.2
             }
            },
            "type": "barpolar"
           }
          ],
          "carpet": [
           {
            "aaxis": {
             "endlinecolor": "#2a3f5f",
             "gridcolor": "white",
             "linecolor": "white",
             "minorgridcolor": "white",
             "startlinecolor": "#2a3f5f"
            },
            "baxis": {
             "endlinecolor": "#2a3f5f",
             "gridcolor": "white",
             "linecolor": "white",
             "minorgridcolor": "white",
             "startlinecolor": "#2a3f5f"
            },
            "type": "carpet"
           }
          ],
          "choropleth": [
           {
            "colorbar": {
             "outlinewidth": 0,
             "ticks": ""
            },
            "type": "choropleth"
           }
          ],
          "contour": [
           {
            "colorbar": {
             "outlinewidth": 0,
             "ticks": ""
            },
            "colorscale": [
             [
              0,
              "#0d0887"
             ],
             [
              0.1111111111111111,
              "#46039f"
             ],
             [
              0.2222222222222222,
              "#7201a8"
             ],
             [
              0.3333333333333333,
              "#9c179e"
             ],
             [
              0.4444444444444444,
              "#bd3786"
             ],
             [
              0.5555555555555556,
              "#d8576b"
             ],
             [
              0.6666666666666666,
              "#ed7953"
             ],
             [
              0.7777777777777778,
              "#fb9f3a"
             ],
             [
              0.8888888888888888,
              "#fdca26"
             ],
             [
              1,
              "#f0f921"
             ]
            ],
            "type": "contour"
           }
          ],
          "contourcarpet": [
           {
            "colorbar": {
             "outlinewidth": 0,
             "ticks": ""
            },
            "type": "contourcarpet"
           }
          ],
          "heatmap": [
           {
            "colorbar": {
             "outlinewidth": 0,
             "ticks": ""
            },
            "colorscale": [
             [
              0,
              "#0d0887"
             ],
             [
              0.1111111111111111,
              "#46039f"
             ],
             [
              0.2222222222222222,
              "#7201a8"
             ],
             [
              0.3333333333333333,
              "#9c179e"
             ],
             [
              0.4444444444444444,
              "#bd3786"
             ],
             [
              0.5555555555555556,
              "#d8576b"
             ],
             [
              0.6666666666666666,
              "#ed7953"
             ],
             [
              0.7777777777777778,
              "#fb9f3a"
             ],
             [
              0.8888888888888888,
              "#fdca26"
             ],
             [
              1,
              "#f0f921"
             ]
            ],
            "type": "heatmap"
           }
          ],
          "heatmapgl": [
           {
            "colorbar": {
             "outlinewidth": 0,
             "ticks": ""
            },
            "colorscale": [
             [
              0,
              "#0d0887"
             ],
             [
              0.1111111111111111,
              "#46039f"
             ],
             [
              0.2222222222222222,
              "#7201a8"
             ],
             [
              0.3333333333333333,
              "#9c179e"
             ],
             [
              0.4444444444444444,
              "#bd3786"
             ],
             [
              0.5555555555555556,
              "#d8576b"
             ],
             [
              0.6666666666666666,
              "#ed7953"
             ],
             [
              0.7777777777777778,
              "#fb9f3a"
             ],
             [
              0.8888888888888888,
              "#fdca26"
             ],
             [
              1,
              "#f0f921"
             ]
            ],
            "type": "heatmapgl"
           }
          ],
          "histogram": [
           {
            "marker": {
             "pattern": {
              "fillmode": "overlay",
              "size": 10,
              "solidity": 0.2
             }
            },
            "type": "histogram"
           }
          ],
          "histogram2d": [
           {
            "colorbar": {
             "outlinewidth": 0,
             "ticks": ""
            },
            "colorscale": [
             [
              0,
              "#0d0887"
             ],
             [
              0.1111111111111111,
              "#46039f"
             ],
             [
              0.2222222222222222,
              "#7201a8"
             ],
             [
              0.3333333333333333,
              "#9c179e"
             ],
             [
              0.4444444444444444,
              "#bd3786"
             ],
             [
              0.5555555555555556,
              "#d8576b"
             ],
             [
              0.6666666666666666,
              "#ed7953"
             ],
             [
              0.7777777777777778,
              "#fb9f3a"
             ],
             [
              0.8888888888888888,
              "#fdca26"
             ],
             [
              1,
              "#f0f921"
             ]
            ],
            "type": "histogram2d"
           }
          ],
          "histogram2dcontour": [
           {
            "colorbar": {
             "outlinewidth": 0,
             "ticks": ""
            },
            "colorscale": [
             [
              0,
              "#0d0887"
             ],
             [
              0.1111111111111111,
              "#46039f"
             ],
             [
              0.2222222222222222,
              "#7201a8"
             ],
             [
              0.3333333333333333,
              "#9c179e"
             ],
             [
              0.4444444444444444,
              "#bd3786"
             ],
             [
              0.5555555555555556,
              "#d8576b"
             ],
             [
              0.6666666666666666,
              "#ed7953"
             ],
             [
              0.7777777777777778,
              "#fb9f3a"
             ],
             [
              0.8888888888888888,
              "#fdca26"
             ],
             [
              1,
              "#f0f921"
             ]
            ],
            "type": "histogram2dcontour"
           }
          ],
          "mesh3d": [
           {
            "colorbar": {
             "outlinewidth": 0,
             "ticks": ""
            },
            "type": "mesh3d"
           }
          ],
          "parcoords": [
           {
            "line": {
             "colorbar": {
              "outlinewidth": 0,
              "ticks": ""
             }
            },
            "type": "parcoords"
           }
          ],
          "pie": [
           {
            "automargin": true,
            "type": "pie"
           }
          ],
          "scatter": [
           {
            "fillpattern": {
             "fillmode": "overlay",
             "size": 10,
             "solidity": 0.2
            },
            "type": "scatter"
           }
          ],
          "scatter3d": [
           {
            "line": {
             "colorbar": {
              "outlinewidth": 0,
              "ticks": ""
             }
            },
            "marker": {
             "colorbar": {
              "outlinewidth": 0,
              "ticks": ""
             }
            },
            "type": "scatter3d"
           }
          ],
          "scattercarpet": [
           {
            "marker": {
             "colorbar": {
              "outlinewidth": 0,
              "ticks": ""
             }
            },
            "type": "scattercarpet"
           }
          ],
          "scattergeo": [
           {
            "marker": {
             "colorbar": {
              "outlinewidth": 0,
              "ticks": ""
             }
            },
            "type": "scattergeo"
           }
          ],
          "scattergl": [
           {
            "marker": {
             "colorbar": {
              "outlinewidth": 0,
              "ticks": ""
             }
            },
            "type": "scattergl"
           }
          ],
          "scattermapbox": [
           {
            "marker": {
             "colorbar": {
              "outlinewidth": 0,
              "ticks": ""
             }
            },
            "type": "scattermapbox"
           }
          ],
          "scatterpolar": [
           {
            "marker": {
             "colorbar": {
              "outlinewidth": 0,
              "ticks": ""
             }
            },
            "type": "scatterpolar"
           }
          ],
          "scatterpolargl": [
           {
            "marker": {
             "colorbar": {
              "outlinewidth": 0,
              "ticks": ""
             }
            },
            "type": "scatterpolargl"
           }
          ],
          "scatterternary": [
           {
            "marker": {
             "colorbar": {
              "outlinewidth": 0,
              "ticks": ""
             }
            },
            "type": "scatterternary"
           }
          ],
          "surface": [
           {
            "colorbar": {
             "outlinewidth": 0,
             "ticks": ""
            },
            "colorscale": [
             [
              0,
              "#0d0887"
             ],
             [
              0.1111111111111111,
              "#46039f"
             ],
             [
              0.2222222222222222,
              "#7201a8"
             ],
             [
              0.3333333333333333,
              "#9c179e"
             ],
             [
              0.4444444444444444,
              "#bd3786"
             ],
             [
              0.5555555555555556,
              "#d8576b"
             ],
             [
              0.6666666666666666,
              "#ed7953"
             ],
             [
              0.7777777777777778,
              "#fb9f3a"
             ],
             [
              0.8888888888888888,
              "#fdca26"
             ],
             [
              1,
              "#f0f921"
             ]
            ],
            "type": "surface"
           }
          ],
          "table": [
           {
            "cells": {
             "fill": {
              "color": "#EBF0F8"
             },
             "line": {
              "color": "white"
             }
            },
            "header": {
             "fill": {
              "color": "#C8D4E3"
             },
             "line": {
              "color": "white"
             }
            },
            "type": "table"
           }
          ]
         },
         "layout": {
          "annotationdefaults": {
           "arrowcolor": "#2a3f5f",
           "arrowhead": 0,
           "arrowwidth": 1
          },
          "autotypenumbers": "strict",
          "coloraxis": {
           "colorbar": {
            "outlinewidth": 0,
            "ticks": ""
           }
          },
          "colorscale": {
           "diverging": [
            [
             0,
             "#8e0152"
            ],
            [
             0.1,
             "#c51b7d"
            ],
            [
             0.2,
             "#de77ae"
            ],
            [
             0.3,
             "#f1b6da"
            ],
            [
             0.4,
             "#fde0ef"
            ],
            [
             0.5,
             "#f7f7f7"
            ],
            [
             0.6,
             "#e6f5d0"
            ],
            [
             0.7,
             "#b8e186"
            ],
            [
             0.8,
             "#7fbc41"
            ],
            [
             0.9,
             "#4d9221"
            ],
            [
             1,
             "#276419"
            ]
           ],
           "sequential": [
            [
             0,
             "#0d0887"
            ],
            [
             0.1111111111111111,
             "#46039f"
            ],
            [
             0.2222222222222222,
             "#7201a8"
            ],
            [
             0.3333333333333333,
             "#9c179e"
            ],
            [
             0.4444444444444444,
             "#bd3786"
            ],
            [
             0.5555555555555556,
             "#d8576b"
            ],
            [
             0.6666666666666666,
             "#ed7953"
            ],
            [
             0.7777777777777778,
             "#fb9f3a"
            ],
            [
             0.8888888888888888,
             "#fdca26"
            ],
            [
             1,
             "#f0f921"
            ]
           ],
           "sequentialminus": [
            [
             0,
             "#0d0887"
            ],
            [
             0.1111111111111111,
             "#46039f"
            ],
            [
             0.2222222222222222,
             "#7201a8"
            ],
            [
             0.3333333333333333,
             "#9c179e"
            ],
            [
             0.4444444444444444,
             "#bd3786"
            ],
            [
             0.5555555555555556,
             "#d8576b"
            ],
            [
             0.6666666666666666,
             "#ed7953"
            ],
            [
             0.7777777777777778,
             "#fb9f3a"
            ],
            [
             0.8888888888888888,
             "#fdca26"
            ],
            [
             1,
             "#f0f921"
            ]
           ]
          },
          "colorway": [
           "#636efa",
           "#EF553B",
           "#00cc96",
           "#ab63fa",
           "#FFA15A",
           "#19d3f3",
           "#FF6692",
           "#B6E880",
           "#FF97FF",
           "#FECB52"
          ],
          "font": {
           "color": "#2a3f5f"
          },
          "geo": {
           "bgcolor": "white",
           "lakecolor": "white",
           "landcolor": "#E5ECF6",
           "showlakes": true,
           "showland": true,
           "subunitcolor": "white"
          },
          "hoverlabel": {
           "align": "left"
          },
          "hovermode": "closest",
          "mapbox": {
           "style": "light"
          },
          "paper_bgcolor": "white",
          "plot_bgcolor": "#E5ECF6",
          "polar": {
           "angularaxis": {
            "gridcolor": "white",
            "linecolor": "white",
            "ticks": ""
           },
           "bgcolor": "#E5ECF6",
           "radialaxis": {
            "gridcolor": "white",
            "linecolor": "white",
            "ticks": ""
           }
          },
          "scene": {
           "xaxis": {
            "backgroundcolor": "#E5ECF6",
            "gridcolor": "white",
            "gridwidth": 2,
            "linecolor": "white",
            "showbackground": true,
            "ticks": "",
            "zerolinecolor": "white"
           },
           "yaxis": {
            "backgroundcolor": "#E5ECF6",
            "gridcolor": "white",
            "gridwidth": 2,
            "linecolor": "white",
            "showbackground": true,
            "ticks": "",
            "zerolinecolor": "white"
           },
           "zaxis": {
            "backgroundcolor": "#E5ECF6",
            "gridcolor": "white",
            "gridwidth": 2,
            "linecolor": "white",
            "showbackground": true,
            "ticks": "",
            "zerolinecolor": "white"
           }
          },
          "shapedefaults": {
           "line": {
            "color": "#2a3f5f"
           }
          },
          "ternary": {
           "aaxis": {
            "gridcolor": "white",
            "linecolor": "white",
            "ticks": ""
           },
           "baxis": {
            "gridcolor": "white",
            "linecolor": "white",
            "ticks": ""
           },
           "bgcolor": "#E5ECF6",
           "caxis": {
            "gridcolor": "white",
            "linecolor": "white",
            "ticks": ""
           }
          },
          "title": {
           "x": 0.05
          },
          "xaxis": {
           "automargin": true,
           "gridcolor": "white",
           "linecolor": "white",
           "ticks": "",
           "title": {
            "standoff": 15
           },
           "zerolinecolor": "white",
           "zerolinewidth": 2
          },
          "yaxis": {
           "automargin": true,
           "gridcolor": "white",
           "linecolor": "white",
           "ticks": "",
           "title": {
            "standoff": 15
           },
           "zerolinecolor": "white",
           "zerolinewidth": 2
          }
         }
        },
        "title": {
         "text": "Actual vs Predicted Views",
         "x": 0.5,
         "xanchor": "center",
         "y": 0.85,
         "yanchor": "top"
        },
        "width": 600,
        "xaxis": {
         "anchor": "y",
         "domain": [
          0,
          1
         ],
         "title": {
          "text": "Actual Views"
         }
        },
        "yaxis": {
         "anchor": "x",
         "domain": [
          0,
          1
         ],
         "title": {
          "text": "Predicted Views"
         }
        }
       }
      }
     },
     "metadata": {},
     "output_type": "display_data"
    }
   ],
   "source": [
    "import plotly.express as px\n",
    "\n",
    "fig = px.scatter(x=y_test, y=predicted , labels={'x': 'Actual Views', 'y': 'Predicted Views'},\n",
    "                 title='Actual vs Predicted Views', width=600, color_discrete_sequence=['#ffa500'], opacity=0.7)\n",
    "fig.add_shape(type='line', \n",
    "              x0=y_test.min(), y0=y_test.min(), \n",
    "              x1=y_test.max(), y1=y_test.max(),\n",
    "              line=dict(color='gray', dash='dash'))\n",
    "fig.update_layout(\n",
    "    title={\n",
    "        'y':0.85,  # 標題在垂直方向的位置\n",
    "        'x':0.5,  # 標題在水平方向的位置\n",
    "        'xanchor': 'center',  # 確保標題的中心在 x 的位置\n",
    "        'yanchor': 'top'      # 確保標題的底部在 y 的位置\n",
    "    })\n",
    "\n",
    "fig.show()"
   ]
  },
  {
   "cell_type": "code",
   "execution_count": null,
   "metadata": {},
   "outputs": [],
   "source": []
  }
 ],
 "metadata": {
  "kernelspec": {
   "display_name": "base",
   "language": "python",
   "name": "python3"
  },
  "language_info": {
   "codemirror_mode": {
    "name": "ipython",
    "version": 3
   },
   "file_extension": ".py",
   "mimetype": "text/x-python",
   "name": "python",
   "nbconvert_exporter": "python",
   "pygments_lexer": "ipython3",
   "version": "3.9.13"
  }
 },
 "nbformat": 4,
 "nbformat_minor": 2
}
