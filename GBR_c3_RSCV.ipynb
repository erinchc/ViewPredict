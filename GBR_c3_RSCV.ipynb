{
 "cells": [
  {
   "cell_type": "code",
   "execution_count": 1,
   "metadata": {},
   "outputs": [
    {
     "data": {
      "text/html": [
       "<div>\n",
       "<style scoped>\n",
       "    .dataframe tbody tr th:only-of-type {\n",
       "        vertical-align: middle;\n",
       "    }\n",
       "\n",
       "    .dataframe tbody tr th {\n",
       "        vertical-align: top;\n",
       "    }\n",
       "\n",
       "    .dataframe thead th {\n",
       "        text-align: right;\n",
       "    }\n",
       "</style>\n",
       "<table border=\"1\" class=\"dataframe\">\n",
       "  <thead>\n",
       "    <tr style=\"text-align: right;\">\n",
       "      <th></th>\n",
       "      <th>channel_name</th>\n",
       "      <th>video_title</th>\n",
       "      <th>views</th>\n",
       "      <th>comments</th>\n",
       "      <th>duration</th>\n",
       "      <th>likes</th>\n",
       "      <th>publish_date</th>\n",
       "      <th>category</th>\n",
       "      <th>channel_startdate</th>\n",
       "      <th>subscribers</th>\n",
       "      <th>channel_totalviews(10K)</th>\n",
       "      <th>Sensationalism_Score</th>\n",
       "      <th>cluster</th>\n",
       "    </tr>\n",
       "  </thead>\n",
       "  <tbody>\n",
       "    <tr>\n",
       "      <th>0</th>\n",
       "      <td>It‘s Jcnana 蒨蒨</td>\n",
       "      <td>weekend vlog 週末的開啟是港式飲茶🥢去離島吃海產🦞走走、更多淘寶家飾生活用品到啦...</td>\n",
       "      <td>61000</td>\n",
       "      <td>50</td>\n",
       "      <td>943</td>\n",
       "      <td>1100</td>\n",
       "      <td>2023-10-28</td>\n",
       "      <td>People &amp; Blogs</td>\n",
       "      <td>2012-09-25</td>\n",
       "      <td>398000</td>\n",
       "      <td>2985.4481</td>\n",
       "      <td>16</td>\n",
       "      <td>3</td>\n",
       "    </tr>\n",
       "    <tr>\n",
       "      <th>1</th>\n",
       "      <td>It‘s Jcnana 蒨蒨</td>\n",
       "      <td>travel vlog: 48 hours workcation in seoul, try...</td>\n",
       "      <td>64000</td>\n",
       "      <td>69</td>\n",
       "      <td>1285</td>\n",
       "      <td>1100</td>\n",
       "      <td>2023-10-17</td>\n",
       "      <td>People &amp; Blogs</td>\n",
       "      <td>2012-09-25</td>\n",
       "      <td>398000</td>\n",
       "      <td>2985.4481</td>\n",
       "      <td>16</td>\n",
       "      <td>3</td>\n",
       "    </tr>\n",
       "    <tr>\n",
       "      <th>2</th>\n",
       "      <td>It‘s Jcnana 蒨蒨</td>\n",
       "      <td>vlog: mental reset &amp; getaway after a chaotic m...</td>\n",
       "      <td>92000</td>\n",
       "      <td>114</td>\n",
       "      <td>1280</td>\n",
       "      <td>1500</td>\n",
       "      <td>2023-10-07</td>\n",
       "      <td>People &amp; Blogs</td>\n",
       "      <td>2012-09-25</td>\n",
       "      <td>398000</td>\n",
       "      <td>2985.4481</td>\n",
       "      <td>16</td>\n",
       "      <td>3</td>\n",
       "    </tr>\n",
       "    <tr>\n",
       "      <th>3</th>\n",
       "      <td>It‘s Jcnana 蒨蒨</td>\n",
       "      <td>Fall Lookbook 秋天轉換季節穿搭、流行趨勢、軟呢外套、各式西裝、銀色單品、包包分...</td>\n",
       "      <td>37000</td>\n",
       "      <td>44</td>\n",
       "      <td>975</td>\n",
       "      <td>551</td>\n",
       "      <td>2023-09-23</td>\n",
       "      <td>People &amp; Blogs</td>\n",
       "      <td>2012-09-25</td>\n",
       "      <td>398000</td>\n",
       "      <td>2985.4481</td>\n",
       "      <td>22</td>\n",
       "      <td>3</td>\n",
       "    </tr>\n",
       "    <tr>\n",
       "      <th>4</th>\n",
       "      <td>It‘s Jcnana 蒨蒨</td>\n",
       "      <td>weekend vlog: 香港一日遊西上環、古董街裡的舊玩意、fusion簡餐咖啡廳、堅尼...</td>\n",
       "      <td>77000</td>\n",
       "      <td>73</td>\n",
       "      <td>798</td>\n",
       "      <td>1300</td>\n",
       "      <td>2023-09-16</td>\n",
       "      <td>People &amp; Blogs</td>\n",
       "      <td>2012-09-25</td>\n",
       "      <td>398000</td>\n",
       "      <td>2985.4481</td>\n",
       "      <td>16</td>\n",
       "      <td>3</td>\n",
       "    </tr>\n",
       "  </tbody>\n",
       "</table>\n",
       "</div>"
      ],
      "text/plain": [
       "     channel_name                                        video_title  views  \\\n",
       "0  It‘s Jcnana 蒨蒨  weekend vlog 週末的開啟是港式飲茶🥢去離島吃海產🦞走走、更多淘寶家飾生活用品到啦...  61000   \n",
       "1  It‘s Jcnana 蒨蒨  travel vlog: 48 hours workcation in seoul, try...  64000   \n",
       "2  It‘s Jcnana 蒨蒨  vlog: mental reset & getaway after a chaotic m...  92000   \n",
       "3  It‘s Jcnana 蒨蒨  Fall Lookbook 秋天轉換季節穿搭、流行趨勢、軟呢外套、各式西裝、銀色單品、包包分...  37000   \n",
       "4  It‘s Jcnana 蒨蒨  weekend vlog: 香港一日遊西上環、古董街裡的舊玩意、fusion簡餐咖啡廳、堅尼...  77000   \n",
       "\n",
       "   comments  duration  likes publish_date        category channel_startdate  \\\n",
       "0        50       943   1100   2023-10-28  People & Blogs        2012-09-25   \n",
       "1        69      1285   1100   2023-10-17  People & Blogs        2012-09-25   \n",
       "2       114      1280   1500   2023-10-07  People & Blogs        2012-09-25   \n",
       "3        44       975    551   2023-09-23  People & Blogs        2012-09-25   \n",
       "4        73       798   1300   2023-09-16  People & Blogs        2012-09-25   \n",
       "\n",
       "   subscribers  channel_totalviews(10K)  Sensationalism_Score  cluster  \n",
       "0       398000                2985.4481                    16        3  \n",
       "1       398000                2985.4481                    16        3  \n",
       "2       398000                2985.4481                    16        3  \n",
       "3       398000                2985.4481                    22        3  \n",
       "4       398000                2985.4481                    16        3  "
      ]
     },
     "execution_count": 1,
     "metadata": {},
     "output_type": "execute_result"
    }
   ],
   "source": [
    "import pandas as pd\n",
    "import datetime as dt\n",
    "data = pd.read_csv(\"yt_final.csv\", encoding = 'utf8')\n",
    "data = data[data['cluster'] == 3]\n",
    "data.head()"
   ]
  },
  {
   "cell_type": "code",
   "execution_count": 2,
   "metadata": {},
   "outputs": [],
   "source": [
    "data['publish_date'] = pd.to_datetime(data['publish_date'])\n",
    "data['channel_startdate'] = pd.to_datetime(data['channel_startdate'])\n",
    "current_date = pd.Timestamp('now')\n",
    "data['days_since_publish'] = (current_date - data['publish_date']).dt.days\n",
    "data['channel_age_days'] = (current_date - data['channel_startdate']).dt.days"
   ]
  },
  {
   "cell_type": "code",
   "execution_count": 3,
   "metadata": {},
   "outputs": [],
   "source": [
    "from sklearn.model_selection import train_test_split\n",
    "from sklearn.ensemble import GradientBoostingRegressor\n",
    "from sklearn.preprocessing import OneHotEncoder\n",
    "from sklearn.model_selection import RandomizedSearchCV\n",
    "from scipy.stats import uniform, randint"
   ]
  },
  {
   "cell_type": "code",
   "execution_count": 4,
   "metadata": {},
   "outputs": [],
   "source": [
    "# 設定特徵及目標變量\n",
    "features = data.drop(['views','channel_name', 'video_title', 'channel_startdate','cluster','likes', 'comments','publish_date','channel_totalviews(10K)'], axis = 1)\n",
    "target = data['views']\n"
   ]
  },
  {
   "cell_type": "code",
   "execution_count": 5,
   "metadata": {},
   "outputs": [
    {
     "name": "stderr",
     "output_type": "stream",
     "text": [
      "/Users/chenxingchun/opt/anaconda3/lib/python3.9/site-packages/sklearn/utils/deprecation.py:87: FutureWarning: Function get_feature_names is deprecated; get_feature_names is deprecated in 1.0 and will be removed in 1.2. Please use get_feature_names_out instead.\n",
      "  warnings.warn(msg, category=FutureWarning)\n"
     ]
    },
    {
     "data": {
      "text/html": [
       "<div>\n",
       "<style scoped>\n",
       "    .dataframe tbody tr th:only-of-type {\n",
       "        vertical-align: middle;\n",
       "    }\n",
       "\n",
       "    .dataframe tbody tr th {\n",
       "        vertical-align: top;\n",
       "    }\n",
       "\n",
       "    .dataframe thead th {\n",
       "        text-align: right;\n",
       "    }\n",
       "</style>\n",
       "<table border=\"1\" class=\"dataframe\">\n",
       "  <thead>\n",
       "    <tr style=\"text-align: right;\">\n",
       "      <th></th>\n",
       "      <th>duration</th>\n",
       "      <th>subscribers</th>\n",
       "      <th>Sensationalism_Score</th>\n",
       "      <th>days_since_publish</th>\n",
       "      <th>channel_age_days</th>\n",
       "      <th>category_Comedy</th>\n",
       "      <th>category_Education</th>\n",
       "      <th>category_Entertainment</th>\n",
       "      <th>category_Film &amp; Animation</th>\n",
       "      <th>category_Gaming</th>\n",
       "      <th>category_Howto &amp; Style</th>\n",
       "      <th>category_Music</th>\n",
       "      <th>category_News &amp; Politics</th>\n",
       "      <th>category_Nonprofits &amp; Activism</th>\n",
       "      <th>category_People &amp; Blogs</th>\n",
       "      <th>category_Pets &amp; Animals</th>\n",
       "      <th>category_Science &amp; Technology</th>\n",
       "      <th>category_Sports</th>\n",
       "      <th>category_Travel &amp; Events</th>\n",
       "    </tr>\n",
       "  </thead>\n",
       "  <tbody>\n",
       "    <tr>\n",
       "      <th>0</th>\n",
       "      <td>943</td>\n",
       "      <td>398000</td>\n",
       "      <td>16</td>\n",
       "      <td>24</td>\n",
       "      <td>4074</td>\n",
       "      <td>0.0</td>\n",
       "      <td>0.0</td>\n",
       "      <td>0.0</td>\n",
       "      <td>0.0</td>\n",
       "      <td>0.0</td>\n",
       "      <td>0.0</td>\n",
       "      <td>0.0</td>\n",
       "      <td>0.0</td>\n",
       "      <td>0.0</td>\n",
       "      <td>1.0</td>\n",
       "      <td>0.0</td>\n",
       "      <td>0.0</td>\n",
       "      <td>0.0</td>\n",
       "      <td>0.0</td>\n",
       "    </tr>\n",
       "    <tr>\n",
       "      <th>1</th>\n",
       "      <td>1285</td>\n",
       "      <td>398000</td>\n",
       "      <td>16</td>\n",
       "      <td>35</td>\n",
       "      <td>4074</td>\n",
       "      <td>0.0</td>\n",
       "      <td>0.0</td>\n",
       "      <td>0.0</td>\n",
       "      <td>0.0</td>\n",
       "      <td>0.0</td>\n",
       "      <td>0.0</td>\n",
       "      <td>0.0</td>\n",
       "      <td>0.0</td>\n",
       "      <td>0.0</td>\n",
       "      <td>1.0</td>\n",
       "      <td>0.0</td>\n",
       "      <td>0.0</td>\n",
       "      <td>0.0</td>\n",
       "      <td>0.0</td>\n",
       "    </tr>\n",
       "    <tr>\n",
       "      <th>2</th>\n",
       "      <td>1280</td>\n",
       "      <td>398000</td>\n",
       "      <td>16</td>\n",
       "      <td>45</td>\n",
       "      <td>4074</td>\n",
       "      <td>0.0</td>\n",
       "      <td>0.0</td>\n",
       "      <td>0.0</td>\n",
       "      <td>0.0</td>\n",
       "      <td>0.0</td>\n",
       "      <td>0.0</td>\n",
       "      <td>0.0</td>\n",
       "      <td>0.0</td>\n",
       "      <td>0.0</td>\n",
       "      <td>1.0</td>\n",
       "      <td>0.0</td>\n",
       "      <td>0.0</td>\n",
       "      <td>0.0</td>\n",
       "      <td>0.0</td>\n",
       "    </tr>\n",
       "    <tr>\n",
       "      <th>3</th>\n",
       "      <td>975</td>\n",
       "      <td>398000</td>\n",
       "      <td>22</td>\n",
       "      <td>59</td>\n",
       "      <td>4074</td>\n",
       "      <td>0.0</td>\n",
       "      <td>0.0</td>\n",
       "      <td>0.0</td>\n",
       "      <td>0.0</td>\n",
       "      <td>0.0</td>\n",
       "      <td>0.0</td>\n",
       "      <td>0.0</td>\n",
       "      <td>0.0</td>\n",
       "      <td>0.0</td>\n",
       "      <td>1.0</td>\n",
       "      <td>0.0</td>\n",
       "      <td>0.0</td>\n",
       "      <td>0.0</td>\n",
       "      <td>0.0</td>\n",
       "    </tr>\n",
       "    <tr>\n",
       "      <th>4</th>\n",
       "      <td>798</td>\n",
       "      <td>398000</td>\n",
       "      <td>16</td>\n",
       "      <td>66</td>\n",
       "      <td>4074</td>\n",
       "      <td>0.0</td>\n",
       "      <td>0.0</td>\n",
       "      <td>0.0</td>\n",
       "      <td>0.0</td>\n",
       "      <td>0.0</td>\n",
       "      <td>0.0</td>\n",
       "      <td>0.0</td>\n",
       "      <td>0.0</td>\n",
       "      <td>0.0</td>\n",
       "      <td>1.0</td>\n",
       "      <td>0.0</td>\n",
       "      <td>0.0</td>\n",
       "      <td>0.0</td>\n",
       "      <td>0.0</td>\n",
       "    </tr>\n",
       "  </tbody>\n",
       "</table>\n",
       "</div>"
      ],
      "text/plain": [
       "   duration  subscribers  Sensationalism_Score  days_since_publish  \\\n",
       "0       943       398000                    16                  24   \n",
       "1      1285       398000                    16                  35   \n",
       "2      1280       398000                    16                  45   \n",
       "3       975       398000                    22                  59   \n",
       "4       798       398000                    16                  66   \n",
       "\n",
       "   channel_age_days  category_Comedy  category_Education  \\\n",
       "0              4074              0.0                 0.0   \n",
       "1              4074              0.0                 0.0   \n",
       "2              4074              0.0                 0.0   \n",
       "3              4074              0.0                 0.0   \n",
       "4              4074              0.0                 0.0   \n",
       "\n",
       "   category_Entertainment  category_Film & Animation  category_Gaming  \\\n",
       "0                     0.0                        0.0              0.0   \n",
       "1                     0.0                        0.0              0.0   \n",
       "2                     0.0                        0.0              0.0   \n",
       "3                     0.0                        0.0              0.0   \n",
       "4                     0.0                        0.0              0.0   \n",
       "\n",
       "   category_Howto & Style  category_Music  category_News & Politics  \\\n",
       "0                     0.0             0.0                       0.0   \n",
       "1                     0.0             0.0                       0.0   \n",
       "2                     0.0             0.0                       0.0   \n",
       "3                     0.0             0.0                       0.0   \n",
       "4                     0.0             0.0                       0.0   \n",
       "\n",
       "   category_Nonprofits & Activism  category_People & Blogs  \\\n",
       "0                             0.0                      1.0   \n",
       "1                             0.0                      1.0   \n",
       "2                             0.0                      1.0   \n",
       "3                             0.0                      1.0   \n",
       "4                             0.0                      1.0   \n",
       "\n",
       "   category_Pets & Animals  category_Science & Technology  category_Sports  \\\n",
       "0                      0.0                            0.0              0.0   \n",
       "1                      0.0                            0.0              0.0   \n",
       "2                      0.0                            0.0              0.0   \n",
       "3                      0.0                            0.0              0.0   \n",
       "4                      0.0                            0.0              0.0   \n",
       "\n",
       "   category_Travel & Events  \n",
       "0                       0.0  \n",
       "1                       0.0  \n",
       "2                       0.0  \n",
       "3                       0.0  \n",
       "4                       0.0  "
      ]
     },
     "execution_count": 5,
     "metadata": {},
     "output_type": "execute_result"
    }
   ],
   "source": [
    "# Apply One-Hot Encoding to 'category'\n",
    "one_hot_encoder = OneHotEncoder(sparse=False)\n",
    "category_encoded = one_hot_encoder.fit_transform(features[['category']])\n",
    "category_encoded_df = pd.DataFrame(category_encoded, columns=one_hot_encoder.get_feature_names(['category']))\n",
    "\n",
    "# Drop the original 'category' column and concatenate the one-hot encoded dataframe\n",
    "features = features.drop('category', axis=1)\n",
    "features_encoded = pd.concat([features.reset_index(drop=True), category_encoded_df], axis=1)\n",
    "\n",
    "features_encoded.head()  # Display the first few rows of the processed features"
   ]
  },
  {
   "cell_type": "code",
   "execution_count": 6,
   "metadata": {},
   "outputs": [
    {
     "name": "stdout",
     "output_type": "stream",
     "text": [
      "Best Parameters: {'learning_rate': 0.02408322616990878, 'max_depth': 4, 'min_samples_split': 9, 'n_estimators': 391, 'subsample': 0.8075940343888491}\n",
      "Best Score (r2): 0.531366094410531\n"
     ]
    }
   ],
   "source": [
    "X_train, X_test, y_train, y_test = train_test_split(features_encoded, target, test_size=0.2)\n",
    "# 建立RandomForestRegressor模型\n",
    "model = GradientBoostingRegressor(random_state=42)\n",
    "# 定義要搜索的参数分布\n",
    "param_distributions = {\n",
    "    'n_estimators': randint(50, 400), \n",
    "    'learning_rate': uniform(0.01, 0.2), \n",
    "    'max_depth': randint(3, 10), \n",
    "    'subsample': uniform(0.7, 0.3), \n",
    "    'min_samples_split': randint(2, 10) \n",
    "} \n",
    "# 建立RandomizedSearchCV\n",
    "random_search = RandomizedSearchCV(estimator=model, param_distributions=param_distributions, n_iter=100, cv=5, scoring='r2', n_jobs=-1, random_state=42)\n",
    "# 執行隨機搜索\n",
    "random_search.fit(X_train, y_train)\n",
    "\n",
    "# 最佳參數組合與評分\n",
    "best_parameters = random_search.best_params_\n",
    "best_score = random_search.best_score_\n",
    "\n",
    "print(f\"Best Parameters: {best_parameters}\")\n",
    "print(f\"Best Score (r2): {best_score}\")"
   ]
  },
  {
   "cell_type": "code",
   "execution_count": 7,
   "metadata": {},
   "outputs": [
    {
     "name": "stdout",
     "output_type": "stream",
     "text": [
      "Optimized Model Score (r2) on Test Data: 0.5715057276301849\n"
     ]
    }
   ],
   "source": [
    "# 使用這些參數初始化一個新的 GradientBoostingRegressor\n",
    "optimized_model = GradientBoostingRegressor(\n",
    "    n_estimators=best_parameters['n_estimators'],\n",
    "    learning_rate=best_parameters['learning_rate'],\n",
    "    max_depth=best_parameters['max_depth'],\n",
    "    subsample=best_parameters['subsample'],\n",
    "    min_samples_split=best_parameters['min_samples_split'],\n",
    "    random_state=42\n",
    ")\n",
    "# 訓練模型\n",
    "optimized_model.fit(X_train, y_train)\n",
    "#進行預測\n",
    "predicted = optimized_model.predict(X_test)\n",
    "# 評估模型性能\n",
    "optimized_score = optimized_model.score(X_test, y_test)\n",
    "print(f\"Optimized Model Score (r2) on Test Data: {optimized_score}\")"
   ]
  },
  {
   "cell_type": "markdown",
   "metadata": {},
   "source": [
    "### 特徵重要性"
   ]
  },
  {
   "cell_type": "code",
   "execution_count": 8,
   "metadata": {},
   "outputs": [
    {
     "data": {
      "application/vnd.plotly.v1+json": {
       "config": {
        "plotlyServerURL": "https://plot.ly"
       },
       "data": [
        {
         "marker": {
          "color": "green"
         },
         "text": [
          "0.51",
          "0.22",
          "0.12",
          "0.04",
          "0.04",
          "0.03",
          "0.02",
          "0.02",
          "0.00",
          "0.00"
         ],
         "textposition": "outside",
         "type": "bar",
         "width": 0.6,
         "x": [
          "subscribers",
          "days_since_publish",
          "duration",
          "Sensationalism_Score",
          "channel_age_days",
          "category_Education",
          "category_People & Blogs",
          "category_Entertainment",
          "category_Gaming",
          "category_Travel & Events"
         ],
         "y": [
          0.5129203289086953,
          0.22052635246265354,
          0.12398466944360464,
          0.039759156214870445,
          0.039027891031739766,
          0.026444265046545755,
          0.01540353410574005,
          0.015271069961089205,
          0.0023014774519256875,
          0.0020731923029673385
         ]
        }
       ],
       "layout": {
        "bargap": 0.05,
        "margin": {
         "t": 50
        },
        "showlegend": false,
        "template": {
         "data": {
          "bar": [
           {
            "error_x": {
             "color": "#2a3f5f"
            },
            "error_y": {
             "color": "#2a3f5f"
            },
            "marker": {
             "line": {
              "color": "#E5ECF6",
              "width": 0.5
             },
             "pattern": {
              "fillmode": "overlay",
              "size": 10,
              "solidity": 0.2
             }
            },
            "type": "bar"
           }
          ],
          "barpolar": [
           {
            "marker": {
             "line": {
              "color": "#E5ECF6",
              "width": 0.5
             },
             "pattern": {
              "fillmode": "overlay",
              "size": 10,
              "solidity": 0.2
             }
            },
            "type": "barpolar"
           }
          ],
          "carpet": [
           {
            "aaxis": {
             "endlinecolor": "#2a3f5f",
             "gridcolor": "white",
             "linecolor": "white",
             "minorgridcolor": "white",
             "startlinecolor": "#2a3f5f"
            },
            "baxis": {
             "endlinecolor": "#2a3f5f",
             "gridcolor": "white",
             "linecolor": "white",
             "minorgridcolor": "white",
             "startlinecolor": "#2a3f5f"
            },
            "type": "carpet"
           }
          ],
          "choropleth": [
           {
            "colorbar": {
             "outlinewidth": 0,
             "ticks": ""
            },
            "type": "choropleth"
           }
          ],
          "contour": [
           {
            "colorbar": {
             "outlinewidth": 0,
             "ticks": ""
            },
            "colorscale": [
             [
              0,
              "#0d0887"
             ],
             [
              0.1111111111111111,
              "#46039f"
             ],
             [
              0.2222222222222222,
              "#7201a8"
             ],
             [
              0.3333333333333333,
              "#9c179e"
             ],
             [
              0.4444444444444444,
              "#bd3786"
             ],
             [
              0.5555555555555556,
              "#d8576b"
             ],
             [
              0.6666666666666666,
              "#ed7953"
             ],
             [
              0.7777777777777778,
              "#fb9f3a"
             ],
             [
              0.8888888888888888,
              "#fdca26"
             ],
             [
              1,
              "#f0f921"
             ]
            ],
            "type": "contour"
           }
          ],
          "contourcarpet": [
           {
            "colorbar": {
             "outlinewidth": 0,
             "ticks": ""
            },
            "type": "contourcarpet"
           }
          ],
          "heatmap": [
           {
            "colorbar": {
             "outlinewidth": 0,
             "ticks": ""
            },
            "colorscale": [
             [
              0,
              "#0d0887"
             ],
             [
              0.1111111111111111,
              "#46039f"
             ],
             [
              0.2222222222222222,
              "#7201a8"
             ],
             [
              0.3333333333333333,
              "#9c179e"
             ],
             [
              0.4444444444444444,
              "#bd3786"
             ],
             [
              0.5555555555555556,
              "#d8576b"
             ],
             [
              0.6666666666666666,
              "#ed7953"
             ],
             [
              0.7777777777777778,
              "#fb9f3a"
             ],
             [
              0.8888888888888888,
              "#fdca26"
             ],
             [
              1,
              "#f0f921"
             ]
            ],
            "type": "heatmap"
           }
          ],
          "heatmapgl": [
           {
            "colorbar": {
             "outlinewidth": 0,
             "ticks": ""
            },
            "colorscale": [
             [
              0,
              "#0d0887"
             ],
             [
              0.1111111111111111,
              "#46039f"
             ],
             [
              0.2222222222222222,
              "#7201a8"
             ],
             [
              0.3333333333333333,
              "#9c179e"
             ],
             [
              0.4444444444444444,
              "#bd3786"
             ],
             [
              0.5555555555555556,
              "#d8576b"
             ],
             [
              0.6666666666666666,
              "#ed7953"
             ],
             [
              0.7777777777777778,
              "#fb9f3a"
             ],
             [
              0.8888888888888888,
              "#fdca26"
             ],
             [
              1,
              "#f0f921"
             ]
            ],
            "type": "heatmapgl"
           }
          ],
          "histogram": [
           {
            "marker": {
             "pattern": {
              "fillmode": "overlay",
              "size": 10,
              "solidity": 0.2
             }
            },
            "type": "histogram"
           }
          ],
          "histogram2d": [
           {
            "colorbar": {
             "outlinewidth": 0,
             "ticks": ""
            },
            "colorscale": [
             [
              0,
              "#0d0887"
             ],
             [
              0.1111111111111111,
              "#46039f"
             ],
             [
              0.2222222222222222,
              "#7201a8"
             ],
             [
              0.3333333333333333,
              "#9c179e"
             ],
             [
              0.4444444444444444,
              "#bd3786"
             ],
             [
              0.5555555555555556,
              "#d8576b"
             ],
             [
              0.6666666666666666,
              "#ed7953"
             ],
             [
              0.7777777777777778,
              "#fb9f3a"
             ],
             [
              0.8888888888888888,
              "#fdca26"
             ],
             [
              1,
              "#f0f921"
             ]
            ],
            "type": "histogram2d"
           }
          ],
          "histogram2dcontour": [
           {
            "colorbar": {
             "outlinewidth": 0,
             "ticks": ""
            },
            "colorscale": [
             [
              0,
              "#0d0887"
             ],
             [
              0.1111111111111111,
              "#46039f"
             ],
             [
              0.2222222222222222,
              "#7201a8"
             ],
             [
              0.3333333333333333,
              "#9c179e"
             ],
             [
              0.4444444444444444,
              "#bd3786"
             ],
             [
              0.5555555555555556,
              "#d8576b"
             ],
             [
              0.6666666666666666,
              "#ed7953"
             ],
             [
              0.7777777777777778,
              "#fb9f3a"
             ],
             [
              0.8888888888888888,
              "#fdca26"
             ],
             [
              1,
              "#f0f921"
             ]
            ],
            "type": "histogram2dcontour"
           }
          ],
          "mesh3d": [
           {
            "colorbar": {
             "outlinewidth": 0,
             "ticks": ""
            },
            "type": "mesh3d"
           }
          ],
          "parcoords": [
           {
            "line": {
             "colorbar": {
              "outlinewidth": 0,
              "ticks": ""
             }
            },
            "type": "parcoords"
           }
          ],
          "pie": [
           {
            "automargin": true,
            "type": "pie"
           }
          ],
          "scatter": [
           {
            "fillpattern": {
             "fillmode": "overlay",
             "size": 10,
             "solidity": 0.2
            },
            "type": "scatter"
           }
          ],
          "scatter3d": [
           {
            "line": {
             "colorbar": {
              "outlinewidth": 0,
              "ticks": ""
             }
            },
            "marker": {
             "colorbar": {
              "outlinewidth": 0,
              "ticks": ""
             }
            },
            "type": "scatter3d"
           }
          ],
          "scattercarpet": [
           {
            "marker": {
             "colorbar": {
              "outlinewidth": 0,
              "ticks": ""
             }
            },
            "type": "scattercarpet"
           }
          ],
          "scattergeo": [
           {
            "marker": {
             "colorbar": {
              "outlinewidth": 0,
              "ticks": ""
             }
            },
            "type": "scattergeo"
           }
          ],
          "scattergl": [
           {
            "marker": {
             "colorbar": {
              "outlinewidth": 0,
              "ticks": ""
             }
            },
            "type": "scattergl"
           }
          ],
          "scattermapbox": [
           {
            "marker": {
             "colorbar": {
              "outlinewidth": 0,
              "ticks": ""
             }
            },
            "type": "scattermapbox"
           }
          ],
          "scatterpolar": [
           {
            "marker": {
             "colorbar": {
              "outlinewidth": 0,
              "ticks": ""
             }
            },
            "type": "scatterpolar"
           }
          ],
          "scatterpolargl": [
           {
            "marker": {
             "colorbar": {
              "outlinewidth": 0,
              "ticks": ""
             }
            },
            "type": "scatterpolargl"
           }
          ],
          "scatterternary": [
           {
            "marker": {
             "colorbar": {
              "outlinewidth": 0,
              "ticks": ""
             }
            },
            "type": "scatterternary"
           }
          ],
          "surface": [
           {
            "colorbar": {
             "outlinewidth": 0,
             "ticks": ""
            },
            "colorscale": [
             [
              0,
              "#0d0887"
             ],
             [
              0.1111111111111111,
              "#46039f"
             ],
             [
              0.2222222222222222,
              "#7201a8"
             ],
             [
              0.3333333333333333,
              "#9c179e"
             ],
             [
              0.4444444444444444,
              "#bd3786"
             ],
             [
              0.5555555555555556,
              "#d8576b"
             ],
             [
              0.6666666666666666,
              "#ed7953"
             ],
             [
              0.7777777777777778,
              "#fb9f3a"
             ],
             [
              0.8888888888888888,
              "#fdca26"
             ],
             [
              1,
              "#f0f921"
             ]
            ],
            "type": "surface"
           }
          ],
          "table": [
           {
            "cells": {
             "fill": {
              "color": "#EBF0F8"
             },
             "line": {
              "color": "white"
             }
            },
            "header": {
             "fill": {
              "color": "#C8D4E3"
             },
             "line": {
              "color": "white"
             }
            },
            "type": "table"
           }
          ]
         },
         "layout": {
          "annotationdefaults": {
           "arrowcolor": "#2a3f5f",
           "arrowhead": 0,
           "arrowwidth": 1
          },
          "autotypenumbers": "strict",
          "coloraxis": {
           "colorbar": {
            "outlinewidth": 0,
            "ticks": ""
           }
          },
          "colorscale": {
           "diverging": [
            [
             0,
             "#8e0152"
            ],
            [
             0.1,
             "#c51b7d"
            ],
            [
             0.2,
             "#de77ae"
            ],
            [
             0.3,
             "#f1b6da"
            ],
            [
             0.4,
             "#fde0ef"
            ],
            [
             0.5,
             "#f7f7f7"
            ],
            [
             0.6,
             "#e6f5d0"
            ],
            [
             0.7,
             "#b8e186"
            ],
            [
             0.8,
             "#7fbc41"
            ],
            [
             0.9,
             "#4d9221"
            ],
            [
             1,
             "#276419"
            ]
           ],
           "sequential": [
            [
             0,
             "#0d0887"
            ],
            [
             0.1111111111111111,
             "#46039f"
            ],
            [
             0.2222222222222222,
             "#7201a8"
            ],
            [
             0.3333333333333333,
             "#9c179e"
            ],
            [
             0.4444444444444444,
             "#bd3786"
            ],
            [
             0.5555555555555556,
             "#d8576b"
            ],
            [
             0.6666666666666666,
             "#ed7953"
            ],
            [
             0.7777777777777778,
             "#fb9f3a"
            ],
            [
             0.8888888888888888,
             "#fdca26"
            ],
            [
             1,
             "#f0f921"
            ]
           ],
           "sequentialminus": [
            [
             0,
             "#0d0887"
            ],
            [
             0.1111111111111111,
             "#46039f"
            ],
            [
             0.2222222222222222,
             "#7201a8"
            ],
            [
             0.3333333333333333,
             "#9c179e"
            ],
            [
             0.4444444444444444,
             "#bd3786"
            ],
            [
             0.5555555555555556,
             "#d8576b"
            ],
            [
             0.6666666666666666,
             "#ed7953"
            ],
            [
             0.7777777777777778,
             "#fb9f3a"
            ],
            [
             0.8888888888888888,
             "#fdca26"
            ],
            [
             1,
             "#f0f921"
            ]
           ]
          },
          "colorway": [
           "#636efa",
           "#EF553B",
           "#00cc96",
           "#ab63fa",
           "#FFA15A",
           "#19d3f3",
           "#FF6692",
           "#B6E880",
           "#FF97FF",
           "#FECB52"
          ],
          "font": {
           "color": "#2a3f5f"
          },
          "geo": {
           "bgcolor": "white",
           "lakecolor": "white",
           "landcolor": "#E5ECF6",
           "showlakes": true,
           "showland": true,
           "subunitcolor": "white"
          },
          "hoverlabel": {
           "align": "left"
          },
          "hovermode": "closest",
          "mapbox": {
           "style": "light"
          },
          "paper_bgcolor": "white",
          "plot_bgcolor": "#E5ECF6",
          "polar": {
           "angularaxis": {
            "gridcolor": "white",
            "linecolor": "white",
            "ticks": ""
           },
           "bgcolor": "#E5ECF6",
           "radialaxis": {
            "gridcolor": "white",
            "linecolor": "white",
            "ticks": ""
           }
          },
          "scene": {
           "xaxis": {
            "backgroundcolor": "#E5ECF6",
            "gridcolor": "white",
            "gridwidth": 2,
            "linecolor": "white",
            "showbackground": true,
            "ticks": "",
            "zerolinecolor": "white"
           },
           "yaxis": {
            "backgroundcolor": "#E5ECF6",
            "gridcolor": "white",
            "gridwidth": 2,
            "linecolor": "white",
            "showbackground": true,
            "ticks": "",
            "zerolinecolor": "white"
           },
           "zaxis": {
            "backgroundcolor": "#E5ECF6",
            "gridcolor": "white",
            "gridwidth": 2,
            "linecolor": "white",
            "showbackground": true,
            "ticks": "",
            "zerolinecolor": "white"
           }
          },
          "shapedefaults": {
           "line": {
            "color": "#2a3f5f"
           }
          },
          "ternary": {
           "aaxis": {
            "gridcolor": "white",
            "linecolor": "white",
            "ticks": ""
           },
           "baxis": {
            "gridcolor": "white",
            "linecolor": "white",
            "ticks": ""
           },
           "bgcolor": "#E5ECF6",
           "caxis": {
            "gridcolor": "white",
            "linecolor": "white",
            "ticks": ""
           }
          },
          "title": {
           "x": 0.05
          },
          "xaxis": {
           "automargin": true,
           "gridcolor": "white",
           "linecolor": "white",
           "ticks": "",
           "title": {
            "standoff": 15
           },
           "zerolinecolor": "white",
           "zerolinewidth": 2
          },
          "yaxis": {
           "automargin": true,
           "gridcolor": "white",
           "linecolor": "white",
           "ticks": "",
           "title": {
            "standoff": 15
           },
           "zerolinecolor": "white",
           "zerolinewidth": 2
          }
         }
        },
        "title": {
         "text": "Top 10 Feature Importances in Gradient Boosting Regressor Model",
         "x": 0.5,
         "xanchor": "center",
         "y": 0.98,
         "yanchor": "top"
        },
        "width": 600,
        "xaxis": {
         "tickangle": -45,
         "tickfont": {
          "size": 14
         },
         "title": {
          "text": "Feature"
         }
        },
        "yaxis": {
         "range": [
          0,
          0.5642123617995649
         ],
         "title": {
          "text": "Importance"
         }
        }
       }
      }
     },
     "metadata": {},
     "output_type": "display_data"
    }
   ],
   "source": [
    "import plotly.graph_objects as go\n",
    "feature_importances = optimized_model.feature_importances_\n",
    "feature_names = X_train.columns\n",
    "\n",
    "# 創建特徵重要性的DataFrame\n",
    "importances_df = pd.DataFrame({'feature': feature_names, 'importance': feature_importances})\n",
    "importances_df = importances_df.sort_values(by='importance', ascending=False)\n",
    "\n",
    "# 創建圖表\n",
    "fig = go.Figure(go.Bar(\n",
    "    x=importances_df['feature'][:10],\n",
    "    y=importances_df['importance'][:10],\n",
    "    text=importances_df['importance'][:10].apply(lambda x: f'{x:.2f}'),\n",
    "    textposition='outside',\n",
    "    marker_color='green',\n",
    "    width=0.6\n",
    "))\n",
    "\n",
    "# 調整布局\n",
    "fig.update_layout(\n",
    "    title={\n",
    "        'text': 'Top 10 Feature Importances in Gradient Boosting Regressor Model',\n",
    "        'y':0.98,  # 標題在垂直方向的位置\n",
    "        'x':0.5,  # 標題在水平方向的位置\n",
    "        'xanchor': 'center',  # 確保標題的中心在 x 的位置\n",
    "        'yanchor': 'top'      # 確保標題的底部在 y 的位置\n",
    "    },\n",
    "    xaxis=dict(\n",
    "        title='Feature',\n",
    "        tickangle=-45,\n",
    "        tickfont=dict(size=14)\n",
    "    ),\n",
    "    yaxis=dict(\n",
    "        title='Importance',\n",
    "        range=[0, 1.1 * max(importances_df['importance'][:10])]\n",
    "    ),\n",
    "    margin=dict(t=50),  # 可能需要根據標題的大小調整邊距\n",
    "    showlegend=False,\n",
    "    bargap=0.05,\n",
    "    width=600, # 調整圖表的寬度\n",
    ")\n",
    "\n",
    "# 顯示圖表\n",
    "fig.show()"
   ]
  },
  {
   "cell_type": "markdown",
   "metadata": {},
   "source": [
    "### 實際值vs預測值"
   ]
  },
  {
   "cell_type": "code",
   "execution_count": 9,
   "metadata": {},
   "outputs": [
    {
     "data": {
      "application/vnd.plotly.v1+json": {
       "config": {
        "plotlyServerURL": "https://plot.ly"
       },
       "data": [
        {
         "hovertemplate": "Actual Views=%{x}<br>Predicted Views=%{y}<extra></extra>",
         "legendgroup": "",
         "marker": {
          "color": "green",
          "opacity": 0.7,
          "symbol": "circle"
         },
         "mode": "markers",
         "name": "",
         "orientation": "v",
         "showlegend": false,
         "type": "scatter",
         "x": [
          500000,
          270000,
          30000,
          160000,
          229000,
          220000,
          150000,
          19000,
          230000,
          190000,
          150000,
          150000,
          61000,
          380000,
          610000,
          560000,
          310000,
          280000,
          190000,
          130000,
          688000,
          990000,
          580000,
          240000,
          180000,
          2210000,
          387000,
          470000,
          170000,
          540000,
          56000,
          61000,
          1340000,
          200000,
          90000,
          190000,
          500000,
          180000,
          350000,
          83000,
          240000,
          12000,
          250000,
          250000,
          340000,
          210000,
          580000,
          170000,
          400000,
          120000,
          130000,
          87000,
          190000,
          10000,
          607000,
          510000,
          400000,
          48000,
          120000,
          9119,
          160000,
          840000,
          200000,
          340000,
          540000,
          300000,
          320000,
          380000,
          230000,
          240000,
          180000,
          440000,
          220000,
          350000,
          310000,
          580000,
          71000,
          120000,
          99000,
          340000,
          130000,
          450000,
          120000,
          160000,
          400000,
          1550000,
          47000,
          41000,
          10000,
          390000,
          370000,
          890000,
          7462,
          170000,
          32000,
          300000,
          170000,
          64000,
          64000,
          1300000,
          240000,
          400000,
          190000,
          430000,
          77000,
          770000,
          100000,
          100000,
          870000,
          250000,
          620000,
          260000,
          101000,
          190000,
          74000,
          400000,
          59000,
          53000,
          630000,
          69000,
          1550000,
          430000,
          150000,
          84000,
          110000,
          810000,
          81000,
          82000,
          150000,
          850000,
          490000,
          18000,
          78000,
          970000,
          6917,
          430000,
          150000,
          320000,
          960000,
          140000,
          28000,
          390000,
          78000,
          4110000,
          41000,
          990000,
          200000,
          268000,
          461000,
          140000,
          1100000,
          92000,
          240000,
          1480000,
          100000,
          390000,
          68000,
          95000,
          270000,
          510000,
          217000,
          89000,
          220000,
          130000,
          130000,
          160000,
          760000,
          250000,
          95000,
          250000,
          380000,
          380000,
          7396,
          470000,
          83000,
          270000,
          300000,
          280000,
          200000,
          1460000,
          500000,
          57000,
          85000,
          220000,
          210000,
          76000,
          1930000,
          9547,
          100000,
          470000,
          740000,
          300000,
          87000,
          85000,
          710000,
          110000,
          390000,
          610000,
          16000,
          221000,
          310000,
          280000,
          220000,
          210000,
          24000,
          200000,
          1260000,
          1240000,
          12000,
          1590000,
          110000,
          270000,
          200000,
          160000,
          840000,
          300000,
          659000,
          9686,
          650000,
          4070000,
          130000,
          36000,
          270000,
          450000,
          120000,
          585000,
          200000,
          130000,
          320000,
          83000,
          310000,
          92000,
          220000,
          49000,
          89000,
          210000,
          480000,
          620000,
          310000,
          250000,
          500000,
          970000,
          34000,
          280000,
          250000,
          560000,
          78000,
          440000,
          390000,
          440000,
          47000,
          940000,
          150000,
          620000,
          1120000,
          366000,
          189000,
          420000,
          110000,
          410000,
          180000,
          180000,
          110000,
          150000,
          160000,
          180000,
          450000,
          140000,
          150000,
          340000,
          2340000,
          4377,
          1170000,
          16000,
          88000,
          3440000,
          310000,
          680000,
          100000,
          17000,
          180000,
          120000,
          73000,
          210000,
          28000,
          370000,
          410000,
          82000,
          97000,
          210000,
          320000,
          610000,
          240000,
          482000,
          420000,
          18000,
          2200000,
          180000,
          64000,
          480000,
          550000,
          460000,
          556000,
          1100000,
          83000,
          160000,
          45000,
          200000,
          470000,
          210000,
          1700000,
          20000,
          110000,
          300000,
          100000,
          58000,
          190000,
          980000,
          98000,
          120000,
          220000,
          1650000,
          23000,
          220000,
          1910000,
          761000,
          75000,
          420000,
          490000,
          630000,
          590000,
          740000,
          68000,
          660000,
          110000,
          87000,
          720000,
          110000,
          230000,
          190000,
          323000,
          34000,
          250000,
          320000,
          200000,
          15000,
          760000,
          400000,
          487000,
          540000,
          1030000,
          470000,
          290000,
          67000,
          240000,
          18000,
          110000,
          380000,
          29000,
          360000,
          270000,
          360000,
          52000,
          146000,
          100000,
          760000,
          210000,
          930000,
          40000,
          73000,
          430000,
          530000,
          210000,
          200000,
          88000,
          160000,
          80000,
          170000,
          96000,
          58000,
          600000,
          340000,
          100000,
          12000,
          200000,
          650000,
          2280000,
          230000,
          350000,
          94000,
          170000,
          41000,
          290000,
          1010000,
          314000,
          37000,
          190000,
          96000,
          210000,
          230000,
          1330000,
          610000,
          200000,
          71000,
          740000,
          300000,
          440000,
          510000,
          120000,
          180000,
          158000,
          23000,
          390000,
          420000,
          59000,
          35000,
          240000,
          110000,
          1720000,
          150000,
          335000,
          190000,
          39000,
          73000,
          55000,
          3640000,
          320000,
          150000,
          300000,
          1180000,
          30000,
          590000,
          58000,
          170000,
          621000,
          280000,
          200000,
          24000,
          100000,
          77000,
          260000,
          73000,
          1040000,
          32000,
          480000,
          2360000,
          1760000,
          51000,
          130000,
          157000,
          50000,
          33000,
          64000,
          930000,
          595000,
          460000,
          688000,
          438000,
          1360000,
          550000,
          100000,
          27000,
          260000,
          240000,
          390000,
          540000,
          850000,
          1368,
          23000,
          190000,
          2620000,
          190000,
          280000,
          99000,
          25000,
          100000,
          190000,
          160000,
          110000,
          610000,
          610000,
          73000,
          38000,
          420000,
          210000,
          60000,
          280000,
          1020000,
          290000,
          99000,
          54000,
          410000,
          140000,
          200000,
          58000,
          68000,
          590000,
          680000,
          1110000,
          870000,
          100000,
          370000,
          360000,
          120000,
          310000,
          179000,
          1420000,
          520000,
          250000,
          71000,
          190000,
          895000,
          500000,
          160000,
          210000,
          180000,
          100000,
          160000,
          280000,
          31000,
          310000,
          65000,
          170000,
          290000,
          410000,
          25000,
          260000,
          270000,
          260000,
          91000,
          270000,
          18000,
          280000,
          41000,
          36000,
          100000,
          190000,
          24000,
          210000,
          540000,
          140000,
          320000,
          11000,
          486000,
          650000,
          210000,
          1480000,
          71000,
          320000,
          480000,
          230000,
          110000,
          310000,
          690000,
          230000,
          117000,
          370000,
          180000,
          220000,
          490000,
          140000,
          99000,
          1810000,
          320000,
          550000,
          1459,
          725000,
          110000,
          240000,
          888000,
          270000,
          410000,
          624000,
          950000,
          130000,
          140000,
          550000,
          340000,
          660000,
          210000,
          71000,
          68000,
          210000,
          96000,
          270000,
          720000,
          22000,
          2380000,
          620000,
          960000,
          100000,
          210000,
          180000,
          100000,
          510000,
          140000,
          180000,
          430000,
          420000,
          1430000,
          470000,
          467000,
          2720000,
          350000,
          530000,
          200000,
          860000,
          1030000,
          80000,
          174000,
          780000,
          92000,
          750000,
          218000,
          380000,
          240000,
          280000,
          4164,
          970000,
          81000,
          75000,
          140000,
          160000,
          130000,
          300000,
          190000,
          140000,
          92000,
          280000,
          440000,
          92000,
          1110000,
          370000,
          180000,
          210000,
          130000,
          520000,
          210000,
          54000,
          260000,
          540000,
          570000,
          60000,
          130000,
          350000,
          44000,
          460000,
          320000,
          260000,
          900000,
          520000,
          160000,
          12000,
          810000,
          68000,
          190000,
          82000,
          310000,
          110000,
          380000,
          1227,
          220000,
          31000,
          59000,
          470000,
          300000,
          190000,
          16000,
          89000,
          100000,
          160000,
          170000,
          310000,
          120000,
          3170000,
          53000,
          370000,
          120000,
          130000,
          52000,
          110000,
          680000,
          301000,
          460000,
          540000,
          630000,
          760000,
          290000,
          620000,
          180000,
          280000,
          330000,
          1770000,
          36000,
          410000,
          120000,
          270000,
          970000,
          230000,
          44000,
          53000,
          470000,
          170000,
          320000,
          170000,
          83000,
          220000,
          99000,
          560000,
          2400000,
          290000,
          600000,
          915000,
          78000,
          51000,
          200000,
          650000,
          588000,
          470000,
          210000,
          140000,
          610000,
          150000,
          43000,
          76000,
          93000,
          260000,
          40000,
          141000,
          1840000,
          390000
         ],
         "xaxis": "x",
         "y": [
          991712.0543808343,
          330903.00345634046,
          87355.48439262992,
          167770.35332790305,
          445497.4575268448,
          214653.38140537118,
          77297.04257649543,
          29954.70953311687,
          344658.42517269903,
          241281.6615226019,
          100302.86114956453,
          154307.1133191852,
          100115.85027808555,
          439769.7158393252,
          631481.4366595731,
          386879.513287414,
          607840.4908810639,
          220251.46393249254,
          318172.1481601653,
          207025.98131519367,
          600995.3882504511,
          580674.2401651134,
          341387.9264931908,
          130658.93917835488,
          511373.56339421734,
          174292.77481889466,
          423797.24720665306,
          647444.2263502904,
          342104.25523215544,
          479125.60040712176,
          78239.34564174409,
          84393.1198852848,
          496214.11342840845,
          152547.92126264813,
          355843.36046768574,
          211349.26977416984,
          462455.71012573637,
          392950.6919446224,
          367349.0691481548,
          194935.63873984123,
          270849.9118273243,
          36379.273827053,
          770735.7363520929,
          340806.6027593565,
          467030.30917498557,
          95095.41908176709,
          568487.0341584428,
          353480.87729604315,
          606547.5559069617,
          140361.51591490264,
          537457.897120081,
          250729.16299067746,
          385352.93531233154,
          -9521.294244939447,
          747773.9865722682,
          241140.4935955517,
          367039.4779988168,
          97335.00613998943,
          172588.3838735666,
          29970.313399841227,
          181415.58098574102,
          605211.9484868578,
          136376.62861635166,
          277259.9850363504,
          639234.2896924805,
          437625.34595156985,
          147580.89935864147,
          233307.18400099664,
          315749.78814514517,
          223220.4715377864,
          157422.04559555792,
          85303.71494828409,
          177278.1508020937,
          379038.5214560076,
          423255.7065080663,
          514973.4543324497,
          86293.00611018282,
          122758.9663614725,
          307644.75170346175,
          399303.31504912686,
          154632.07905365675,
          427682.65178548323,
          474413.16767247923,
          186670.51597447947,
          479117.7032627907,
          820099.0247770986,
          126777.9776795585,
          85059.13121469383,
          21567.309268487214,
          215021.03654995427,
          462490.134382153,
          342174.8355317526,
          28649.391170933348,
          345885.22129191994,
          143573.10169733164,
          255288.48324887385,
          94445.93201193091,
          187924.12545368963,
          191564.48944510784,
          1469782.9664263518,
          203771.6351092058,
          355440.31805967505,
          216762.29251828525,
          418770.85467300017,
          54811.272593419286,
          733040.740633435,
          217337.18024228225,
          264380.55586189823,
          872509.6960909435,
          474814.69310614216,
          886360.3051005418,
          194590.68174343504,
          152077.5719984418,
          318325.96506088896,
          106908.97072474584,
          201764.9347970534,
          101575.28116481077,
          169766.53230322443,
          243789.10973127847,
          97425.95564147992,
          1602232.8963710698,
          712350.4556283094,
          157086.67491191978,
          99617.81148402415,
          84722.76250084951,
          1565103.0648722136,
          76425.44354353748,
          93935.99811265156,
          108964.4688403872,
          485871.92287517723,
          513532.1819388729,
          18411.548339159155,
          100586.29495159134,
          2119617.0056103887,
          1038.7851551434971,
          488088.2223745725,
          200080.3213047525,
          420224.68827761797,
          961444.3891663696,
          183146.67086135014,
          47888.842151391276,
          244063.3748314657,
          175239.04274423694,
          449404.1882783972,
          140828.20228922064,
          1668543.6353322591,
          328599.49918241595,
          374624.9437343641,
          312142.37285114086,
          714502.2555648834,
          419827.7868618595,
          211202.92058698027,
          328026.66092137626,
          1202916.6527942298,
          130842.12859262874,
          365449.5444858546,
          127759.95895462362,
          84001.5978141801,
          310223.05742219335,
          780055.9493969899,
          181118.96125007822,
          134878.4331898207,
          104495.72744400894,
          106769.20085521272,
          95021.0961211148,
          120194.87297022255,
          1365110.423223031,
          159903.67338626197,
          107005.28358887501,
          217785.1590150435,
          441461.8640844188,
          197368.3527576792,
          34180.32576465916,
          140020.38713373945,
          193832.45031430887,
          505296.7743210578,
          241616.3246379034,
          292852.3941105371,
          446940.7590230436,
          471134.1596599388,
          409566.0325085697,
          121236.84373150647,
          119489.22604457817,
          156017.15694286392,
          322130.38728818594,
          87989.05537266907,
          1742907.1026610385,
          30402.720106268443,
          306520.01232496987,
          500347.9675465826,
          445281.10963291774,
          401998.5787349882,
          251914.57470259583,
          201239.72514578147,
          636075.0281582122,
          122787.56700490744,
          492292.9181037039,
          482932.0154282141,
          35984.09342114083,
          351307.3388942271,
          324957.2540676133,
          123641.53042949799,
          318172.1481601653,
          282645.23087697406,
          133933.25648828095,
          161493.21510938474,
          1271098.834282843,
          1513098.1937083618,
          147619.23082086907,
          485267.0168591094,
          150890.792526931,
          313344.63107959187,
          454529.57659427467,
          126972.21375356584,
          1098607.3680629535,
          223017.50678683553,
          621330.7340529542,
          148264.91996613762,
          912194.7625484966,
          3270675.3644236256,
          384295.78458731394,
          56100.81781385556,
          214380.16334060812,
          431089.00958525395,
          152446.93085665943,
          567090.6896955352,
          273816.3543202692,
          78577.88403473925,
          474609.1474703771,
          328182.7198148739,
          302345.43584806693,
          210894.77387757308,
          182385.05324451756,
          31176.866554959546,
          90399.0013110676,
          919345.8457373853,
          342104.25523215544,
          449720.0482162,
          220202.60690494606,
          435161.4000620746,
          129611.9039693456,
          1091331.6325122267,
          27695.85058333812,
          431935.9423504584,
          323181.42554271774,
          1542438.493430808,
          165035.79492331593,
          1475965.526435599,
          492744.49649624765,
          424294.99724171945,
          89432.50463423136,
          840199.1194981973,
          167610.88491318317,
          565122.4424773857,
          882258.4509931818,
          667263.8873142536,
          329876.7251819132,
          331939.6468154987,
          188948.70354004894,
          473892.8340591274,
          283019.68408347125,
          164133.05140996753,
          215423.4808624065,
          232485.53971400292,
          236997.5386060376,
          290709.91296556365,
          722651.0445700487,
          279021.1973431127,
          152859.57638978979,
          380245.132960891,
          1702330.5620687592,
          24801.127989143213,
          1926163.813653702,
          32034.0812294669,
          185910.7364372588,
          1758747.1444352653,
          343401.61553018936,
          194150.0756856909,
          273945.55269551586,
          125734.52653231761,
          124466.0005323763,
          130739.04366610885,
          105762.57953102708,
          298877.6600998232,
          2530.096097590837,
          101787.58988465759,
          532215.6756919295,
          163520.847771303,
          245505.3008954766,
          164997.92972622978,
          365482.8815152778,
          460684.0732182085,
          434373.12260809675,
          457363.6667202319,
          689130.4754636036,
          30711.251993024372,
          508276.8753437024,
          340508.5131408685,
          26398.374956706793,
          355195.84572074877,
          460271.00928856427,
          498324.8007052608,
          600086.267501673,
          1103846.1644095562,
          97420.80255594118,
          358557.918488992,
          94152.10697579077,
          222490.91996594495,
          308804.7392483067,
          162893.51365010682,
          1402016.0183514548,
          30260.059142822407,
          135035.82232954985,
          490936.5663111617,
          136370.799800102,
          93829.38540391733,
          125527.65758777935,
          1198228.4901781539,
          109327.97852644886,
          98699.91227647499,
          92872.4130434788,
          1295012.9025608457,
          35447.440550164065,
          324245.2832989448,
          1472991.2891332498,
          674967.4889325332,
          106060.4129960738,
          309222.7488049674,
          410868.5550783124,
          493275.3003509981,
          537694.3757354997,
          536688.119991431,
          50698.67893664346,
          1384787.0914966182,
          176503.4765771135,
          156356.94354190238,
          878043.9474961438,
          136056.78100587352,
          471220.4334522016,
          344437.78953588457,
          576425.6925641138,
          136879.27691581415,
          128218.46241684009,
          284107.4503490078,
          397237.2120068325,
          27695.85058333812,
          455740.4751575937,
          484178.74582233286,
          416677.22624810116,
          711722.6875352393,
          567209.1930146086,
          467675.3748032191,
          267019.3557089563,
          134313.65322041785,
          395583.19214983506,
          32459.007205216265,
          150186.25152301328,
          729769.7339369889,
          119816.28705067435,
          316786.54678914294,
          227782.0846852621,
          651556.3440458622,
          88694.69806646903,
          95095.41908176709,
          121742.38310137983,
          717299.1431706197,
          342748.67492513655,
          331367.06916068826,
          116558.6912858789,
          93981.10634017937,
          824423.5778167829,
          509367.32845958945,
          115713.59307016362,
          199250.92423658536,
          205987.28264942594,
          85148.80806459331,
          190170.51920168792,
          123936.5267345732,
          129595.13425628285,
          98228.03979243053,
          642616.2488921243,
          311476.9160128612,
          113474.01872768454,
          27695.85058333812,
          176163.37774681923,
          575849.2166768102,
          554964.1639828999,
          160033.7541558188,
          481049.81129753886,
          140451.03143726723,
          195997.86575750328,
          107143.54315269353,
          223017.50678683553,
          1154258.1395802645,
          387779.6681723719,
          139779.6051688878,
          342758.56630667084,
          126769.16920544299,
          223644.57573265105,
          303497.06378009706,
          1086849.4524851264,
          411851.96194841975,
          279390.6462123936,
          148171.61800070925,
          504388.4526615614,
          646557.4191756257,
          513414.65281240013,
          387148.01772843103,
          240545.97584309796,
          145790.57518838276,
          129303.06366705049,
          30260.059142822407,
          789906.7237178342,
          641954.7533108265,
          31870.115876814994,
          82492.77223172666,
          185812.8752729423,
          147113.60889901881,
          1396953.5392494951,
          187816.48753223778,
          445030.29075383185,
          311938.04561177676,
          87579.9497282221,
          116145.94029335686,
          84268.75213192307,
          1188074.6174952697,
          977479.3584813551,
          198382.51106877223,
          352099.20181850874,
          1317494.4412780495,
          181437.14715818342,
          360315.17012125876,
          170268.43323541238,
          368681.25664987543,
          669248.7038498293,
          359656.0235611873,
          254805.24900976932,
          35061.99734335181,
          101306.1409669304,
          107740.80138465868,
          303268.49981766444,
          96764.12500788855,
          713314.4560623949,
          182059.00168870707,
          678233.598699916,
          1386705.7871524924,
          1117563.343078745,
          48339.65498124056,
          242380.31516270337,
          352776.9207359114,
          124930.17164565722,
          95993.16198199506,
          156116.38184661124,
          576123.6096742116,
          459557.8340453065,
          540845.2109050052,
          436690.0572134279,
          496366.4390833851,
          1533165.842041947,
          624745.8074900808,
          133234.86237094327,
          30260.059142822407,
          187726.3113070558,
          220202.60690494606,
          162280.07957775902,
          599000.8889415222,
          1577746.0357920388,
          -6040.278273317961,
          93117.11785518478,
          280505.3326660904,
          1741176.4563192478,
          119648.8879953511,
          119307.03154008847,
          283153.58637496893,
          86573.34920163636,
          150985.75032130897,
          301614.6668543248,
          134677.53873056325,
          131294.6779793125,
          474621.98726569064,
          226327.6381513829,
          97339.45889572026,
          101949.21724974884,
          416791.78050547134,
          293362.7094823514,
          92502.63999878157,
          621736.8384532805,
          1224574.008773167,
          341453.11905909306,
          123861.29971606651,
          210736.51354428497,
          397426.2431582648,
          232137.73297818383,
          378312.3536436878,
          104364.06978890554,
          114590.35552260242,
          463764.68630119524,
          1413463.5481093,
          1204391.6543261234,
          1094341.1589651103,
          421405.47787936655,
          340875.47507642605,
          463832.32491524157,
          193522.27227670082,
          233085.83056118723,
          369069.75967946864,
          672859.7081236257,
          162759.13221539877,
          561327.3059707762,
          81374.5812246812,
          199200.39623090127,
          763879.1590093164,
          303679.63734909066,
          199961.03934156056,
          196953.41236995798,
          226601.67726335154,
          142220.7501220327,
          315543.8237508248,
          565319.9285849123,
          95531.87994815309,
          185985.8510334626,
          86822.77913618927,
          322045.73572237894,
          197785.4636041455,
          606790.7962924243,
          85135.59218246842,
          160015.92074884922,
          104189.58347075137,
          316201.22770949337,
          85769.13645915108,
          224407.18581321742,
          103385.90265324528,
          388613.4540063123,
          101648.18412253779,
          91397.54703268857,
          101924.22382781615,
          160726.07662609697,
          212383.35940124435,
          235476.79912845284,
          575849.2166768102,
          218365.26560906827,
          440028.01715259353,
          21309.527274237258,
          383326.27361546067,
          591866.6173178299,
          335229.04362926236,
          1342271.379900474,
          126140.92987005622,
          470058.9229665202,
          385317.01645599527,
          279008.84046623483,
          346243.6875406108,
          127710.80762243843,
          452829.9489644022,
          579136.9408577259,
          185501.88126097593,
          469442.3926383528,
          128504.24994761607,
          164133.05140996753,
          483522.90128847584,
          243370.19426147657,
          248900.95889503788,
          1758747.1444352653,
          335556.4517718448,
          353403.6742810892,
          43085.42239103407,
          782822.5113476308,
          100718.2125911952,
          216784.5807203326,
          803610.3855128147,
          262412.51243052905,
          464877.7105739723,
          576407.0320687902,
          808573.6877807493,
          120707.8378686955,
          125274.97004167148,
          423409.83731428813,
          337571.4142454105,
          891553.2759685537,
          169336.16037235863,
          126928.12716838636,
          369841.98511292506,
          426546.5805483854,
          93547.94182396485,
          158288.97790387037,
          470043.9323168179,
          164498.3803148092,
          2098328.8333023554,
          570009.4849476218,
          649345.697899312,
          220784.82224179944,
          348001.588339435,
          171563.73290951343,
          187997.14335629452,
          518494.727476175,
          147779.0398412077,
          302104.55038835254,
          273772.92744658043,
          739905.8344513266,
          718782.677153857,
          590359.9238358367,
          506783.75926577905,
          2164216.6808629674,
          335599.6970946359,
          386960.6228680462,
          247439.17151800136,
          650458.83927328,
          636369.596892751,
          203231.61461258976,
          247900.13704708224,
          876187.076948075,
          180404.4854744049,
          671029.5493978448,
          359274.55372115626,
          398594.0947163138,
          222839.41770093518,
          607840.4908810639,
          33744.85768260518,
          638102.8662609503,
          113011.8442222554,
          211280.40032909735,
          117985.60321205553,
          375988.25491736946,
          173437.41906548003,
          278240.0011472596,
          201280.88444879628,
          523944.1425241712,
          25168.375199311886,
          222303.67759052286,
          498703.820064949,
          146174.86026321212,
          569653.6263091037,
          631466.0402505033,
          205515.20096998074,
          204993.47376172428,
          343052.7963993275,
          344913.7163999026,
          164133.05140996753,
          95623.54962590725,
          307859.24520271923,
          670248.611445854,
          593964.2924543218,
          120333.49885267612,
          225005.8545899805,
          634828.0376620037,
          281543.64463444875,
          400295.36902969086,
          37744.44708502985,
          276928.2710321385,
          664507.4165822226,
          673042.6407131508,
          129972.93607351853,
          30337.766907729772,
          621460.0490350983,
          98614.66481078774,
          524926.7587494777,
          137845.86716806685,
          143801.23537075988,
          197938.45281548522,
          367670.0807702672,
          -6040.278273317961,
          583808.0391987499,
          241188.58392198442,
          215475.11481621032,
          625153.9712216854,
          664177.8883907676,
          204181.1788817883,
          24234.02440732786,
          90589.9292582556,
          984050.7873451785,
          267633.2042353374,
          381991.1251626223,
          188554.71408466547,
          188407.96075855315,
          345451.21884897124,
          99686.97907844165,
          162197.197107156,
          193841.66607658964,
          136133.021903518,
          43247.585206650976,
          180103.49413736127,
          805833.8288677143,
          402790.4057904733,
          318775.3996972814,
          487965.7055212539,
          966445.6795284748,
          479981.17399814154,
          442090.45039528224,
          616714.3410400258,
          314070.59019846644,
          245716.33368581856,
          316817.27440787305,
          1470428.4282025737,
          97617.89732025878,
          616923.4157659785,
          184807.57495426218,
          328979.9353104846,
          811370.5292591538,
          29998.334382203917,
          214276.5699237266,
          170890.5833693176,
          215126.87361647803,
          207013.17413503808,
          349475.2544264749,
          181761.5668589815,
          248324.01086931853,
          277103.5716818648,
          116303.09499468184,
          359096.0832848426,
          1381266.0862330943,
          86034.04804680645,
          438010.1890638216,
          805970.7552326054,
          120994.10100440426,
          101254.57232842609,
          118496.50336833794,
          734254.9413300898,
          595643.6142148507,
          457870.2856496057,
          273497.6062215612,
          78132.92701123693,
          488534.7992794656,
          354047.45545574976,
          189768.80299063493,
          97963.80036595452,
          304933.2291421225,
          403534.7404659603,
          90634.64242591949,
          393371.9999142308,
          1232132.813072179,
          477575.6612157915
         ],
         "yaxis": "y"
        }
       ],
       "layout": {
        "legend": {
         "tracegroupgap": 0
        },
        "shapes": [
         {
          "line": {
           "color": "gray",
           "dash": "dash"
          },
          "type": "line",
          "x0": 1227,
          "x1": 4110000,
          "y0": 1227,
          "y1": 4110000
         }
        ],
        "template": {
         "data": {
          "bar": [
           {
            "error_x": {
             "color": "#2a3f5f"
            },
            "error_y": {
             "color": "#2a3f5f"
            },
            "marker": {
             "line": {
              "color": "#E5ECF6",
              "width": 0.5
             },
             "pattern": {
              "fillmode": "overlay",
              "size": 10,
              "solidity": 0.2
             }
            },
            "type": "bar"
           }
          ],
          "barpolar": [
           {
            "marker": {
             "line": {
              "color": "#E5ECF6",
              "width": 0.5
             },
             "pattern": {
              "fillmode": "overlay",
              "size": 10,
              "solidity": 0.2
             }
            },
            "type": "barpolar"
           }
          ],
          "carpet": [
           {
            "aaxis": {
             "endlinecolor": "#2a3f5f",
             "gridcolor": "white",
             "linecolor": "white",
             "minorgridcolor": "white",
             "startlinecolor": "#2a3f5f"
            },
            "baxis": {
             "endlinecolor": "#2a3f5f",
             "gridcolor": "white",
             "linecolor": "white",
             "minorgridcolor": "white",
             "startlinecolor": "#2a3f5f"
            },
            "type": "carpet"
           }
          ],
          "choropleth": [
           {
            "colorbar": {
             "outlinewidth": 0,
             "ticks": ""
            },
            "type": "choropleth"
           }
          ],
          "contour": [
           {
            "colorbar": {
             "outlinewidth": 0,
             "ticks": ""
            },
            "colorscale": [
             [
              0,
              "#0d0887"
             ],
             [
              0.1111111111111111,
              "#46039f"
             ],
             [
              0.2222222222222222,
              "#7201a8"
             ],
             [
              0.3333333333333333,
              "#9c179e"
             ],
             [
              0.4444444444444444,
              "#bd3786"
             ],
             [
              0.5555555555555556,
              "#d8576b"
             ],
             [
              0.6666666666666666,
              "#ed7953"
             ],
             [
              0.7777777777777778,
              "#fb9f3a"
             ],
             [
              0.8888888888888888,
              "#fdca26"
             ],
             [
              1,
              "#f0f921"
             ]
            ],
            "type": "contour"
           }
          ],
          "contourcarpet": [
           {
            "colorbar": {
             "outlinewidth": 0,
             "ticks": ""
            },
            "type": "contourcarpet"
           }
          ],
          "heatmap": [
           {
            "colorbar": {
             "outlinewidth": 0,
             "ticks": ""
            },
            "colorscale": [
             [
              0,
              "#0d0887"
             ],
             [
              0.1111111111111111,
              "#46039f"
             ],
             [
              0.2222222222222222,
              "#7201a8"
             ],
             [
              0.3333333333333333,
              "#9c179e"
             ],
             [
              0.4444444444444444,
              "#bd3786"
             ],
             [
              0.5555555555555556,
              "#d8576b"
             ],
             [
              0.6666666666666666,
              "#ed7953"
             ],
             [
              0.7777777777777778,
              "#fb9f3a"
             ],
             [
              0.8888888888888888,
              "#fdca26"
             ],
             [
              1,
              "#f0f921"
             ]
            ],
            "type": "heatmap"
           }
          ],
          "heatmapgl": [
           {
            "colorbar": {
             "outlinewidth": 0,
             "ticks": ""
            },
            "colorscale": [
             [
              0,
              "#0d0887"
             ],
             [
              0.1111111111111111,
              "#46039f"
             ],
             [
              0.2222222222222222,
              "#7201a8"
             ],
             [
              0.3333333333333333,
              "#9c179e"
             ],
             [
              0.4444444444444444,
              "#bd3786"
             ],
             [
              0.5555555555555556,
              "#d8576b"
             ],
             [
              0.6666666666666666,
              "#ed7953"
             ],
             [
              0.7777777777777778,
              "#fb9f3a"
             ],
             [
              0.8888888888888888,
              "#fdca26"
             ],
             [
              1,
              "#f0f921"
             ]
            ],
            "type": "heatmapgl"
           }
          ],
          "histogram": [
           {
            "marker": {
             "pattern": {
              "fillmode": "overlay",
              "size": 10,
              "solidity": 0.2
             }
            },
            "type": "histogram"
           }
          ],
          "histogram2d": [
           {
            "colorbar": {
             "outlinewidth": 0,
             "ticks": ""
            },
            "colorscale": [
             [
              0,
              "#0d0887"
             ],
             [
              0.1111111111111111,
              "#46039f"
             ],
             [
              0.2222222222222222,
              "#7201a8"
             ],
             [
              0.3333333333333333,
              "#9c179e"
             ],
             [
              0.4444444444444444,
              "#bd3786"
             ],
             [
              0.5555555555555556,
              "#d8576b"
             ],
             [
              0.6666666666666666,
              "#ed7953"
             ],
             [
              0.7777777777777778,
              "#fb9f3a"
             ],
             [
              0.8888888888888888,
              "#fdca26"
             ],
             [
              1,
              "#f0f921"
             ]
            ],
            "type": "histogram2d"
           }
          ],
          "histogram2dcontour": [
           {
            "colorbar": {
             "outlinewidth": 0,
             "ticks": ""
            },
            "colorscale": [
             [
              0,
              "#0d0887"
             ],
             [
              0.1111111111111111,
              "#46039f"
             ],
             [
              0.2222222222222222,
              "#7201a8"
             ],
             [
              0.3333333333333333,
              "#9c179e"
             ],
             [
              0.4444444444444444,
              "#bd3786"
             ],
             [
              0.5555555555555556,
              "#d8576b"
             ],
             [
              0.6666666666666666,
              "#ed7953"
             ],
             [
              0.7777777777777778,
              "#fb9f3a"
             ],
             [
              0.8888888888888888,
              "#fdca26"
             ],
             [
              1,
              "#f0f921"
             ]
            ],
            "type": "histogram2dcontour"
           }
          ],
          "mesh3d": [
           {
            "colorbar": {
             "outlinewidth": 0,
             "ticks": ""
            },
            "type": "mesh3d"
           }
          ],
          "parcoords": [
           {
            "line": {
             "colorbar": {
              "outlinewidth": 0,
              "ticks": ""
             }
            },
            "type": "parcoords"
           }
          ],
          "pie": [
           {
            "automargin": true,
            "type": "pie"
           }
          ],
          "scatter": [
           {
            "fillpattern": {
             "fillmode": "overlay",
             "size": 10,
             "solidity": 0.2
            },
            "type": "scatter"
           }
          ],
          "scatter3d": [
           {
            "line": {
             "colorbar": {
              "outlinewidth": 0,
              "ticks": ""
             }
            },
            "marker": {
             "colorbar": {
              "outlinewidth": 0,
              "ticks": ""
             }
            },
            "type": "scatter3d"
           }
          ],
          "scattercarpet": [
           {
            "marker": {
             "colorbar": {
              "outlinewidth": 0,
              "ticks": ""
             }
            },
            "type": "scattercarpet"
           }
          ],
          "scattergeo": [
           {
            "marker": {
             "colorbar": {
              "outlinewidth": 0,
              "ticks": ""
             }
            },
            "type": "scattergeo"
           }
          ],
          "scattergl": [
           {
            "marker": {
             "colorbar": {
              "outlinewidth": 0,
              "ticks": ""
             }
            },
            "type": "scattergl"
           }
          ],
          "scattermapbox": [
           {
            "marker": {
             "colorbar": {
              "outlinewidth": 0,
              "ticks": ""
             }
            },
            "type": "scattermapbox"
           }
          ],
          "scatterpolar": [
           {
            "marker": {
             "colorbar": {
              "outlinewidth": 0,
              "ticks": ""
             }
            },
            "type": "scatterpolar"
           }
          ],
          "scatterpolargl": [
           {
            "marker": {
             "colorbar": {
              "outlinewidth": 0,
              "ticks": ""
             }
            },
            "type": "scatterpolargl"
           }
          ],
          "scatterternary": [
           {
            "marker": {
             "colorbar": {
              "outlinewidth": 0,
              "ticks": ""
             }
            },
            "type": "scatterternary"
           }
          ],
          "surface": [
           {
            "colorbar": {
             "outlinewidth": 0,
             "ticks": ""
            },
            "colorscale": [
             [
              0,
              "#0d0887"
             ],
             [
              0.1111111111111111,
              "#46039f"
             ],
             [
              0.2222222222222222,
              "#7201a8"
             ],
             [
              0.3333333333333333,
              "#9c179e"
             ],
             [
              0.4444444444444444,
              "#bd3786"
             ],
             [
              0.5555555555555556,
              "#d8576b"
             ],
             [
              0.6666666666666666,
              "#ed7953"
             ],
             [
              0.7777777777777778,
              "#fb9f3a"
             ],
             [
              0.8888888888888888,
              "#fdca26"
             ],
             [
              1,
              "#f0f921"
             ]
            ],
            "type": "surface"
           }
          ],
          "table": [
           {
            "cells": {
             "fill": {
              "color": "#EBF0F8"
             },
             "line": {
              "color": "white"
             }
            },
            "header": {
             "fill": {
              "color": "#C8D4E3"
             },
             "line": {
              "color": "white"
             }
            },
            "type": "table"
           }
          ]
         },
         "layout": {
          "annotationdefaults": {
           "arrowcolor": "#2a3f5f",
           "arrowhead": 0,
           "arrowwidth": 1
          },
          "autotypenumbers": "strict",
          "coloraxis": {
           "colorbar": {
            "outlinewidth": 0,
            "ticks": ""
           }
          },
          "colorscale": {
           "diverging": [
            [
             0,
             "#8e0152"
            ],
            [
             0.1,
             "#c51b7d"
            ],
            [
             0.2,
             "#de77ae"
            ],
            [
             0.3,
             "#f1b6da"
            ],
            [
             0.4,
             "#fde0ef"
            ],
            [
             0.5,
             "#f7f7f7"
            ],
            [
             0.6,
             "#e6f5d0"
            ],
            [
             0.7,
             "#b8e186"
            ],
            [
             0.8,
             "#7fbc41"
            ],
            [
             0.9,
             "#4d9221"
            ],
            [
             1,
             "#276419"
            ]
           ],
           "sequential": [
            [
             0,
             "#0d0887"
            ],
            [
             0.1111111111111111,
             "#46039f"
            ],
            [
             0.2222222222222222,
             "#7201a8"
            ],
            [
             0.3333333333333333,
             "#9c179e"
            ],
            [
             0.4444444444444444,
             "#bd3786"
            ],
            [
             0.5555555555555556,
             "#d8576b"
            ],
            [
             0.6666666666666666,
             "#ed7953"
            ],
            [
             0.7777777777777778,
             "#fb9f3a"
            ],
            [
             0.8888888888888888,
             "#fdca26"
            ],
            [
             1,
             "#f0f921"
            ]
           ],
           "sequentialminus": [
            [
             0,
             "#0d0887"
            ],
            [
             0.1111111111111111,
             "#46039f"
            ],
            [
             0.2222222222222222,
             "#7201a8"
            ],
            [
             0.3333333333333333,
             "#9c179e"
            ],
            [
             0.4444444444444444,
             "#bd3786"
            ],
            [
             0.5555555555555556,
             "#d8576b"
            ],
            [
             0.6666666666666666,
             "#ed7953"
            ],
            [
             0.7777777777777778,
             "#fb9f3a"
            ],
            [
             0.8888888888888888,
             "#fdca26"
            ],
            [
             1,
             "#f0f921"
            ]
           ]
          },
          "colorway": [
           "#636efa",
           "#EF553B",
           "#00cc96",
           "#ab63fa",
           "#FFA15A",
           "#19d3f3",
           "#FF6692",
           "#B6E880",
           "#FF97FF",
           "#FECB52"
          ],
          "font": {
           "color": "#2a3f5f"
          },
          "geo": {
           "bgcolor": "white",
           "lakecolor": "white",
           "landcolor": "#E5ECF6",
           "showlakes": true,
           "showland": true,
           "subunitcolor": "white"
          },
          "hoverlabel": {
           "align": "left"
          },
          "hovermode": "closest",
          "mapbox": {
           "style": "light"
          },
          "paper_bgcolor": "white",
          "plot_bgcolor": "#E5ECF6",
          "polar": {
           "angularaxis": {
            "gridcolor": "white",
            "linecolor": "white",
            "ticks": ""
           },
           "bgcolor": "#E5ECF6",
           "radialaxis": {
            "gridcolor": "white",
            "linecolor": "white",
            "ticks": ""
           }
          },
          "scene": {
           "xaxis": {
            "backgroundcolor": "#E5ECF6",
            "gridcolor": "white",
            "gridwidth": 2,
            "linecolor": "white",
            "showbackground": true,
            "ticks": "",
            "zerolinecolor": "white"
           },
           "yaxis": {
            "backgroundcolor": "#E5ECF6",
            "gridcolor": "white",
            "gridwidth": 2,
            "linecolor": "white",
            "showbackground": true,
            "ticks": "",
            "zerolinecolor": "white"
           },
           "zaxis": {
            "backgroundcolor": "#E5ECF6",
            "gridcolor": "white",
            "gridwidth": 2,
            "linecolor": "white",
            "showbackground": true,
            "ticks": "",
            "zerolinecolor": "white"
           }
          },
          "shapedefaults": {
           "line": {
            "color": "#2a3f5f"
           }
          },
          "ternary": {
           "aaxis": {
            "gridcolor": "white",
            "linecolor": "white",
            "ticks": ""
           },
           "baxis": {
            "gridcolor": "white",
            "linecolor": "white",
            "ticks": ""
           },
           "bgcolor": "#E5ECF6",
           "caxis": {
            "gridcolor": "white",
            "linecolor": "white",
            "ticks": ""
           }
          },
          "title": {
           "x": 0.05
          },
          "xaxis": {
           "automargin": true,
           "gridcolor": "white",
           "linecolor": "white",
           "ticks": "",
           "title": {
            "standoff": 15
           },
           "zerolinecolor": "white",
           "zerolinewidth": 2
          },
          "yaxis": {
           "automargin": true,
           "gridcolor": "white",
           "linecolor": "white",
           "ticks": "",
           "title": {
            "standoff": 15
           },
           "zerolinecolor": "white",
           "zerolinewidth": 2
          }
         }
        },
        "title": {
         "text": "Actual vs Predicted Views",
         "x": 0.5,
         "xanchor": "center",
         "y": 0.85,
         "yanchor": "top"
        },
        "width": 600,
        "xaxis": {
         "anchor": "y",
         "domain": [
          0,
          1
         ],
         "title": {
          "text": "Actual Views"
         }
        },
        "yaxis": {
         "anchor": "x",
         "domain": [
          0,
          1
         ],
         "title": {
          "text": "Predicted Views"
         }
        }
       }
      }
     },
     "metadata": {},
     "output_type": "display_data"
    }
   ],
   "source": [
    "import plotly.express as px\n",
    "\n",
    "fig = px.scatter(x=y_test, y=predicted , labels={'x': 'Actual Views', 'y': 'Predicted Views'},\n",
    "                 title='Actual vs Predicted Views', width=600, color_discrete_sequence=['green'], opacity=0.7)\n",
    "fig.add_shape(type='line', \n",
    "              x0=y_test.min(), y0=y_test.min(), \n",
    "              x1=y_test.max(), y1=y_test.max(),\n",
    "              line=dict(color='gray', dash='dash'))\n",
    "fig.update_layout(\n",
    "    title={\n",
    "        'y':0.85,  # 標題在垂直方向的位置\n",
    "        'x':0.5,  # 標題在水平方向的位置\n",
    "        'xanchor': 'center',  # 確保標題的中心在 x 的位置\n",
    "        'yanchor': 'top'      # 確保標題的底部在 y 的位置\n",
    "    })\n",
    "\n",
    "fig.show()"
   ]
  },
  {
   "cell_type": "code",
   "execution_count": null,
   "metadata": {},
   "outputs": [],
   "source": []
  }
 ],
 "metadata": {
  "kernelspec": {
   "display_name": "base",
   "language": "python",
   "name": "python3"
  },
  "language_info": {
   "codemirror_mode": {
    "name": "ipython",
    "version": 3
   },
   "file_extension": ".py",
   "mimetype": "text/x-python",
   "name": "python",
   "nbconvert_exporter": "python",
   "pygments_lexer": "ipython3",
   "version": "3.9.13"
  }
 },
 "nbformat": 4,
 "nbformat_minor": 2
}
