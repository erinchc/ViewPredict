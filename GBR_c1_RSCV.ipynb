{
 "cells": [
  {
   "cell_type": "code",
   "execution_count": 1,
   "metadata": {},
   "outputs": [
    {
     "data": {
      "text/html": [
       "<div>\n",
       "<style scoped>\n",
       "    .dataframe tbody tr th:only-of-type {\n",
       "        vertical-align: middle;\n",
       "    }\n",
       "\n",
       "    .dataframe tbody tr th {\n",
       "        vertical-align: top;\n",
       "    }\n",
       "\n",
       "    .dataframe thead th {\n",
       "        text-align: right;\n",
       "    }\n",
       "</style>\n",
       "<table border=\"1\" class=\"dataframe\">\n",
       "  <thead>\n",
       "    <tr style=\"text-align: right;\">\n",
       "      <th></th>\n",
       "      <th>channel_name</th>\n",
       "      <th>video_title</th>\n",
       "      <th>views</th>\n",
       "      <th>comments</th>\n",
       "      <th>duration</th>\n",
       "      <th>likes</th>\n",
       "      <th>publish_date</th>\n",
       "      <th>category</th>\n",
       "      <th>channel_startdate</th>\n",
       "      <th>subscribers</th>\n",
       "      <th>channel_totalviews(10K)</th>\n",
       "      <th>Sensationalism_Score</th>\n",
       "      <th>cluster</th>\n",
       "    </tr>\n",
       "  </thead>\n",
       "  <tbody>\n",
       "    <tr>\n",
       "      <th>88</th>\n",
       "      <td>HOOK</td>\n",
       "      <td>在英國酒精路跑，醉到連開膛手傑克都會被嚇跑｜HOOK ft. Surfshark VPN 英...</td>\n",
       "      <td>1000000</td>\n",
       "      <td>748</td>\n",
       "      <td>842</td>\n",
       "      <td>27000</td>\n",
       "      <td>2023-10-29</td>\n",
       "      <td>Entertainment</td>\n",
       "      <td>2017-12-02</td>\n",
       "      <td>1420000</td>\n",
       "      <td>34338.1</td>\n",
       "      <td>34</td>\n",
       "      <td>1</td>\n",
       "    </tr>\n",
       "    <tr>\n",
       "      <th>89</th>\n",
       "      <td>HOOK</td>\n",
       "      <td>24小時只吃「烤箱」料理挑戰！做菜只要3分鐘我開始覺得人生很無聊了==｜HOOK ft. 聲...</td>\n",
       "      <td>1100000</td>\n",
       "      <td>840</td>\n",
       "      <td>874</td>\n",
       "      <td>27000</td>\n",
       "      <td>2023-10-22</td>\n",
       "      <td>Entertainment</td>\n",
       "      <td>2017-12-02</td>\n",
       "      <td>1420000</td>\n",
       "      <td>34338.1</td>\n",
       "      <td>22</td>\n",
       "      <td>1</td>\n",
       "    </tr>\n",
       "    <tr>\n",
       "      <th>90</th>\n",
       "      <td>HOOK</td>\n",
       "      <td>在家自己煮會比較貴嗎？真的很貴耶==【叫外送省七萬】｜HOOK ft. Uber One 會員方案</td>\n",
       "      <td>1100000</td>\n",
       "      <td>1089</td>\n",
       "      <td>1454</td>\n",
       "      <td>26000</td>\n",
       "      <td>2023-10-15</td>\n",
       "      <td>Entertainment</td>\n",
       "      <td>2017-12-02</td>\n",
       "      <td>1420000</td>\n",
       "      <td>34338.1</td>\n",
       "      <td>28</td>\n",
       "      <td>1</td>\n",
       "    </tr>\n",
       "    <tr>\n",
       "      <th>91</th>\n",
       "      <td>HOOK</td>\n",
       "      <td>【物價調查】英國通膨到底多嚴重？不要說吃東西了連酒都快喝不起｜HOOK ft. Surfsh...</td>\n",
       "      <td>1200000</td>\n",
       "      <td>1596</td>\n",
       "      <td>833</td>\n",
       "      <td>28000</td>\n",
       "      <td>2023-10-08</td>\n",
       "      <td>Entertainment</td>\n",
       "      <td>2017-12-02</td>\n",
       "      <td>1420000</td>\n",
       "      <td>34338.1</td>\n",
       "      <td>34</td>\n",
       "      <td>1</td>\n",
       "    </tr>\n",
       "    <tr>\n",
       "      <th>92</th>\n",
       "      <td>HOOK</td>\n",
       "      <td>在英國搭到史上最雷商務艙，就算會被告還是要全部講出來【燒錢來吃#5】｜HOOK ft. Su...</td>\n",
       "      <td>2500000</td>\n",
       "      <td>2174</td>\n",
       "      <td>1425</td>\n",
       "      <td>48000</td>\n",
       "      <td>2023-09-30</td>\n",
       "      <td>Entertainment</td>\n",
       "      <td>2017-12-02</td>\n",
       "      <td>1420000</td>\n",
       "      <td>34338.1</td>\n",
       "      <td>44</td>\n",
       "      <td>1</td>\n",
       "    </tr>\n",
       "  </tbody>\n",
       "</table>\n",
       "</div>"
      ],
      "text/plain": [
       "   channel_name                                        video_title    views  \\\n",
       "88         HOOK  在英國酒精路跑，醉到連開膛手傑克都會被嚇跑｜HOOK ft. Surfshark VPN 英...  1000000   \n",
       "89         HOOK  24小時只吃「烤箱」料理挑戰！做菜只要3分鐘我開始覺得人生很無聊了==｜HOOK ft. 聲...  1100000   \n",
       "90         HOOK  在家自己煮會比較貴嗎？真的很貴耶==【叫外送省七萬】｜HOOK ft. Uber One 會員方案  1100000   \n",
       "91         HOOK  【物價調查】英國通膨到底多嚴重？不要說吃東西了連酒都快喝不起｜HOOK ft. Surfsh...  1200000   \n",
       "92         HOOK  在英國搭到史上最雷商務艙，就算會被告還是要全部講出來【燒錢來吃#5】｜HOOK ft. Su...  2500000   \n",
       "\n",
       "    comments  duration  likes publish_date       category channel_startdate  \\\n",
       "88       748       842  27000   2023-10-29  Entertainment        2017-12-02   \n",
       "89       840       874  27000   2023-10-22  Entertainment        2017-12-02   \n",
       "90      1089      1454  26000   2023-10-15  Entertainment        2017-12-02   \n",
       "91      1596       833  28000   2023-10-08  Entertainment        2017-12-02   \n",
       "92      2174      1425  48000   2023-09-30  Entertainment        2017-12-02   \n",
       "\n",
       "    subscribers  channel_totalviews(10K)  Sensationalism_Score  cluster  \n",
       "88      1420000                  34338.1                    34        1  \n",
       "89      1420000                  34338.1                    22        1  \n",
       "90      1420000                  34338.1                    28        1  \n",
       "91      1420000                  34338.1                    34        1  \n",
       "92      1420000                  34338.1                    44        1  "
      ]
     },
     "execution_count": 1,
     "metadata": {},
     "output_type": "execute_result"
    }
   ],
   "source": [
    "import pandas as pd\n",
    "import datetime as dt\n",
    "data = pd.read_csv(\"yt_final.csv\", encoding = 'utf8')\n",
    "data = data[data['cluster'] == 1]\n",
    "data.head()"
   ]
  },
  {
   "cell_type": "code",
   "execution_count": 2,
   "metadata": {},
   "outputs": [],
   "source": [
    "data['publish_date'] = pd.to_datetime(data['publish_date'])\n",
    "data['channel_startdate'] = pd.to_datetime(data['channel_startdate'])\n",
    "current_date = pd.Timestamp('now')\n",
    "data['days_since_publish'] = (current_date - data['publish_date']).dt.days\n",
    "data['channel_age_days'] = (current_date - data['channel_startdate']).dt.days"
   ]
  },
  {
   "cell_type": "code",
   "execution_count": 3,
   "metadata": {},
   "outputs": [],
   "source": [
    "from sklearn.model_selection import train_test_split\n",
    "from sklearn.ensemble import GradientBoostingRegressor\n",
    "from sklearn.preprocessing import OneHotEncoder\n",
    "from sklearn.model_selection import RandomizedSearchCV\n",
    "from scipy.stats import uniform, randint"
   ]
  },
  {
   "cell_type": "code",
   "execution_count": 4,
   "metadata": {},
   "outputs": [],
   "source": [
    "# 設定特徵及目標變量\n",
    "features = data.drop(['views','channel_name', 'video_title', 'channel_startdate','cluster','likes', 'comments','publish_date','channel_totalviews(10K)'], axis = 1)\n",
    "target = data['views']\n"
   ]
  },
  {
   "cell_type": "code",
   "execution_count": 5,
   "metadata": {},
   "outputs": [
    {
     "name": "stderr",
     "output_type": "stream",
     "text": [
      "/Users/chenxingchun/opt/anaconda3/lib/python3.9/site-packages/sklearn/utils/deprecation.py:87: FutureWarning: Function get_feature_names is deprecated; get_feature_names is deprecated in 1.0 and will be removed in 1.2. Please use get_feature_names_out instead.\n",
      "  warnings.warn(msg, category=FutureWarning)\n"
     ]
    },
    {
     "data": {
      "text/html": [
       "<div>\n",
       "<style scoped>\n",
       "    .dataframe tbody tr th:only-of-type {\n",
       "        vertical-align: middle;\n",
       "    }\n",
       "\n",
       "    .dataframe tbody tr th {\n",
       "        vertical-align: top;\n",
       "    }\n",
       "\n",
       "    .dataframe thead th {\n",
       "        text-align: right;\n",
       "    }\n",
       "</style>\n",
       "<table border=\"1\" class=\"dataframe\">\n",
       "  <thead>\n",
       "    <tr style=\"text-align: right;\">\n",
       "      <th></th>\n",
       "      <th>duration</th>\n",
       "      <th>subscribers</th>\n",
       "      <th>Sensationalism_Score</th>\n",
       "      <th>days_since_publish</th>\n",
       "      <th>channel_age_days</th>\n",
       "      <th>category_Comedy</th>\n",
       "      <th>category_Education</th>\n",
       "      <th>category_Entertainment</th>\n",
       "      <th>category_Film &amp; Animation</th>\n",
       "      <th>category_Gaming</th>\n",
       "      <th>category_Howto &amp; Style</th>\n",
       "      <th>category_Music</th>\n",
       "      <th>category_News &amp; Politics</th>\n",
       "      <th>category_Nonprofits &amp; Activism</th>\n",
       "      <th>category_People &amp; Blogs</th>\n",
       "      <th>category_Pets &amp; Animals</th>\n",
       "      <th>category_Science &amp; Technology</th>\n",
       "      <th>category_Sports</th>\n",
       "      <th>category_Travel &amp; Events</th>\n",
       "    </tr>\n",
       "  </thead>\n",
       "  <tbody>\n",
       "    <tr>\n",
       "      <th>0</th>\n",
       "      <td>842</td>\n",
       "      <td>1420000</td>\n",
       "      <td>34</td>\n",
       "      <td>23</td>\n",
       "      <td>2180</td>\n",
       "      <td>0.0</td>\n",
       "      <td>0.0</td>\n",
       "      <td>1.0</td>\n",
       "      <td>0.0</td>\n",
       "      <td>0.0</td>\n",
       "      <td>0.0</td>\n",
       "      <td>0.0</td>\n",
       "      <td>0.0</td>\n",
       "      <td>0.0</td>\n",
       "      <td>0.0</td>\n",
       "      <td>0.0</td>\n",
       "      <td>0.0</td>\n",
       "      <td>0.0</td>\n",
       "      <td>0.0</td>\n",
       "    </tr>\n",
       "    <tr>\n",
       "      <th>1</th>\n",
       "      <td>874</td>\n",
       "      <td>1420000</td>\n",
       "      <td>22</td>\n",
       "      <td>30</td>\n",
       "      <td>2180</td>\n",
       "      <td>0.0</td>\n",
       "      <td>0.0</td>\n",
       "      <td>1.0</td>\n",
       "      <td>0.0</td>\n",
       "      <td>0.0</td>\n",
       "      <td>0.0</td>\n",
       "      <td>0.0</td>\n",
       "      <td>0.0</td>\n",
       "      <td>0.0</td>\n",
       "      <td>0.0</td>\n",
       "      <td>0.0</td>\n",
       "      <td>0.0</td>\n",
       "      <td>0.0</td>\n",
       "      <td>0.0</td>\n",
       "    </tr>\n",
       "    <tr>\n",
       "      <th>2</th>\n",
       "      <td>1454</td>\n",
       "      <td>1420000</td>\n",
       "      <td>28</td>\n",
       "      <td>37</td>\n",
       "      <td>2180</td>\n",
       "      <td>0.0</td>\n",
       "      <td>0.0</td>\n",
       "      <td>1.0</td>\n",
       "      <td>0.0</td>\n",
       "      <td>0.0</td>\n",
       "      <td>0.0</td>\n",
       "      <td>0.0</td>\n",
       "      <td>0.0</td>\n",
       "      <td>0.0</td>\n",
       "      <td>0.0</td>\n",
       "      <td>0.0</td>\n",
       "      <td>0.0</td>\n",
       "      <td>0.0</td>\n",
       "      <td>0.0</td>\n",
       "    </tr>\n",
       "    <tr>\n",
       "      <th>3</th>\n",
       "      <td>833</td>\n",
       "      <td>1420000</td>\n",
       "      <td>34</td>\n",
       "      <td>44</td>\n",
       "      <td>2180</td>\n",
       "      <td>0.0</td>\n",
       "      <td>0.0</td>\n",
       "      <td>1.0</td>\n",
       "      <td>0.0</td>\n",
       "      <td>0.0</td>\n",
       "      <td>0.0</td>\n",
       "      <td>0.0</td>\n",
       "      <td>0.0</td>\n",
       "      <td>0.0</td>\n",
       "      <td>0.0</td>\n",
       "      <td>0.0</td>\n",
       "      <td>0.0</td>\n",
       "      <td>0.0</td>\n",
       "      <td>0.0</td>\n",
       "    </tr>\n",
       "    <tr>\n",
       "      <th>4</th>\n",
       "      <td>1425</td>\n",
       "      <td>1420000</td>\n",
       "      <td>44</td>\n",
       "      <td>52</td>\n",
       "      <td>2180</td>\n",
       "      <td>0.0</td>\n",
       "      <td>0.0</td>\n",
       "      <td>1.0</td>\n",
       "      <td>0.0</td>\n",
       "      <td>0.0</td>\n",
       "      <td>0.0</td>\n",
       "      <td>0.0</td>\n",
       "      <td>0.0</td>\n",
       "      <td>0.0</td>\n",
       "      <td>0.0</td>\n",
       "      <td>0.0</td>\n",
       "      <td>0.0</td>\n",
       "      <td>0.0</td>\n",
       "      <td>0.0</td>\n",
       "    </tr>\n",
       "  </tbody>\n",
       "</table>\n",
       "</div>"
      ],
      "text/plain": [
       "   duration  subscribers  Sensationalism_Score  days_since_publish  \\\n",
       "0       842      1420000                    34                  23   \n",
       "1       874      1420000                    22                  30   \n",
       "2      1454      1420000                    28                  37   \n",
       "3       833      1420000                    34                  44   \n",
       "4      1425      1420000                    44                  52   \n",
       "\n",
       "   channel_age_days  category_Comedy  category_Education  \\\n",
       "0              2180              0.0                 0.0   \n",
       "1              2180              0.0                 0.0   \n",
       "2              2180              0.0                 0.0   \n",
       "3              2180              0.0                 0.0   \n",
       "4              2180              0.0                 0.0   \n",
       "\n",
       "   category_Entertainment  category_Film & Animation  category_Gaming  \\\n",
       "0                     1.0                        0.0              0.0   \n",
       "1                     1.0                        0.0              0.0   \n",
       "2                     1.0                        0.0              0.0   \n",
       "3                     1.0                        0.0              0.0   \n",
       "4                     1.0                        0.0              0.0   \n",
       "\n",
       "   category_Howto & Style  category_Music  category_News & Politics  \\\n",
       "0                     0.0             0.0                       0.0   \n",
       "1                     0.0             0.0                       0.0   \n",
       "2                     0.0             0.0                       0.0   \n",
       "3                     0.0             0.0                       0.0   \n",
       "4                     0.0             0.0                       0.0   \n",
       "\n",
       "   category_Nonprofits & Activism  category_People & Blogs  \\\n",
       "0                             0.0                      0.0   \n",
       "1                             0.0                      0.0   \n",
       "2                             0.0                      0.0   \n",
       "3                             0.0                      0.0   \n",
       "4                             0.0                      0.0   \n",
       "\n",
       "   category_Pets & Animals  category_Science & Technology  category_Sports  \\\n",
       "0                      0.0                            0.0              0.0   \n",
       "1                      0.0                            0.0              0.0   \n",
       "2                      0.0                            0.0              0.0   \n",
       "3                      0.0                            0.0              0.0   \n",
       "4                      0.0                            0.0              0.0   \n",
       "\n",
       "   category_Travel & Events  \n",
       "0                       0.0  \n",
       "1                       0.0  \n",
       "2                       0.0  \n",
       "3                       0.0  \n",
       "4                       0.0  "
      ]
     },
     "execution_count": 5,
     "metadata": {},
     "output_type": "execute_result"
    }
   ],
   "source": [
    "# Apply One-Hot Encoding to 'category'\n",
    "one_hot_encoder = OneHotEncoder(sparse=False)\n",
    "category_encoded = one_hot_encoder.fit_transform(features[['category']])\n",
    "category_encoded_df = pd.DataFrame(category_encoded, columns=one_hot_encoder.get_feature_names(['category']))\n",
    "\n",
    "# Drop the original 'category' column and concatenate the one-hot encoded dataframe\n",
    "features = features.drop('category', axis=1)\n",
    "features_encoded = pd.concat([features.reset_index(drop=True), category_encoded_df], axis=1)\n",
    "\n",
    "features_encoded.head()  # Display the first few rows of the processed features"
   ]
  },
  {
   "cell_type": "code",
   "execution_count": 6,
   "metadata": {},
   "outputs": [
    {
     "name": "stdout",
     "output_type": "stream",
     "text": [
      "Best Parameters: {'learning_rate': 0.1250948355751758, 'max_depth': 4, 'min_samples_split': 4, 'n_estimators': 82, 'subsample': 0.8374758671474549}\n",
      "Best Score (r2): 0.6004211040534283\n"
     ]
    }
   ],
   "source": [
    "X_train, X_test, y_train, y_test = train_test_split(features_encoded, target, test_size=0.2)\n",
    "# 建立RandomForestRegressor模型\n",
    "model = GradientBoostingRegressor(random_state=42)\n",
    "# 定義要搜索的参数分布\n",
    "param_distributions = {\n",
    "    'n_estimators': randint(50, 400), # 樹的數量\n",
    "    'learning_rate': uniform(0.01, 0.2), # 學習率\n",
    "    'max_depth': randint(3, 10), # 樹的最大深度\n",
    "    'subsample': uniform(0.7, 0.3), # 用於擬合的訓練數據的比例\n",
    "    'min_samples_split': randint(2, 10) # 拆分内部節點所需的最少樣本數\n",
    "} \n",
    "# 建立RandomizedSearchCV\n",
    "random_search = RandomizedSearchCV(estimator=model, param_distributions=param_distributions, n_iter=100, cv=5, scoring='r2', n_jobs=-1, random_state=42)\n",
    "# 執行隨機搜索\n",
    "random_search.fit(X_train, y_train)\n",
    "\n",
    "# 最佳參數組合與評分\n",
    "best_parameters = random_search.best_params_\n",
    "best_score = random_search.best_score_\n",
    "\n",
    "print(f\"Best Parameters: {best_parameters}\")\n",
    "print(f\"Best Score (r2): {best_score}\")"
   ]
  },
  {
   "cell_type": "code",
   "execution_count": 7,
   "metadata": {},
   "outputs": [
    {
     "name": "stdout",
     "output_type": "stream",
     "text": [
      "Optimized Model Score (r2) on Test Data: 0.5720990670242183\n"
     ]
    }
   ],
   "source": [
    "# 使用這些參數初始化一個新的 GradientBoostingRegressor\n",
    "optimized_model = GradientBoostingRegressor(\n",
    "    n_estimators=best_parameters['n_estimators'],\n",
    "    learning_rate=best_parameters['learning_rate'],\n",
    "    max_depth=best_parameters['max_depth'],\n",
    "    subsample=best_parameters['subsample'],\n",
    "    min_samples_split=best_parameters['min_samples_split'],\n",
    "    random_state=42\n",
    ")\n",
    "# 訓練模型\n",
    "optimized_model.fit(X_train, y_train)\n",
    "#進行預測\n",
    "predicted = optimized_model.predict(X_test)\n",
    "# 評估模型性能\n",
    "optimized_score = optimized_model.score(X_test, y_test)\n",
    "print(f\"Optimized Model Score (r2) on Test Data: {optimized_score}\")"
   ]
  },
  {
   "cell_type": "markdown",
   "metadata": {},
   "source": [
    "### 特徵重要性"
   ]
  },
  {
   "cell_type": "code",
   "execution_count": 10,
   "metadata": {},
   "outputs": [
    {
     "data": {
      "application/vnd.plotly.v1+json": {
       "config": {
        "plotlyServerURL": "https://plot.ly"
       },
       "data": [
        {
         "marker": {
          "color": "#1f77b4"
         },
         "text": [
          "0.33",
          "0.24",
          "0.22",
          "0.12",
          "0.06",
          "0.02",
          "0.01",
          "0.01",
          "0.00",
          "0.00"
         ],
         "textposition": "outside",
         "type": "bar",
         "width": 0.6,
         "x": [
          "duration",
          "days_since_publish",
          "subscribers",
          "Sensationalism_Score",
          "category_Entertainment",
          "channel_age_days",
          "category_Film & Animation",
          "category_People & Blogs",
          "category_Music",
          "category_Comedy"
         ],
         "y": [
          0.3275789717989806,
          0.2369331771472021,
          0.21979824344328638,
          0.11632411416212242,
          0.05790920520431504,
          0.024733431881581343,
          0.007232929296458997,
          0.005046975993519969,
          0.0029120519255025124,
          0.0005558730110040705
         ]
        }
       ],
       "layout": {
        "bargap": 0.05,
        "margin": {
         "t": 50
        },
        "showlegend": false,
        "template": {
         "data": {
          "bar": [
           {
            "error_x": {
             "color": "#2a3f5f"
            },
            "error_y": {
             "color": "#2a3f5f"
            },
            "marker": {
             "line": {
              "color": "#E5ECF6",
              "width": 0.5
             },
             "pattern": {
              "fillmode": "overlay",
              "size": 10,
              "solidity": 0.2
             }
            },
            "type": "bar"
           }
          ],
          "barpolar": [
           {
            "marker": {
             "line": {
              "color": "#E5ECF6",
              "width": 0.5
             },
             "pattern": {
              "fillmode": "overlay",
              "size": 10,
              "solidity": 0.2
             }
            },
            "type": "barpolar"
           }
          ],
          "carpet": [
           {
            "aaxis": {
             "endlinecolor": "#2a3f5f",
             "gridcolor": "white",
             "linecolor": "white",
             "minorgridcolor": "white",
             "startlinecolor": "#2a3f5f"
            },
            "baxis": {
             "endlinecolor": "#2a3f5f",
             "gridcolor": "white",
             "linecolor": "white",
             "minorgridcolor": "white",
             "startlinecolor": "#2a3f5f"
            },
            "type": "carpet"
           }
          ],
          "choropleth": [
           {
            "colorbar": {
             "outlinewidth": 0,
             "ticks": ""
            },
            "type": "choropleth"
           }
          ],
          "contour": [
           {
            "colorbar": {
             "outlinewidth": 0,
             "ticks": ""
            },
            "colorscale": [
             [
              0,
              "#0d0887"
             ],
             [
              0.1111111111111111,
              "#46039f"
             ],
             [
              0.2222222222222222,
              "#7201a8"
             ],
             [
              0.3333333333333333,
              "#9c179e"
             ],
             [
              0.4444444444444444,
              "#bd3786"
             ],
             [
              0.5555555555555556,
              "#d8576b"
             ],
             [
              0.6666666666666666,
              "#ed7953"
             ],
             [
              0.7777777777777778,
              "#fb9f3a"
             ],
             [
              0.8888888888888888,
              "#fdca26"
             ],
             [
              1,
              "#f0f921"
             ]
            ],
            "type": "contour"
           }
          ],
          "contourcarpet": [
           {
            "colorbar": {
             "outlinewidth": 0,
             "ticks": ""
            },
            "type": "contourcarpet"
           }
          ],
          "heatmap": [
           {
            "colorbar": {
             "outlinewidth": 0,
             "ticks": ""
            },
            "colorscale": [
             [
              0,
              "#0d0887"
             ],
             [
              0.1111111111111111,
              "#46039f"
             ],
             [
              0.2222222222222222,
              "#7201a8"
             ],
             [
              0.3333333333333333,
              "#9c179e"
             ],
             [
              0.4444444444444444,
              "#bd3786"
             ],
             [
              0.5555555555555556,
              "#d8576b"
             ],
             [
              0.6666666666666666,
              "#ed7953"
             ],
             [
              0.7777777777777778,
              "#fb9f3a"
             ],
             [
              0.8888888888888888,
              "#fdca26"
             ],
             [
              1,
              "#f0f921"
             ]
            ],
            "type": "heatmap"
           }
          ],
          "heatmapgl": [
           {
            "colorbar": {
             "outlinewidth": 0,
             "ticks": ""
            },
            "colorscale": [
             [
              0,
              "#0d0887"
             ],
             [
              0.1111111111111111,
              "#46039f"
             ],
             [
              0.2222222222222222,
              "#7201a8"
             ],
             [
              0.3333333333333333,
              "#9c179e"
             ],
             [
              0.4444444444444444,
              "#bd3786"
             ],
             [
              0.5555555555555556,
              "#d8576b"
             ],
             [
              0.6666666666666666,
              "#ed7953"
             ],
             [
              0.7777777777777778,
              "#fb9f3a"
             ],
             [
              0.8888888888888888,
              "#fdca26"
             ],
             [
              1,
              "#f0f921"
             ]
            ],
            "type": "heatmapgl"
           }
          ],
          "histogram": [
           {
            "marker": {
             "pattern": {
              "fillmode": "overlay",
              "size": 10,
              "solidity": 0.2
             }
            },
            "type": "histogram"
           }
          ],
          "histogram2d": [
           {
            "colorbar": {
             "outlinewidth": 0,
             "ticks": ""
            },
            "colorscale": [
             [
              0,
              "#0d0887"
             ],
             [
              0.1111111111111111,
              "#46039f"
             ],
             [
              0.2222222222222222,
              "#7201a8"
             ],
             [
              0.3333333333333333,
              "#9c179e"
             ],
             [
              0.4444444444444444,
              "#bd3786"
             ],
             [
              0.5555555555555556,
              "#d8576b"
             ],
             [
              0.6666666666666666,
              "#ed7953"
             ],
             [
              0.7777777777777778,
              "#fb9f3a"
             ],
             [
              0.8888888888888888,
              "#fdca26"
             ],
             [
              1,
              "#f0f921"
             ]
            ],
            "type": "histogram2d"
           }
          ],
          "histogram2dcontour": [
           {
            "colorbar": {
             "outlinewidth": 0,
             "ticks": ""
            },
            "colorscale": [
             [
              0,
              "#0d0887"
             ],
             [
              0.1111111111111111,
              "#46039f"
             ],
             [
              0.2222222222222222,
              "#7201a8"
             ],
             [
              0.3333333333333333,
              "#9c179e"
             ],
             [
              0.4444444444444444,
              "#bd3786"
             ],
             [
              0.5555555555555556,
              "#d8576b"
             ],
             [
              0.6666666666666666,
              "#ed7953"
             ],
             [
              0.7777777777777778,
              "#fb9f3a"
             ],
             [
              0.8888888888888888,
              "#fdca26"
             ],
             [
              1,
              "#f0f921"
             ]
            ],
            "type": "histogram2dcontour"
           }
          ],
          "mesh3d": [
           {
            "colorbar": {
             "outlinewidth": 0,
             "ticks": ""
            },
            "type": "mesh3d"
           }
          ],
          "parcoords": [
           {
            "line": {
             "colorbar": {
              "outlinewidth": 0,
              "ticks": ""
             }
            },
            "type": "parcoords"
           }
          ],
          "pie": [
           {
            "automargin": true,
            "type": "pie"
           }
          ],
          "scatter": [
           {
            "fillpattern": {
             "fillmode": "overlay",
             "size": 10,
             "solidity": 0.2
            },
            "type": "scatter"
           }
          ],
          "scatter3d": [
           {
            "line": {
             "colorbar": {
              "outlinewidth": 0,
              "ticks": ""
             }
            },
            "marker": {
             "colorbar": {
              "outlinewidth": 0,
              "ticks": ""
             }
            },
            "type": "scatter3d"
           }
          ],
          "scattercarpet": [
           {
            "marker": {
             "colorbar": {
              "outlinewidth": 0,
              "ticks": ""
             }
            },
            "type": "scattercarpet"
           }
          ],
          "scattergeo": [
           {
            "marker": {
             "colorbar": {
              "outlinewidth": 0,
              "ticks": ""
             }
            },
            "type": "scattergeo"
           }
          ],
          "scattergl": [
           {
            "marker": {
             "colorbar": {
              "outlinewidth": 0,
              "ticks": ""
             }
            },
            "type": "scattergl"
           }
          ],
          "scattermapbox": [
           {
            "marker": {
             "colorbar": {
              "outlinewidth": 0,
              "ticks": ""
             }
            },
            "type": "scattermapbox"
           }
          ],
          "scatterpolar": [
           {
            "marker": {
             "colorbar": {
              "outlinewidth": 0,
              "ticks": ""
             }
            },
            "type": "scatterpolar"
           }
          ],
          "scatterpolargl": [
           {
            "marker": {
             "colorbar": {
              "outlinewidth": 0,
              "ticks": ""
             }
            },
            "type": "scatterpolargl"
           }
          ],
          "scatterternary": [
           {
            "marker": {
             "colorbar": {
              "outlinewidth": 0,
              "ticks": ""
             }
            },
            "type": "scatterternary"
           }
          ],
          "surface": [
           {
            "colorbar": {
             "outlinewidth": 0,
             "ticks": ""
            },
            "colorscale": [
             [
              0,
              "#0d0887"
             ],
             [
              0.1111111111111111,
              "#46039f"
             ],
             [
              0.2222222222222222,
              "#7201a8"
             ],
             [
              0.3333333333333333,
              "#9c179e"
             ],
             [
              0.4444444444444444,
              "#bd3786"
             ],
             [
              0.5555555555555556,
              "#d8576b"
             ],
             [
              0.6666666666666666,
              "#ed7953"
             ],
             [
              0.7777777777777778,
              "#fb9f3a"
             ],
             [
              0.8888888888888888,
              "#fdca26"
             ],
             [
              1,
              "#f0f921"
             ]
            ],
            "type": "surface"
           }
          ],
          "table": [
           {
            "cells": {
             "fill": {
              "color": "#EBF0F8"
             },
             "line": {
              "color": "white"
             }
            },
            "header": {
             "fill": {
              "color": "#C8D4E3"
             },
             "line": {
              "color": "white"
             }
            },
            "type": "table"
           }
          ]
         },
         "layout": {
          "annotationdefaults": {
           "arrowcolor": "#2a3f5f",
           "arrowhead": 0,
           "arrowwidth": 1
          },
          "autotypenumbers": "strict",
          "coloraxis": {
           "colorbar": {
            "outlinewidth": 0,
            "ticks": ""
           }
          },
          "colorscale": {
           "diverging": [
            [
             0,
             "#8e0152"
            ],
            [
             0.1,
             "#c51b7d"
            ],
            [
             0.2,
             "#de77ae"
            ],
            [
             0.3,
             "#f1b6da"
            ],
            [
             0.4,
             "#fde0ef"
            ],
            [
             0.5,
             "#f7f7f7"
            ],
            [
             0.6,
             "#e6f5d0"
            ],
            [
             0.7,
             "#b8e186"
            ],
            [
             0.8,
             "#7fbc41"
            ],
            [
             0.9,
             "#4d9221"
            ],
            [
             1,
             "#276419"
            ]
           ],
           "sequential": [
            [
             0,
             "#0d0887"
            ],
            [
             0.1111111111111111,
             "#46039f"
            ],
            [
             0.2222222222222222,
             "#7201a8"
            ],
            [
             0.3333333333333333,
             "#9c179e"
            ],
            [
             0.4444444444444444,
             "#bd3786"
            ],
            [
             0.5555555555555556,
             "#d8576b"
            ],
            [
             0.6666666666666666,
             "#ed7953"
            ],
            [
             0.7777777777777778,
             "#fb9f3a"
            ],
            [
             0.8888888888888888,
             "#fdca26"
            ],
            [
             1,
             "#f0f921"
            ]
           ],
           "sequentialminus": [
            [
             0,
             "#0d0887"
            ],
            [
             0.1111111111111111,
             "#46039f"
            ],
            [
             0.2222222222222222,
             "#7201a8"
            ],
            [
             0.3333333333333333,
             "#9c179e"
            ],
            [
             0.4444444444444444,
             "#bd3786"
            ],
            [
             0.5555555555555556,
             "#d8576b"
            ],
            [
             0.6666666666666666,
             "#ed7953"
            ],
            [
             0.7777777777777778,
             "#fb9f3a"
            ],
            [
             0.8888888888888888,
             "#fdca26"
            ],
            [
             1,
             "#f0f921"
            ]
           ]
          },
          "colorway": [
           "#636efa",
           "#EF553B",
           "#00cc96",
           "#ab63fa",
           "#FFA15A",
           "#19d3f3",
           "#FF6692",
           "#B6E880",
           "#FF97FF",
           "#FECB52"
          ],
          "font": {
           "color": "#2a3f5f"
          },
          "geo": {
           "bgcolor": "white",
           "lakecolor": "white",
           "landcolor": "#E5ECF6",
           "showlakes": true,
           "showland": true,
           "subunitcolor": "white"
          },
          "hoverlabel": {
           "align": "left"
          },
          "hovermode": "closest",
          "mapbox": {
           "style": "light"
          },
          "paper_bgcolor": "white",
          "plot_bgcolor": "#E5ECF6",
          "polar": {
           "angularaxis": {
            "gridcolor": "white",
            "linecolor": "white",
            "ticks": ""
           },
           "bgcolor": "#E5ECF6",
           "radialaxis": {
            "gridcolor": "white",
            "linecolor": "white",
            "ticks": ""
           }
          },
          "scene": {
           "xaxis": {
            "backgroundcolor": "#E5ECF6",
            "gridcolor": "white",
            "gridwidth": 2,
            "linecolor": "white",
            "showbackground": true,
            "ticks": "",
            "zerolinecolor": "white"
           },
           "yaxis": {
            "backgroundcolor": "#E5ECF6",
            "gridcolor": "white",
            "gridwidth": 2,
            "linecolor": "white",
            "showbackground": true,
            "ticks": "",
            "zerolinecolor": "white"
           },
           "zaxis": {
            "backgroundcolor": "#E5ECF6",
            "gridcolor": "white",
            "gridwidth": 2,
            "linecolor": "white",
            "showbackground": true,
            "ticks": "",
            "zerolinecolor": "white"
           }
          },
          "shapedefaults": {
           "line": {
            "color": "#2a3f5f"
           }
          },
          "ternary": {
           "aaxis": {
            "gridcolor": "white",
            "linecolor": "white",
            "ticks": ""
           },
           "baxis": {
            "gridcolor": "white",
            "linecolor": "white",
            "ticks": ""
           },
           "bgcolor": "#E5ECF6",
           "caxis": {
            "gridcolor": "white",
            "linecolor": "white",
            "ticks": ""
           }
          },
          "title": {
           "x": 0.05
          },
          "xaxis": {
           "automargin": true,
           "gridcolor": "white",
           "linecolor": "white",
           "ticks": "",
           "title": {
            "standoff": 15
           },
           "zerolinecolor": "white",
           "zerolinewidth": 2
          },
          "yaxis": {
           "automargin": true,
           "gridcolor": "white",
           "linecolor": "white",
           "ticks": "",
           "title": {
            "standoff": 15
           },
           "zerolinecolor": "white",
           "zerolinewidth": 2
          }
         }
        },
        "title": {
         "text": "Top 10 Feature Importances in Gradient Boosting Regressor Model",
         "x": 0.5,
         "xanchor": "center",
         "y": 0.98,
         "yanchor": "top"
        },
        "width": 600,
        "xaxis": {
         "tickangle": -45,
         "tickfont": {
          "size": 14
         },
         "title": {
          "text": "Feature"
         }
        },
        "yaxis": {
         "range": [
          0,
          0.3603368689788787
         ],
         "title": {
          "text": "Importance"
         }
        }
       }
      }
     },
     "metadata": {},
     "output_type": "display_data"
    }
   ],
   "source": [
    "import plotly.graph_objects as go\n",
    "feature_importances = optimized_model.feature_importances_\n",
    "feature_names = X_train.columns\n",
    "\n",
    "# 創建特徵重要性的DataFrame\n",
    "importances_df = pd.DataFrame({'feature': feature_names, 'importance': feature_importances})\n",
    "importances_df = importances_df.sort_values(by='importance', ascending=False)\n",
    "\n",
    "# 創建圖表\n",
    "fig = go.Figure(go.Bar(\n",
    "    x=importances_df['feature'][:10],\n",
    "    y=importances_df['importance'][:10],\n",
    "    text=importances_df['importance'][:10].apply(lambda x: f'{x:.2f}'),\n",
    "    textposition='outside',\n",
    "    marker_color='#1f77b4',\n",
    "    width=0.6\n",
    "))\n",
    "\n",
    "# 調整布局\n",
    "fig.update_layout(\n",
    "    title={\n",
    "        'text': 'Top 10 Feature Importances in Gradient Boosting Regressor Model',\n",
    "        'y':0.98,  # 標題在垂直方向的位置\n",
    "        'x':0.5,  # 標題在水平方向的位置\n",
    "        'xanchor': 'center',  # 確保標題的中心在 x 的位置\n",
    "        'yanchor': 'top'      # 確保標題的底部在 y 的位置\n",
    "    },\n",
    "    xaxis=dict(\n",
    "        title='Feature',\n",
    "        tickangle=-45,\n",
    "        tickfont=dict(size=14)\n",
    "    ),\n",
    "    yaxis=dict(\n",
    "        title='Importance',\n",
    "        range=[0, 1.1 * max(importances_df['importance'][:10])]\n",
    "    ),\n",
    "    margin=dict(t=50),  # 可能需要根據標題的大小調整邊距\n",
    "    showlegend=False,\n",
    "    bargap=0.05,\n",
    "    width=600, # 調整圖表的寬度\n",
    ")\n",
    "\n",
    "# 顯示圖表\n",
    "fig.show()"
   ]
  },
  {
   "cell_type": "markdown",
   "metadata": {},
   "source": [
    "### 實際值vs預測值"
   ]
  },
  {
   "cell_type": "code",
   "execution_count": 11,
   "metadata": {},
   "outputs": [
    {
     "data": {
      "application/vnd.plotly.v1+json": {
       "config": {
        "plotlyServerURL": "https://plot.ly"
       },
       "data": [
        {
         "hovertemplate": "Actual Views=%{x}<br>Predicted Views=%{y}<extra></extra>",
         "legendgroup": "",
         "marker": {
          "color": "#1f77b4",
          "opacity": 0.7,
          "symbol": "circle"
         },
         "mode": "markers",
         "name": "",
         "showlegend": false,
         "type": "scattergl",
         "x": [
          1020000,
          781000,
          740000,
          210000,
          69000,
          114000,
          160000,
          230000,
          100000,
          153000,
          33000,
          790000,
          360000,
          1020000,
          450000,
          220000,
          790000,
          440000,
          24000,
          400000,
          340000,
          720000,
          1810000,
          1550000,
          100000,
          22000,
          190000,
          200000,
          120000,
          270000,
          3475,
          680000,
          650000,
          78000,
          580000,
          100000,
          320000,
          500000,
          2490000,
          1110000,
          500000,
          41000,
          60000,
          1160000,
          25000,
          830000,
          170000,
          280000,
          980000,
          270000,
          3200,
          600000,
          210000,
          87000,
          170000,
          960000,
          900000,
          460000,
          53000,
          330000,
          1280000,
          100000,
          810000,
          310000,
          54000,
          1190000,
          2870000,
          250000,
          160000,
          270000,
          450000,
          440000,
          360000,
          48000,
          73000,
          3265,
          85000,
          120000,
          490000,
          230000,
          98000,
          280000,
          470000,
          570000,
          560000,
          850000,
          73000,
          130000,
          80000,
          98000,
          98000,
          580000,
          210000,
          830000,
          220000,
          720000,
          120000,
          210000,
          330000,
          150000,
          180000,
          700000,
          85000,
          240000,
          290000,
          75000,
          460000,
          150000,
          680000,
          260000,
          190000,
          75000,
          70000,
          640000,
          260000,
          100000,
          1200000,
          99000,
          530000,
          790000,
          250000,
          150000,
          420000,
          110000,
          180000,
          68000,
          460000,
          84000,
          530000,
          220000,
          35000,
          360000,
          870000,
          440000,
          150000,
          1240000,
          270000,
          1200000,
          230000,
          160000,
          1060000,
          300000,
          11000,
          500000,
          320000,
          74000,
          280000,
          270000,
          9181,
          63000,
          37000,
          260000,
          220000,
          460000,
          72000,
          270000,
          380000,
          63000,
          350000,
          82000,
          140000,
          390000,
          210000,
          870000,
          180000,
          780000,
          960000,
          15000,
          650000,
          270000,
          200000,
          420000,
          50000,
          79000,
          140000,
          260000,
          31000,
          22000,
          670000,
          76000,
          65000,
          91000,
          200000,
          140000,
          1080000,
          68000,
          1850000,
          610000,
          210000,
          430000,
          110000,
          500000,
          550000,
          360000,
          140000,
          900000,
          43000,
          470000,
          310000,
          480000,
          1100000,
          2100000,
          350000,
          260000,
          900000,
          200000,
          797000,
          570000,
          200000,
          1020000,
          420000,
          110000,
          250000,
          390000,
          380000,
          440000,
          13000,
          640000,
          160000,
          110000,
          64000,
          190000,
          83000,
          1110000,
          530000,
          57000,
          43000,
          94000,
          960000,
          1120000,
          590000,
          250000,
          1650000,
          1630000,
          66000,
          450000,
          240000,
          620000,
          520000,
          91000,
          150000,
          9922,
          55000,
          215000,
          5740000,
          690000,
          240000,
          260000,
          460000,
          620000,
          450000,
          360000,
          82000,
          33000,
          110000,
          85000,
          970000,
          870000,
          160000,
          97000,
          320000,
          28000,
          93000,
          240000,
          690000,
          34000,
          160000,
          550000,
          53000,
          490000,
          210000,
          300000,
          210000,
          1180000,
          160000,
          81000,
          2240000,
          430000,
          710000,
          340000,
          640000,
          1090000,
          200000,
          28000,
          480000,
          1450000,
          56000,
          17000,
          56000,
          320000,
          55000,
          160000,
          170000,
          490000,
          440000,
          440000,
          570000,
          64000,
          130000,
          63000,
          220000,
          160000,
          390000,
          429000,
          1140000,
          350000,
          730000,
          410000,
          1360000,
          750000,
          720000,
          332000,
          500000,
          1410000,
          320000,
          170000,
          71000,
          92000,
          80000,
          370000,
          610000,
          220000,
          140000,
          820000,
          270000,
          920000,
          260000,
          80000,
          36000,
          430000,
          1190000,
          22000,
          230000,
          320000,
          300000,
          220000,
          110000,
          1070000,
          630000,
          37000,
          480000,
          750000,
          86000,
          710000,
          1020000,
          690000,
          450000,
          200000,
          72000,
          89000,
          460000,
          30000,
          150000,
          36000,
          62000,
          39000,
          100000,
          340000,
          330000,
          14000,
          500000,
          160000,
          120000,
          810000,
          570000,
          111000,
          92000,
          1480000,
          190000,
          597000,
          120000,
          55000,
          60000,
          130000,
          23000,
          570000,
          840000,
          550000,
          190000,
          580000,
          280000,
          780000,
          890000,
          1100000,
          57000,
          190000,
          160000,
          180000,
          810000,
          210000,
          240000,
          270000,
          320000,
          840000,
          300000,
          540000,
          1630000,
          8870,
          880000,
          380000,
          26000,
          300000,
          160000,
          360000,
          650000,
          58000,
          120000,
          58000,
          2000000,
          35000,
          1720000,
          48000,
          500000,
          1660000,
          260000,
          120000,
          45000,
          1150000,
          870000,
          1100000,
          140000,
          71000,
          660000,
          750000,
          390000,
          860000,
          620000,
          370000,
          7850,
          100000,
          190000,
          300000,
          72000,
          880000,
          53000,
          58000,
          140000,
          290000,
          1220000,
          620000,
          24000,
          750000,
          200000,
          97000,
          440000,
          470000,
          320000,
          180000,
          450000,
          74000,
          350000,
          870000,
          240000,
          750000,
          24000,
          85000,
          2500000,
          94000,
          370000,
          180000,
          460000,
          450000,
          490000,
          590000,
          210000,
          440000,
          1010000,
          220000,
          120000,
          210000,
          340000,
          220000,
          560000,
          74000,
          1460000,
          100000,
          740000,
          24000,
          59000,
          1180000,
          660000,
          630000,
          140000,
          750000,
          970000,
          390000,
          62000,
          280000,
          37000,
          270000,
          730000,
          75000,
          1600000,
          820000,
          316000,
          140000,
          380000,
          870000,
          74000,
          1330000,
          130000,
          630000,
          680000,
          1740000,
          15000,
          460000,
          180000,
          50000,
          440000,
          730000,
          270000,
          110000,
          3649,
          700000,
          350000,
          49000,
          170000,
          350000,
          350000,
          110000,
          100000,
          140000,
          67000,
          58000,
          1140000,
          780000,
          280000,
          160000,
          420000,
          40000,
          170000,
          11000,
          860000,
          350000,
          54000,
          3800000,
          690000,
          470000,
          110000,
          46000,
          29000,
          260000,
          340000,
          230000,
          890000,
          170000,
          750000,
          100000,
          95000,
          51000,
          746000,
          440000,
          44000,
          400000,
          460000,
          310000,
          1080000,
          1790000,
          290000,
          120000,
          29000,
          64000,
          2350000,
          430000,
          76000,
          410000,
          140000,
          1080000,
          70000,
          720000,
          1000000,
          1690000,
          1260000,
          47000,
          640000,
          69000,
          860000,
          530000,
          55000,
          33000,
          420000,
          470000,
          590000,
          720000,
          66000,
          1090000,
          1020000,
          360000,
          24000,
          200000,
          570000,
          37000,
          41000,
          580000,
          700000,
          340000,
          230000,
          940000,
          130000,
          1200000,
          540000,
          21000,
          600000,
          10000,
          97000,
          310000,
          280000,
          294000,
          41000,
          120000,
          170000,
          590000,
          78000,
          750000,
          1070000,
          1780000,
          350000,
          790000,
          810000,
          380000,
          460000,
          36000,
          650000,
          320000,
          1040000,
          330000,
          1040000,
          370000,
          400000,
          72000,
          950000,
          250000,
          76000,
          360000,
          4456,
          670000,
          9178,
          64000,
          660000,
          350000,
          210000,
          99000,
          210000,
          21000,
          124000,
          2040000,
          2400000,
          13000,
          210000,
          120000,
          55000,
          59000,
          1640000,
          260000,
          102000,
          270000,
          190000,
          1240000,
          440000,
          2660000,
          270000,
          190000,
          530000,
          1130000,
          410000,
          190000,
          570000,
          400000,
          1990000,
          250000,
          800000,
          420000,
          160000,
          57000,
          200000,
          270000,
          85000,
          1090000,
          11000,
          510000,
          1110000,
          240000,
          840000,
          100000,
          290000,
          250000,
          780000,
          1130000,
          960000,
          34000,
          2400000,
          620000,
          220000,
          350000,
          710000,
          1330000,
          560000,
          310000,
          240000,
          570000,
          450000,
          300000,
          390000,
          350000,
          84000,
          220000,
          76000,
          2210000,
          120000,
          160000,
          770000,
          100000,
          820000,
          230000,
          670000,
          250000,
          210000,
          258000,
          170000,
          220000,
          13000,
          28000,
          2004,
          2230000,
          51000,
          150000,
          310000,
          460000,
          420000,
          690000,
          25000,
          71000,
          520000,
          710000,
          1860000,
          120000,
          28000,
          830000,
          1880000,
          87000,
          170000,
          550000,
          2000000,
          140000,
          750000,
          260000,
          1800000,
          21000,
          46000,
          40000,
          100000,
          130000,
          22000,
          81000,
          480000,
          340000,
          840000,
          479000,
          2800000,
          530000,
          86000,
          320000,
          18000,
          1620000,
          130000,
          410000,
          19000,
          60000,
          1200000,
          62000,
          98000,
          450000,
          150000,
          60000,
          150000,
          80000,
          27000,
          650000,
          250000,
          1120000,
          300000,
          210000,
          170000,
          14000,
          150000,
          78000,
          120000,
          3160000,
          1820000,
          180000,
          680000,
          560000,
          4770,
          170000,
          99000,
          1640000,
          350000,
          160000,
          120000,
          2000000,
          50000,
          440000,
          4560000,
          200000,
          150000,
          390000,
          1930000,
          220000,
          590000,
          440000,
          160000,
          36000,
          1010000,
          190000,
          70000,
          960000,
          580000,
          60000,
          1300000,
          430000,
          1270000,
          460000,
          38000,
          150000,
          48000,
          550000,
          77000,
          840000,
          490000,
          170000,
          600000,
          2060000,
          600000,
          110000,
          720000,
          64000,
          1400000,
          200000,
          410000,
          240000,
          320000,
          83000,
          66000,
          270000,
          500000,
          430000,
          260000,
          530000,
          230000,
          330000,
          128000,
          50000,
          23000,
          1720000,
          54000,
          680000,
          810000,
          700000,
          870000,
          460000,
          921000,
          590000,
          400000,
          190000,
          990000,
          46000,
          910000,
          190000,
          570000,
          900000,
          280000,
          270000,
          1100000,
          710000,
          131000,
          450000,
          340000,
          44000,
          530000,
          330000,
          1300000,
          13000,
          55000,
          250000,
          190000,
          420000,
          250000,
          1500000,
          390000,
          112000,
          89000,
          310000,
          350000,
          1370000,
          290000,
          410000,
          134000,
          180000,
          140000,
          2370000,
          650000,
          380000,
          1750000,
          820000,
          420000,
          52000,
          1240000,
          920000,
          220000,
          740000,
          91000,
          340000,
          710000,
          38000,
          620000,
          310000,
          180000,
          1110000,
          260000,
          19000,
          20000,
          710000,
          370000,
          110000,
          1240000,
          510000,
          440000,
          870000,
          180000,
          300000,
          554000,
          500000,
          220000,
          830000,
          740000,
          1130000,
          630000,
          75000,
          180000,
          68000,
          416000,
          100000,
          75000,
          900000,
          400000,
          180000,
          100000,
          100000,
          710000,
          390000,
          85000,
          290000,
          1000000,
          810000,
          52000,
          110000,
          610000,
          670000,
          370000,
          320000,
          340000,
          420000,
          670000,
          160000,
          930000,
          310000,
          5787,
          1130000,
          560000,
          650000,
          700000,
          5658,
          71000,
          24000,
          650000,
          110000,
          320000,
          104000,
          700000,
          230000,
          70000,
          1790000,
          290000,
          530000,
          835000,
          230000,
          970000,
          100000,
          1080000,
          220000,
          665000,
          100000,
          140000,
          280000,
          1200000,
          40000,
          170000,
          250000,
          1500000,
          16000,
          1180000,
          22000,
          440000,
          910000,
          50000,
          400000,
          670000,
          44000,
          320000,
          3360000,
          200000,
          380000,
          1020000,
          86000,
          1010000,
          74000,
          10000,
          108000,
          150000,
          38000,
          1800000,
          250000,
          280000,
          34000,
          1570000,
          1470000,
          76000,
          860000,
          170000,
          86000,
          68000,
          140000,
          180000,
          100000,
          1500000,
          1080000,
          1050000,
          4845,
          440000,
          900000,
          1820000,
          130000,
          1250000,
          620000,
          490000,
          180000,
          690000,
          970000,
          74000,
          370000,
          220000,
          660000,
          120000,
          390000,
          100000,
          1100000,
          190000,
          530000,
          1460000,
          68000,
          240000,
          1230000
         ],
         "xaxis": "x",
         "y": [
          515053.77617427654,
          1654317.715731175,
          779552.8316331727,
          243683.37697987372,
          113050.76824513871,
          111737.41166084315,
          447404.5427401671,
          209751.71283228643,
          134643.7738901514,
          182912.74532410447,
          62838.39825577427,
          1152519.4313863232,
          274084.46262089704,
          1611645.6662171185,
          331281.3168400906,
          284803.86138374615,
          351787.39227297483,
          326800.2548541207,
          90899.97155723289,
          566622.6492484893,
          321779.11029252317,
          966528.9080993269,
          1438786.321185159,
          1775667.9744645525,
          213083.99192632557,
          125311.8748645669,
          147357.23185511734,
          131595.40934800348,
          414784.86318494653,
          257722.00603608225,
          62615.678152344226,
          397325.81537587947,
          769267.8199112694,
          189378.5406302586,
          317571.6773973644,
          235570.553248593,
          663673.8688034263,
          102036.34458306631,
          1575924.5386326779,
          609815.1051819742,
          397231.0788457404,
          66642.44287699122,
          97797.47503937848,
          829577.2922844639,
          80076.04101854128,
          811114.0430279303,
          302085.9151365881,
          266935.24276845006,
          1183931.6146977127,
          387278.4330918641,
          16061.770611389307,
          546193.7527947824,
          233536.77016383645,
          246993.8120543845,
          126091.43142029904,
          1127175.8063795515,
          912621.084381229,
          1042519.3890340973,
          105415.92372938331,
          337306.6568593416,
          893636.2028415648,
          62243.517443079385,
          790504.0720132834,
          520295.75700223644,
          367238.3260562259,
          483026.6509572722,
          3825890.430472539,
          393776.68519904284,
          249514.5913620781,
          521527.24524706235,
          779539.6348836703,
          1208172.4453782337,
          357997.3747988812,
          41891.95619618304,
          69903.35621774693,
          34418.26496504473,
          45593.88745818193,
          212951.6252586644,
          444913.4186943232,
          207327.60053343067,
          258374.72547996143,
          308501.11492063774,
          465354.6435790916,
          425607.0475440311,
          528307.5983606847,
          627652.9468919493,
          195395.9598400793,
          156275.91247967113,
          93547.76618022576,
          38200.62160365937,
          286157.37316246785,
          611536.2692861017,
          670392.732961931,
          1115223.3143545045,
          305863.47782558925,
          652732.2854188887,
          210398.79075774123,
          493117.6065765066,
          118954.49169841946,
          330851.27317697037,
          131779.9654514015,
          774769.1924543444,
          240572.1816116505,
          383431.5080063911,
          342997.44020829245,
          118561.14758514195,
          301431.9701985814,
          374330.95801794645,
          620243.8732797662,
          316118.48590011994,
          189608.4764189963,
          124669.23695299149,
          231539.6966341239,
          532707.7904265361,
          375850.4260440121,
          85080.44923935343,
          792314.9489367891,
          189678.04328199665,
          293256.360209445,
          668108.8923366925,
          244231.590880191,
          186890.12125355736,
          244555.16185099146,
          254375.7986098616,
          173351.16115439314,
          130287.9913163148,
          607763.5047631355,
          222067.80638005162,
          541977.5816853729,
          169044.70546710442,
          61119.25186396128,
          498722.8854330733,
          825606.0533882855,
          459606.29270347976,
          225581.92563306514,
          767925.8497362176,
          268038.6951560081,
          1355143.4565926057,
          449766.5177845803,
          282191.0387476096,
          741573.3808537619,
          616079.6318342907,
          -20244.619187215456,
          190726.31639537853,
          305048.33964969346,
          91459.4808826342,
          206576.28262179968,
          360147.0295638796,
          54611.38673161057,
          88441.20551548112,
          80868.73207161398,
          281373.6618710278,
          228788.20388972526,
          406419.29272378585,
          40029.50725146495,
          273950.2319912357,
          232402.43894776757,
          120562.09971648674,
          755369.8453473323,
          228903.86020828068,
          101457.11460133144,
          312493.6302687099,
          439094.6010392081,
          829577.2922844639,
          320283.81712136493,
          492304.26631573116,
          818140.9673064359,
          436492.8257864741,
          434467.2563782942,
          498722.8854330733,
          237173.96296767553,
          420209.70843245985,
          43507.73840327408,
          191954.86693136356,
          89324.293571369,
          469413.1183657886,
          103782.60429830039,
          160142.44556607492,
          1072220.2703814225,
          103168.87653662976,
          224397.80126566498,
          87241.35278694672,
          360147.0295638796,
          487485.2273259514,
          385290.01923007605,
          127633.27721594827,
          322958.9617658543,
          569241.877350779,
          182042.29631832687,
          350407.56232688174,
          206490.79949153075,
          356423.6505978546,
          437682.5767103555,
          454912.0323462484,
          260358.8153656873,
          273919.96259004826,
          110770.98244684679,
          307680.0657590734,
          276003.05872499157,
          749751.4130623795,
          1426419.486022642,
          1416495.114509773,
          256031.94284553904,
          361355.6847119732,
          824749.4952804688,
          344195.64747655956,
          438835.2753102025,
          685186.8636173297,
          223281.5408019578,
          564553.3227840279,
          819144.5793319383,
          343965.2704637222,
          274659.1447225428,
          487845.8690722417,
          593778.1416005866,
          490815.32389870076,
          124546.09382988497,
          652732.2854188887,
          409810.2435056615,
          324128.6594579407,
          456251.3565573129,
          223477.2192923344,
          122353.70967523543,
          667753.9646233398,
          610358.4051274278,
          96283.11773300596,
          62838.39825577427,
          125984.71674212144,
          642568.6550089328,
          1089738.2423690828,
          459885.4859641073,
          294605.16258268716,
          382333.1180030479,
          868087.8034681809,
          180650.52124142402,
          325671.1796263875,
          285593.4449966178,
          366461.5043516805,
          314783.9943308029,
          212913.60693544167,
          662774.1642518771,
          48337.192531150766,
          38589.96333184685,
          186716.78994532142,
          4309802.277923875,
          666374.037755495,
          342505.0176996246,
          475674.38805344934,
          233262.75071164305,
          454191.35564263246,
          535735.443129685,
          618167.366433212,
          123110.56736801252,
          60006.208153461164,
          155068.68135500196,
          103168.87653662976,
          606730.7053388238,
          1533900.3535070163,
          189881.22308784432,
          414125.6397205805,
          492746.74731141445,
          77722.85950725489,
          316157.0132728986,
          226626.95364804013,
          371872.11430706806,
          58449.57844210522,
          282191.0387476096,
          179786.71405983012,
          66099.31159653,
          526248.6601156216,
          623900.6852992027,
          482046.3311313804,
          149639.28259765153,
          264887.3594498826,
          313534.44204254507,
          83182.96394497031,
          1664103.3635876342,
          320951.9632444789,
          600589.5263746541,
          200992.6217939933,
          781330.5560249953,
          400156.6015630348,
          329902.4925887948,
          -22540.870358825294,
          777439.6563464665,
          611116.4379457996,
          87984.78810670442,
          8735.194271813123,
          80269.82037440517,
          571527.7627096113,
          174095.21957722385,
          206490.79949153075,
          350743.9788503469,
          515053.77617427654,
          459606.29270347976,
          203854.96306568754,
          770231.7990760786,
          38631.04285542733,
          126212.68875502811,
          223659.74283268192,
          195697.00108657355,
          206490.79949153075,
          372113.6544784037,
          408994.7605655856,
          566463.7979173262,
          112540.10852948029,
          251817.28188284667,
          233111.92335997213,
          986319.2272816789,
          733203.5655605149,
          878908.127399644,
          118751.55821008123,
          694600.216788243,
          777471.314373466,
          437080.43536425947,
          185242.43133008972,
          149639.28259765153,
          151312.89789249704,
          175297.85692702257,
          277879.9319060871,
          631497.8817765714,
          484032.9041778661,
          114669.84134913218,
          729348.5602218338,
          485597.6205799433,
          726509.2793530455,
          337006.9177557023,
          160157.4630680143,
          66642.44287699122,
          209707.94904310044,
          399524.3032021836,
          56274.191483432805,
          13261.452436068352,
          301801.91101345257,
          494070.4068872251,
          244197.7108943017,
          213034.62718358444,
          581476.4951308995,
          782611.8894811335,
          43375.59552730961,
          442708.9969825121,
          199094.4181895982,
          329902.4925887948,
          575700.6612779053,
          714196.534399561,
          617903.4980239588,
          737160.4109555857,
          218264.9825804596,
          256173.9534182039,
          119478.39462154884,
          649371.3029001295,
          66642.44287699122,
          351867.470449406,
          286828.1042899363,
          164802.3117683215,
          107772.15318874012,
          234101.79569541366,
          351861.1767963111,
          484262.40668441966,
          220898.98889252657,
          288162.55889663124,
          390174.329744664,
          286453.84622130974,
          679153.4172735697,
          344866.8768701052,
          221794.69546263182,
          104496.78824638699,
          770231.7990760786,
          356213.1729776652,
          626093.2656608104,
          239145.7318060897,
          225998.0829449255,
          113801.367205383,
          137305.63964884376,
          52587.69285619338,
          278368.0012777822,
          1071137.9759038447,
          375563.0456477465,
          248622.3572848099,
          670272.7595630079,
          133901.46796281674,
          642968.838420766,
          1172548.1081443757,
          1478723.3145734488,
          66099.31159653,
          489374.36191675893,
          243683.37697987372,
          757763.4592565334,
          553394.1548602406,
          250210.4853764442,
          164109.41168260324,
          174510.42621948154,
          386916.3063783656,
          1349362.6808003068,
          543740.153417179,
          265767.05907282216,
          1376509.4674928333,
          54611.38673161057,
          656476.3141736716,
          285829.3965222262,
          378797.3123293563,
          140175.66216327655,
          482041.4908583217,
          242956.6955310278,
          804684.1005832845,
          205559.2799658746,
          433800.75109152606,
          86573.30869287846,
          718937.3559693204,
          102784.46907945763,
          1412358.2222209105,
          106021.21275622383,
          315595.48203865765,
          245089.71799914434,
          269999.27852029627,
          122188.94927777247,
          116115.72178423802,
          779552.8316331727,
          530685.5891562947,
          1483271.4787649424,
          317018.3880426616,
          139426.40745621288,
          958870.9841312876,
          474646.71699459193,
          328826.68081053667,
          840198.7346795007,
          760092.0804910294,
          164715.28305789924,
          17679.17021088448,
          206347.241338724,
          188015.23853017445,
          403983.44873709534,
          388507.8428453725,
          729348.5602218338,
          62838.39825577427,
          100692.80766345449,
          284365.05793474196,
          221420.72845459686,
          884761.3094780665,
          722581.1363627929,
          152275.11902349474,
          246371.97407187437,
          330131.53810309124,
          95832.38422682138,
          538311.8574282608,
          299385.91691104753,
          592370.1261275143,
          394242.0318014431,
          807808.9345690644,
          343726.26301216916,
          1211863.7419927765,
          857194.6737496417,
          570437.6890892592,
          651456.9886627535,
          66065.05297142504,
          23660.034368780725,
          1441236.5149520382,
          168026.27423617506,
          556287.0980955584,
          236318.19806320715,
          494508.00626284984,
          426060.8831561954,
          482046.3311313804,
          1004755.3679647424,
          475995.2483556754,
          620654.0883532853,
          608198.4618892618,
          230652.61958646556,
          347355.7099593979,
          365901.111600248,
          500150.8431873496,
          706813.2408176325,
          563929.6869088212,
          52302.025036845385,
          873458.6011922742,
          80594.20089103638,
          661562.6107924668,
          237010.18123739088,
          189352.46231384642,
          1206983.680602591,
          434373.847974746,
          586197.5003197062,
          56773.32382830492,
          722196.7514546334,
          721475.0441329478,
          1434220.7854807696,
          92979.86243235756,
          241710.78701751342,
          45628.62168598175,
          291423.8859675387,
          760092.0804910294,
          66099.31159653,
          1378158.7635278073,
          1009512.3115803014,
          26846.345650403226,
          395207.3099163881,
          374628.25541975035,
          763538.6702418629,
          112982.87187837053,
          1292246.1058569767,
          240129.91390960547,
          511948.820038303,
          649837.0333195068,
          1042427.0238062583,
          55059.43157827044,
          329097.4776928583,
          907946.1828555447,
          177532.6572221789,
          1118205.1595190172,
          1089367.8464410214,
          295624.2484307733,
          327750.56249210757,
          15159.210690450447,
          1150107.2642355287,
          492172.2737841934,
          187619.9465665889,
          57493.77158305554,
          222992.95518044507,
          491277.17668732407,
          125461.47654697506,
          439094.6010392081,
          137539.82573743333,
          61123.68824436358,
          257917.23672601863,
          630688.2926453551,
          1014654.8592864346,
          580527.3709094464,
          265878.45654317224,
          236958.35463528032,
          66642.44287699122,
          245834.86979919957,
          20998.787693634327,
          729348.5602218338,
          318299.0955636078,
          66642.44287699122,
          925591.9094236209,
          760532.0940433671,
          663673.8688034263,
          291220.75398217456,
          122739.30796230455,
          103475.88850268441,
          971269.7041620596,
          211164.3042260332,
          207115.87640644322,
          1617024.82412615,
          331464.6176088602,
          1133285.2489334343,
          120773.56987386261,
          122353.70967523543,
          72756.78598775993,
          1057786.7451706694,
          268397.69835773617,
          12603.959473930307,
          252612.50652869573,
          845695.3250340405,
          305352.89244036126,
          1108763.5667790712,
          843191.3897841431,
          252109.0639996594,
          90811.27387088016,
          97652.39331621518,
          77844.66542512862,
          3219371.8309491086,
          321616.62969107914,
          66099.31159653,
          406388.60108999675,
          311731.6272050955,
          413698.60147250886,
          287795.8771875956,
          702033.3793744714,
          1293164.8584461496,
          1507639.5354011063,
          769267.8199112694,
          170286.849828973,
          586934.0867540919,
          357337.20965076826,
          236070.34886483257,
          507327.3442333778,
          65368.50736659547,
          79702.57273427768,
          227363.3237581923,
          711315.1152429711,
          669021.9956222094,
          611471.630585148,
          103726.37052678101,
          642267.0784900623,
          342786.5346225735,
          296809.37923336646,
          91459.4808826342,
          383431.5080063911,
          146365.80971477213,
          41036.21842743062,
          66099.31159653,
          494508.00626284984,
          1437919.574317493,
          461393.38980857085,
          326250.1619693559,
          1500395.9234875522,
          119717.87324939221,
          1300742.7872828417,
          1200957.54069721,
          85080.44923935343,
          1169681.8420410878,
          66297.88836103812,
          224118.2314749292,
          396404.52710992313,
          308669.7692267641,
          680646.7200313851,
          87841.82768678195,
          201416.77822461305,
          268416.2687743172,
          1319914.4054723438,
          66099.31159653,
          464028.4012224732,
          713211.7799276573,
          1030917.5761684739,
          133563.43990869372,
          213237.22633405353,
          515053.77617427654,
          628614.6102261695,
          565923.0722259602,
          39142.8494846326,
          764121.8051150007,
          300681.72702381166,
          642267.0784900623,
          116668.91354790259,
          364734.31710838655,
          553267.6230773723,
          444542.12805452856,
          126506.01174392457,
          1150157.4175650056,
          348169.57066270703,
          74040.62080391169,
          607483.055892616,
          -15585.076341444066,
          1661206.6776209925,
          92417.85034104287,
          258982.7296257536,
          518496.60759132274,
          488874.8986644481,
          201499.78853557984,
          309323.9427617281,
          154212.57927823096,
          189881.22308784432,
          102389.62622699811,
          958940.8670108812,
          1640290.0195469726,
          70619.97049069982,
          189881.22308784432,
          228903.86020828068,
          90054.6345506718,
          58449.57844210522,
          702408.5764208278,
          221005.89427736064,
          283330.6670765186,
          205229.02083766842,
          178046.9911366069,
          1064182.4953969503,
          268153.8021555715,
          1164772.2084525265,
          151568.07926149594,
          357224.71278827335,
          491466.097998563,
          726895.8178950417,
          350289.71779682615,
          298627.89039377565,
          635540.9800446051,
          360492.2009615711,
          1399705.9446388485,
          310120.84835607867,
          569309.5990133072,
          240320.8591051846,
          325458.01723803947,
          193164.1374391423,
          476906.026766985,
          705113.6136380486,
          133901.46796281674,
          816193.5365322963,
          50008.379332359065,
          714265.9238380374,
          829577.2922844639,
          249375.8380486778,
          670364.0131138981,
          224703.64280589484,
          275707.455505733,
          243736.13764603116,
          597299.3820257466,
          793225.9725273678,
          479258.3600468836,
          131734.73702711955,
          1390734.9824736335,
          722436.2322150172,
          257474.2351681842,
          558242.2356186253,
          600056.5344564365,
          1174761.6804073763,
          406419.29272378585,
          122125.73766232874,
          382864.3604205019,
          518777.69547063636,
          304774.3840734892,
          574754.6577239361,
          304434.48557611613,
          467913.69872970006,
          66099.31159653,
          468429.5121719695,
          193182.58525147554,
          1129172.3763086188,
          358482.96792024607,
          178994.46490338695,
          392530.70361390116,
          226416.1795034467,
          713571.4525895512,
          435065.06752532406,
          458232.44469664356,
          427834.5899417304,
          327491.46691501304,
          508901.76978763763,
          262048.92472047525,
          108129.74254331621,
          57476.22515351993,
          160834.79218913498,
          30276.2130772257,
          804504.69373353,
          125284.1882639973,
          209129.11712272288,
          385819.8310875172,
          721573.1923951636,
          308794.799701117,
          710859.8728667264,
          19124.0517086183,
          110283.05865782461,
          576494.0446014577,
          413689.8582939263,
          981394.3883463717,
          279883.17896200804,
          77722.85950725489,
          515053.77617427654,
          653766.5406423,
          104718.02794208715,
          274861.4243044422,
          725329.1754503349,
          1170091.2026897531,
          131158.91685879594,
          240861.54418219655,
          428006.2916669722,
          1216753.9470141958,
          99289.18930891326,
          124975.52358304996,
          69199.71644930357,
          633142.7540362548,
          408518.16582698165,
          17860.19859583791,
          298935.6686126911,
          682504.6626636761,
          200127.26243907993,
          367729.58987037593,
          523082.7120759945,
          1524080.6921670123,
          397891.22716978245,
          229121.648790914,
          213034.62718358444,
          12592.797213039052,
          184707.02297116976,
          440824.8901641253,
          426273.2870540358,
          66642.44287699122,
          69903.35621774693,
          1078484.4544929967,
          155613.18137405463,
          304484.6960458177,
          209751.71283228643,
          317094.99414624996,
          165762.65612326504,
          431288.6963547533,
          248126.9825081267,
          49937.42523095458,
          66575.56770300899,
          399580.19576336123,
          688840.680722293,
          344585.27922314894,
          243683.37697987372,
          186477.6652779694,
          84206.39140283942,
          652487.7844017956,
          315655.8728882349,
          467990.48000493477,
          720801.7984723983,
          1494785.9245428373,
          321779.11029252317,
          519436.56769684184,
          570175.4131714709,
          17679.17021088448,
          366461.5043516805,
          105129.99426741469,
          1139227.7362408014,
          442471.8139480826,
          190122.81033342428,
          215268.84787566378,
          1469434.977448195,
          61807.4153541883,
          437080.43536425947,
          1580565.0800385687,
          215996.4954637763,
          182014.40644123286,
          637129.1081362393,
          1622413.674025656,
          197731.70845323763,
          468335.41367217,
          640443.7400407398,
          106777.93159628838,
          48337.192531150766,
          817883.1555802556,
          121586.95957158388,
          182087.3958715896,
          792815.0376857703,
          328487.6200552686,
          124669.23695299149,
          1199373.8807479441,
          425013.5899170053,
          510322.2334810769,
          723696.959387642,
          224118.2314749292,
          129200.2969810826,
          86316.08560315505,
          1118009.6608779118,
          97452.17632632122,
          1041235.8643340485,
          814517.1264641965,
          156713.17545783988,
          994661.7883856165,
          302575.5950765273,
          334182.632999153,
          420147.4339424235,
          508134.3609323139,
          91625.57572671407,
          1042427.0238062583,
          315306.2348305881,
          300178.473889476,
          222450.2369756843,
          227590.5136513272,
          295416.8794097194,
          85443.61086817794,
          366997.2321938949,
          732060.1399446586,
          332082.57212530496,
          215587.4616845076,
          2600823.8035198683,
          439985.7205894485,
          177150.8776339869,
          184080.9535194782,
          216440.35703789166,
          70619.97049069982,
          664754.3168371528,
          19753.08395067818,
          1215361.8383679618,
          367730.8052240778,
          599033.5821210981,
          686437.6352546817,
          718082.0664530114,
          224708.8045532301,
          570688.6966247621,
          633964.1763116631,
          233945.1038066425,
          897483.4786945473,
          100132.60830827359,
          740701.9524726241,
          255650.0322491376,
          540375.8722565098,
          609714.5364004403,
          218000.35805426218,
          317843.89143325883,
          1442754.5270786707,
          804456.7079556619,
          153644.65617424916,
          459606.29270347976,
          351867.470449406,
          103347.16598633742,
          697495.2536435982,
          252037.6267038034,
          616079.6318342907,
          92862.12616544576,
          85950.44516095951,
          611116.4379457996,
          150845.36487144144,
          236172.60658967966,
          206490.79949153075,
          1332020.433878711,
          442332.7858129179,
          186716.78994532142,
          189138.91716050965,
          426499.37604620674,
          153339.45419388844,
          658538.880601229,
          778082.0473902514,
          567427.7832840065,
          228712.21340324692,
          338287.686270471,
          220997.4179677761,
          1446965.7417430151,
          723696.959387642,
          402964.47360658995,
          642267.0784900623,
          500150.8431873496,
          438302.066506279,
          62838.39825577427,
          782188.6680590159,
          251610.8210676511,
          190726.31639537853,
          787563.4236411445,
          66099.31159653,
          391419.17622840806,
          400156.6015630348,
          177610.75786606222,
          612548.8264470341,
          392270.5372112905,
          212924.45653948764,
          585008.593808998,
          280508.2952548297,
          22115.00470783165,
          179311.17816036596,
          282705.3726620376,
          202577.07610219807,
          481037.44631201046,
          342840.46493465017,
          372113.6544784037,
          536597.8197373311,
          582321.510428152,
          459151.5350462004,
          1191921.2299801516,
          506025.3533459026,
          611046.4191144336,
          372260.2402503006,
          525046.6850199291,
          401122.9022175972,
          600245.8572009064,
          561345.8627975747,
          139614.57128585305,
          119659.57663257743,
          73379.64951967887,
          511356.78285977844,
          178994.46490338695,
          132007.9374643082,
          473461.3552099505,
          359182.5601500621,
          621262.7520002716,
          404224.8701586693,
          51276.04204319075,
          855859.4598541182,
          332209.48973649414,
          125246.79126804379,
          502778.7877017664,
          1041693.2617678753,
          963021.2248512694,
          66099.31159653,
          90063.60611743583,
          518785.03239609394,
          419786.6889557356,
          1138602.920630853,
          120169.0231367878,
          382333.1180030479,
          587603.1418964453,
          393301.84160875506,
          102908.61321319029,
          1154232.2375311092,
          652744.345574317,
          -16983.705846459754,
          1152622.359424222,
          356597.870113289,
          653461.9527601283,
          799516.645946494,
          68710.97635666921,
          103168.87653662976,
          97733.675083094,
          728446.6856693744,
          175844.29456311575,
          434498.02188506204,
          82159.66834672993,
          758896.9749720767,
          372422.24621434533,
          122375.71068577771,
          925188.6542620534,
          206490.79949153075,
          783982.1523292441,
          1438302.1843610592,
          448339.78676751046,
          629669.0995122243,
          353474.5087203612,
          478759.11766314297,
          511543.5195342223,
          506324.0235912094,
          163791.58753854834,
          458232.44469664356,
          194171.6034423101,
          1606759.5261867328,
          82605.69607391788,
          244237.6474615581,
          720927.0920154504,
          645410.6495497766,
          17661.623781348866,
          629669.0995122243,
          -22268.31306263264,
          253144.16322426902,
          486682.2004754862,
          85818.80037081352,
          766821.584593161,
          769771.7335298174,
          66642.44287699122,
          420491.5426849342,
          4311602.558118929,
          144799.85622710502,
          470430.23311560537,
          597425.8439953732,
          203854.96306568754,
          566622.6492484893,
          38640.88105605352,
          31594.212173359978,
          250051.18631443943,
          482046.3311313804,
          66417.61876262526,
          995832.5575398732,
          210398.79075774123,
          446314.1796664127,
          265395.9111523166,
          782188.6680590159,
          866752.5895726574,
          113579.45442960101,
          558354.0290802466,
          316118.48590011994,
          120940.152834275,
          12056.430450518203,
          348242.1039734227,
          342279.122168319,
          189004.39158410433,
          1526415.3115523611,
          782188.6680590159,
          1031803.3258556005,
          81819.53589859772,
          408734.9270478823,
          1423246.2402483027,
          571651.4697012384,
          258278.2641492554,
          867296.763737208,
          306648.4901762411,
          562262.8135433963,
          375932.6904454555,
          556802.6633546544,
          662523.6794515491,
          515075.6569189368,
          465305.2588678629,
          421700.65714070195,
          726634.8512181082,
          210398.79075774123,
          405528.41847868473,
          225241.68947358045,
          1279982.6957454688,
          134022.7252975458,
          713012.5134060807,
          932636.2616403726,
          210666.9248171604,
          501454.1326195537,
          1100256.6407050004
         ],
         "yaxis": "y"
        }
       ],
       "layout": {
        "legend": {
         "tracegroupgap": 0
        },
        "shapes": [
         {
          "line": {
           "color": "gray",
           "dash": "dash"
          },
          "type": "line",
          "x0": 2004,
          "x1": 5740000,
          "y0": 2004,
          "y1": 5740000
         }
        ],
        "template": {
         "data": {
          "bar": [
           {
            "error_x": {
             "color": "#2a3f5f"
            },
            "error_y": {
             "color": "#2a3f5f"
            },
            "marker": {
             "line": {
              "color": "#E5ECF6",
              "width": 0.5
             },
             "pattern": {
              "fillmode": "overlay",
              "size": 10,
              "solidity": 0.2
             }
            },
            "type": "bar"
           }
          ],
          "barpolar": [
           {
            "marker": {
             "line": {
              "color": "#E5ECF6",
              "width": 0.5
             },
             "pattern": {
              "fillmode": "overlay",
              "size": 10,
              "solidity": 0.2
             }
            },
            "type": "barpolar"
           }
          ],
          "carpet": [
           {
            "aaxis": {
             "endlinecolor": "#2a3f5f",
             "gridcolor": "white",
             "linecolor": "white",
             "minorgridcolor": "white",
             "startlinecolor": "#2a3f5f"
            },
            "baxis": {
             "endlinecolor": "#2a3f5f",
             "gridcolor": "white",
             "linecolor": "white",
             "minorgridcolor": "white",
             "startlinecolor": "#2a3f5f"
            },
            "type": "carpet"
           }
          ],
          "choropleth": [
           {
            "colorbar": {
             "outlinewidth": 0,
             "ticks": ""
            },
            "type": "choropleth"
           }
          ],
          "contour": [
           {
            "colorbar": {
             "outlinewidth": 0,
             "ticks": ""
            },
            "colorscale": [
             [
              0,
              "#0d0887"
             ],
             [
              0.1111111111111111,
              "#46039f"
             ],
             [
              0.2222222222222222,
              "#7201a8"
             ],
             [
              0.3333333333333333,
              "#9c179e"
             ],
             [
              0.4444444444444444,
              "#bd3786"
             ],
             [
              0.5555555555555556,
              "#d8576b"
             ],
             [
              0.6666666666666666,
              "#ed7953"
             ],
             [
              0.7777777777777778,
              "#fb9f3a"
             ],
             [
              0.8888888888888888,
              "#fdca26"
             ],
             [
              1,
              "#f0f921"
             ]
            ],
            "type": "contour"
           }
          ],
          "contourcarpet": [
           {
            "colorbar": {
             "outlinewidth": 0,
             "ticks": ""
            },
            "type": "contourcarpet"
           }
          ],
          "heatmap": [
           {
            "colorbar": {
             "outlinewidth": 0,
             "ticks": ""
            },
            "colorscale": [
             [
              0,
              "#0d0887"
             ],
             [
              0.1111111111111111,
              "#46039f"
             ],
             [
              0.2222222222222222,
              "#7201a8"
             ],
             [
              0.3333333333333333,
              "#9c179e"
             ],
             [
              0.4444444444444444,
              "#bd3786"
             ],
             [
              0.5555555555555556,
              "#d8576b"
             ],
             [
              0.6666666666666666,
              "#ed7953"
             ],
             [
              0.7777777777777778,
              "#fb9f3a"
             ],
             [
              0.8888888888888888,
              "#fdca26"
             ],
             [
              1,
              "#f0f921"
             ]
            ],
            "type": "heatmap"
           }
          ],
          "heatmapgl": [
           {
            "colorbar": {
             "outlinewidth": 0,
             "ticks": ""
            },
            "colorscale": [
             [
              0,
              "#0d0887"
             ],
             [
              0.1111111111111111,
              "#46039f"
             ],
             [
              0.2222222222222222,
              "#7201a8"
             ],
             [
              0.3333333333333333,
              "#9c179e"
             ],
             [
              0.4444444444444444,
              "#bd3786"
             ],
             [
              0.5555555555555556,
              "#d8576b"
             ],
             [
              0.6666666666666666,
              "#ed7953"
             ],
             [
              0.7777777777777778,
              "#fb9f3a"
             ],
             [
              0.8888888888888888,
              "#fdca26"
             ],
             [
              1,
              "#f0f921"
             ]
            ],
            "type": "heatmapgl"
           }
          ],
          "histogram": [
           {
            "marker": {
             "pattern": {
              "fillmode": "overlay",
              "size": 10,
              "solidity": 0.2
             }
            },
            "type": "histogram"
           }
          ],
          "histogram2d": [
           {
            "colorbar": {
             "outlinewidth": 0,
             "ticks": ""
            },
            "colorscale": [
             [
              0,
              "#0d0887"
             ],
             [
              0.1111111111111111,
              "#46039f"
             ],
             [
              0.2222222222222222,
              "#7201a8"
             ],
             [
              0.3333333333333333,
              "#9c179e"
             ],
             [
              0.4444444444444444,
              "#bd3786"
             ],
             [
              0.5555555555555556,
              "#d8576b"
             ],
             [
              0.6666666666666666,
              "#ed7953"
             ],
             [
              0.7777777777777778,
              "#fb9f3a"
             ],
             [
              0.8888888888888888,
              "#fdca26"
             ],
             [
              1,
              "#f0f921"
             ]
            ],
            "type": "histogram2d"
           }
          ],
          "histogram2dcontour": [
           {
            "colorbar": {
             "outlinewidth": 0,
             "ticks": ""
            },
            "colorscale": [
             [
              0,
              "#0d0887"
             ],
             [
              0.1111111111111111,
              "#46039f"
             ],
             [
              0.2222222222222222,
              "#7201a8"
             ],
             [
              0.3333333333333333,
              "#9c179e"
             ],
             [
              0.4444444444444444,
              "#bd3786"
             ],
             [
              0.5555555555555556,
              "#d8576b"
             ],
             [
              0.6666666666666666,
              "#ed7953"
             ],
             [
              0.7777777777777778,
              "#fb9f3a"
             ],
             [
              0.8888888888888888,
              "#fdca26"
             ],
             [
              1,
              "#f0f921"
             ]
            ],
            "type": "histogram2dcontour"
           }
          ],
          "mesh3d": [
           {
            "colorbar": {
             "outlinewidth": 0,
             "ticks": ""
            },
            "type": "mesh3d"
           }
          ],
          "parcoords": [
           {
            "line": {
             "colorbar": {
              "outlinewidth": 0,
              "ticks": ""
             }
            },
            "type": "parcoords"
           }
          ],
          "pie": [
           {
            "automargin": true,
            "type": "pie"
           }
          ],
          "scatter": [
           {
            "fillpattern": {
             "fillmode": "overlay",
             "size": 10,
             "solidity": 0.2
            },
            "type": "scatter"
           }
          ],
          "scatter3d": [
           {
            "line": {
             "colorbar": {
              "outlinewidth": 0,
              "ticks": ""
             }
            },
            "marker": {
             "colorbar": {
              "outlinewidth": 0,
              "ticks": ""
             }
            },
            "type": "scatter3d"
           }
          ],
          "scattercarpet": [
           {
            "marker": {
             "colorbar": {
              "outlinewidth": 0,
              "ticks": ""
             }
            },
            "type": "scattercarpet"
           }
          ],
          "scattergeo": [
           {
            "marker": {
             "colorbar": {
              "outlinewidth": 0,
              "ticks": ""
             }
            },
            "type": "scattergeo"
           }
          ],
          "scattergl": [
           {
            "marker": {
             "colorbar": {
              "outlinewidth": 0,
              "ticks": ""
             }
            },
            "type": "scattergl"
           }
          ],
          "scattermapbox": [
           {
            "marker": {
             "colorbar": {
              "outlinewidth": 0,
              "ticks": ""
             }
            },
            "type": "scattermapbox"
           }
          ],
          "scatterpolar": [
           {
            "marker": {
             "colorbar": {
              "outlinewidth": 0,
              "ticks": ""
             }
            },
            "type": "scatterpolar"
           }
          ],
          "scatterpolargl": [
           {
            "marker": {
             "colorbar": {
              "outlinewidth": 0,
              "ticks": ""
             }
            },
            "type": "scatterpolargl"
           }
          ],
          "scatterternary": [
           {
            "marker": {
             "colorbar": {
              "outlinewidth": 0,
              "ticks": ""
             }
            },
            "type": "scatterternary"
           }
          ],
          "surface": [
           {
            "colorbar": {
             "outlinewidth": 0,
             "ticks": ""
            },
            "colorscale": [
             [
              0,
              "#0d0887"
             ],
             [
              0.1111111111111111,
              "#46039f"
             ],
             [
              0.2222222222222222,
              "#7201a8"
             ],
             [
              0.3333333333333333,
              "#9c179e"
             ],
             [
              0.4444444444444444,
              "#bd3786"
             ],
             [
              0.5555555555555556,
              "#d8576b"
             ],
             [
              0.6666666666666666,
              "#ed7953"
             ],
             [
              0.7777777777777778,
              "#fb9f3a"
             ],
             [
              0.8888888888888888,
              "#fdca26"
             ],
             [
              1,
              "#f0f921"
             ]
            ],
            "type": "surface"
           }
          ],
          "table": [
           {
            "cells": {
             "fill": {
              "color": "#EBF0F8"
             },
             "line": {
              "color": "white"
             }
            },
            "header": {
             "fill": {
              "color": "#C8D4E3"
             },
             "line": {
              "color": "white"
             }
            },
            "type": "table"
           }
          ]
         },
         "layout": {
          "annotationdefaults": {
           "arrowcolor": "#2a3f5f",
           "arrowhead": 0,
           "arrowwidth": 1
          },
          "autotypenumbers": "strict",
          "coloraxis": {
           "colorbar": {
            "outlinewidth": 0,
            "ticks": ""
           }
          },
          "colorscale": {
           "diverging": [
            [
             0,
             "#8e0152"
            ],
            [
             0.1,
             "#c51b7d"
            ],
            [
             0.2,
             "#de77ae"
            ],
            [
             0.3,
             "#f1b6da"
            ],
            [
             0.4,
             "#fde0ef"
            ],
            [
             0.5,
             "#f7f7f7"
            ],
            [
             0.6,
             "#e6f5d0"
            ],
            [
             0.7,
             "#b8e186"
            ],
            [
             0.8,
             "#7fbc41"
            ],
            [
             0.9,
             "#4d9221"
            ],
            [
             1,
             "#276419"
            ]
           ],
           "sequential": [
            [
             0,
             "#0d0887"
            ],
            [
             0.1111111111111111,
             "#46039f"
            ],
            [
             0.2222222222222222,
             "#7201a8"
            ],
            [
             0.3333333333333333,
             "#9c179e"
            ],
            [
             0.4444444444444444,
             "#bd3786"
            ],
            [
             0.5555555555555556,
             "#d8576b"
            ],
            [
             0.6666666666666666,
             "#ed7953"
            ],
            [
             0.7777777777777778,
             "#fb9f3a"
            ],
            [
             0.8888888888888888,
             "#fdca26"
            ],
            [
             1,
             "#f0f921"
            ]
           ],
           "sequentialminus": [
            [
             0,
             "#0d0887"
            ],
            [
             0.1111111111111111,
             "#46039f"
            ],
            [
             0.2222222222222222,
             "#7201a8"
            ],
            [
             0.3333333333333333,
             "#9c179e"
            ],
            [
             0.4444444444444444,
             "#bd3786"
            ],
            [
             0.5555555555555556,
             "#d8576b"
            ],
            [
             0.6666666666666666,
             "#ed7953"
            ],
            [
             0.7777777777777778,
             "#fb9f3a"
            ],
            [
             0.8888888888888888,
             "#fdca26"
            ],
            [
             1,
             "#f0f921"
            ]
           ]
          },
          "colorway": [
           "#636efa",
           "#EF553B",
           "#00cc96",
           "#ab63fa",
           "#FFA15A",
           "#19d3f3",
           "#FF6692",
           "#B6E880",
           "#FF97FF",
           "#FECB52"
          ],
          "font": {
           "color": "#2a3f5f"
          },
          "geo": {
           "bgcolor": "white",
           "lakecolor": "white",
           "landcolor": "#E5ECF6",
           "showlakes": true,
           "showland": true,
           "subunitcolor": "white"
          },
          "hoverlabel": {
           "align": "left"
          },
          "hovermode": "closest",
          "mapbox": {
           "style": "light"
          },
          "paper_bgcolor": "white",
          "plot_bgcolor": "#E5ECF6",
          "polar": {
           "angularaxis": {
            "gridcolor": "white",
            "linecolor": "white",
            "ticks": ""
           },
           "bgcolor": "#E5ECF6",
           "radialaxis": {
            "gridcolor": "white",
            "linecolor": "white",
            "ticks": ""
           }
          },
          "scene": {
           "xaxis": {
            "backgroundcolor": "#E5ECF6",
            "gridcolor": "white",
            "gridwidth": 2,
            "linecolor": "white",
            "showbackground": true,
            "ticks": "",
            "zerolinecolor": "white"
           },
           "yaxis": {
            "backgroundcolor": "#E5ECF6",
            "gridcolor": "white",
            "gridwidth": 2,
            "linecolor": "white",
            "showbackground": true,
            "ticks": "",
            "zerolinecolor": "white"
           },
           "zaxis": {
            "backgroundcolor": "#E5ECF6",
            "gridcolor": "white",
            "gridwidth": 2,
            "linecolor": "white",
            "showbackground": true,
            "ticks": "",
            "zerolinecolor": "white"
           }
          },
          "shapedefaults": {
           "line": {
            "color": "#2a3f5f"
           }
          },
          "ternary": {
           "aaxis": {
            "gridcolor": "white",
            "linecolor": "white",
            "ticks": ""
           },
           "baxis": {
            "gridcolor": "white",
            "linecolor": "white",
            "ticks": ""
           },
           "bgcolor": "#E5ECF6",
           "caxis": {
            "gridcolor": "white",
            "linecolor": "white",
            "ticks": ""
           }
          },
          "title": {
           "x": 0.05
          },
          "xaxis": {
           "automargin": true,
           "gridcolor": "white",
           "linecolor": "white",
           "ticks": "",
           "title": {
            "standoff": 15
           },
           "zerolinecolor": "white",
           "zerolinewidth": 2
          },
          "yaxis": {
           "automargin": true,
           "gridcolor": "white",
           "linecolor": "white",
           "ticks": "",
           "title": {
            "standoff": 15
           },
           "zerolinecolor": "white",
           "zerolinewidth": 2
          }
         }
        },
        "title": {
         "text": "Actual vs Predicted Views",
         "x": 0.5,
         "xanchor": "center",
         "y": 0.85,
         "yanchor": "top"
        },
        "width": 600,
        "xaxis": {
         "anchor": "y",
         "domain": [
          0,
          1
         ],
         "title": {
          "text": "Actual Views"
         }
        },
        "yaxis": {
         "anchor": "x",
         "domain": [
          0,
          1
         ],
         "title": {
          "text": "Predicted Views"
         }
        }
       }
      }
     },
     "metadata": {},
     "output_type": "display_data"
    }
   ],
   "source": [
    "import plotly.express as px\n",
    "\n",
    "fig = px.scatter(x=y_test, y=predicted , labels={'x': 'Actual Views', 'y': 'Predicted Views'},\n",
    "                 title='Actual vs Predicted Views', width=600, color_discrete_sequence=['#1f77b4'], opacity=0.7)\n",
    "fig.add_shape(type='line', \n",
    "              x0=y_test.min(), y0=y_test.min(), \n",
    "              x1=y_test.max(), y1=y_test.max(),\n",
    "              line=dict(color='gray', dash='dash'))\n",
    "fig.update_layout(\n",
    "    title={\n",
    "        'y':0.85,  # 標題在垂直方向的位置\n",
    "        'x':0.5,  # 標題在水平方向的位置\n",
    "        'xanchor': 'center',  # 確保標題的中心在 x 的位置\n",
    "        'yanchor': 'top'      # 確保標題的底部在 y 的位置\n",
    "    })\n",
    "\n",
    "fig.show()"
   ]
  },
  {
   "cell_type": "code",
   "execution_count": null,
   "metadata": {},
   "outputs": [],
   "source": []
  }
 ],
 "metadata": {
  "kernelspec": {
   "display_name": "base",
   "language": "python",
   "name": "python3"
  },
  "language_info": {
   "codemirror_mode": {
    "name": "ipython",
    "version": 3
   },
   "file_extension": ".py",
   "mimetype": "text/x-python",
   "name": "python",
   "nbconvert_exporter": "python",
   "pygments_lexer": "ipython3",
   "version": "3.9.13"
  }
 },
 "nbformat": 4,
 "nbformat_minor": 2
}
